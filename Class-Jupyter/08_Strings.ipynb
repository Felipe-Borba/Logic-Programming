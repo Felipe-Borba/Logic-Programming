{
 "cells": [
  {
   "cell_type": "markdown",
   "id": "15d5f32b",
   "metadata": {
    "slideshow": {
     "slide_type": "slide"
    }
   },
   "source": [
    "<div style=\"text-align: center\"> <h1> \n",
    "Strings\n",
    "    </h1> </div>"
   ]
  },
  {
   "cell_type": "markdown",
   "id": "e00c889a",
   "metadata": {
    "slideshow": {
     "slide_type": "subslide"
    }
   },
   "source": [
    "Strings não são como números inteiros, de ponto flutuante ou booleanos. Uma string é\n",
    "uma sequência, ou seja, uma coleção ordenada de outros valores. Vamos verificar\n",
    "como acessar os caracteres que compõem uma string e aprenderá alguns métodos que as\n",
    "strings oferecem."
   ]
  },
  {
   "cell_type": "markdown",
   "id": "fe474443",
   "metadata": {
    "slideshow": {
     "slide_type": "slide"
    }
   },
   "source": [
    "<div style=\"text-align: center\"> <h2> \n",
    "Uma string é uma sequência\n",
    "    </h2> </div>"
   ]
  },
  {
   "cell_type": "markdown",
   "id": "cf3cc30d",
   "metadata": {
    "slideshow": {
     "slide_type": "subslide"
    }
   },
   "source": [
    "Uma string é uma sequência de caracteres. Você pode acessar um caractere de cada vez\n",
    "com o operador de colchete:"
   ]
  },
  {
   "cell_type": "code",
   "execution_count": null,
   "id": "f5e1a563",
   "metadata": {
    "slideshow": {
     "slide_type": "fragment"
    }
   },
   "outputs": [],
   "source": [
    "fruit = 'banana'"
   ]
  },
  {
   "cell_type": "code",
   "execution_count": null,
   "id": "d370a21e",
   "metadata": {
    "slideshow": {
     "slide_type": "fragment"
    }
   },
   "outputs": [],
   "source": [
    "\"\"\"A expressão entre colchetes chama-se índice. O índice aponta qual caractere da sequência\n",
    "você quer (daí o nome).\"\"\"\n",
    "letter = fruit[1]"
   ]
  },
  {
   "cell_type": "code",
   "execution_count": null,
   "id": "cfacf039",
   "metadata": {
    "slideshow": {
     "slide_type": "fragment"
    }
   },
   "outputs": [],
   "source": [
    "letter"
   ]
  },
  {
   "cell_type": "markdown",
   "id": "74ba91a2",
   "metadata": {
    "slideshow": {
     "slide_type": "slide"
    }
   },
   "source": [
    "Para a maior parte das pessoas, a primeira letra de ‘banana’ é b, não a. Mas para os\n",
    "cientistas da computação, o índice é uma referência do começo da string, e a referência da\n",
    "primeira letra é zero."
   ]
  },
  {
   "cell_type": "code",
   "execution_count": null,
   "id": "ce33f439",
   "metadata": {
    "slideshow": {
     "slide_type": "fragment"
    }
   },
   "outputs": [],
   "source": [
    "letter = fruit[0]"
   ]
  },
  {
   "cell_type": "code",
   "execution_count": null,
   "id": "e8911eec",
   "metadata": {
    "slideshow": {
     "slide_type": "fragment"
    }
   },
   "outputs": [],
   "source": [
    "letter"
   ]
  },
  {
   "cell_type": "code",
   "execution_count": null,
   "id": "f890d4e4",
   "metadata": {
    "slideshow": {
     "slide_type": "fragment"
    }
   },
   "outputs": [],
   "source": [
    "i = 0\n",
    "fruit[i]"
   ]
  },
  {
   "cell_type": "code",
   "execution_count": null,
   "id": "1f601282",
   "metadata": {
    "slideshow": {
     "slide_type": "fragment"
    }
   },
   "outputs": [],
   "source": [
    "fruit[i+1]"
   ]
  },
  {
   "cell_type": "markdown",
   "id": "e0591a47",
   "metadata": {
    "slideshow": {
     "slide_type": "subslide"
    }
   },
   "source": [
    "Tente adicionar racional"
   ]
  },
  {
   "cell_type": "code",
   "execution_count": null,
   "id": "fa89a1e3",
   "metadata": {
    "slideshow": {
     "slide_type": "fragment"
    }
   },
   "outputs": [],
   "source": [
    "fruit[i+0.5]"
   ]
  },
  {
   "cell_type": "markdown",
   "id": "7b5b7e12",
   "metadata": {
    "slideshow": {
     "slide_type": "slide"
    }
   },
   "source": [
    "<div style=\"text-align: center\"> <h2> \n",
    "len\n",
    "    </h2> </div>"
   ]
  },
  {
   "cell_type": "markdown",
   "id": "9b5cb76e",
   "metadata": {
    "slideshow": {
     "slide_type": "subslide"
    }
   },
   "source": [
    "len é uma função integrada que devolve o número de caracteres em uma string:"
   ]
  },
  {
   "cell_type": "code",
   "execution_count": null,
   "id": "b021d5fe",
   "metadata": {
    "slideshow": {
     "slide_type": "fragment"
    }
   },
   "outputs": [],
   "source": [
    "fruit = 'banana'\n",
    "len(fruit)"
   ]
  },
  {
   "cell_type": "markdown",
   "id": "425d8f56",
   "metadata": {
    "slideshow": {
     "slide_type": "subslide"
    }
   },
   "source": [
    "Para obter a última letra de uma string, pode parecer uma boa ideia tentar algo assim"
   ]
  },
  {
   "cell_type": "code",
   "execution_count": null,
   "id": "c4d66b6b",
   "metadata": {
    "slideshow": {
     "slide_type": "fragment"
    }
   },
   "outputs": [],
   "source": [
    "length = len(fruit)\n",
    "last = fruit[length]"
   ]
  },
  {
   "cell_type": "markdown",
   "id": "8b155435",
   "metadata": {
    "slideshow": {
     "slide_type": "subslide"
    }
   },
   "source": [
    "A razão de haver um IndexError aqui é que não há nenhuma letra em ‘banana’ com o\n",
    "índice 6. Como a contagem inicia no zero, as seis letras são numeradas de 0 a 5. Para obter\n",
    "o último caractere, você deve subtrair 1 de length:"
   ]
  },
  {
   "cell_type": "code",
   "execution_count": null,
   "id": "5fb13093",
   "metadata": {
    "slideshow": {
     "slide_type": "fragment"
    }
   },
   "outputs": [],
   "source": [
    "last = fruit[length-1]\n",
    "last"
   ]
  },
  {
   "cell_type": "markdown",
   "id": "73806c59",
   "metadata": {
    "slideshow": {
     "slide_type": "fragment"
    }
   },
   "source": [
    "Ou você pode usar índices negativos, que contam de trás para a frente a partir do fim da\n",
    "string. A expressão fruit[-1] apresenta a última letra, fruit[-2] apresenta a segunda letra de\n",
    "trás para a frente, e assim por diante."
   ]
  },
  {
   "cell_type": "markdown",
   "id": "bf935d64",
   "metadata": {
    "slideshow": {
     "slide_type": "slide"
    }
   },
   "source": [
    "<div style=\"text-align: center\"> <h2> \n",
    "Travessia com loop for\n",
    "    </h2> </div>"
   ]
  },
  {
   "cell_type": "markdown",
   "id": "d2d07727",
   "metadata": {
    "slideshow": {
     "slide_type": "subslide"
    }
   },
   "source": [
    "Muitos cálculos implicam o processamento de um caractere por vez em uma string.\n",
    "Muitas vezes começam no início, selecionam um caractere por vez, fazem algo e\n",
    "continuam até o fim. Este modelo do processamento chama-se travessia. Um modo de\n",
    "escrever uma travessia é com o loop while:"
   ]
  },
  {
   "cell_type": "code",
   "execution_count": null,
   "id": "3e37950f",
   "metadata": {
    "slideshow": {
     "slide_type": "fragment"
    }
   },
   "outputs": [],
   "source": [
    "index = 0\n",
    "while index < len(fruit):\n",
    "    letter = fruit[index]\n",
    "    print(letter)\n",
    "    index = index + 1"
   ]
  },
  {
   "cell_type": "markdown",
   "id": "42dd1a8a",
   "metadata": {
    "slideshow": {
     "slide_type": "subslide"
    }
   },
   "source": [
    "Este loop atravessa a string e exibe cada letra sozinha em uma linha. A condição do loop é\n",
    "index <len (fruit), então quando index é igual ao comprimento da string, a condição é falsa\n",
    "e o corpo do loop não é mais executado. O último caractere acessado é aquele com o\n",
    "índice len (fruit)-1, que é o último caractere na string."
   ]
  },
  {
   "cell_type": "markdown",
   "id": "6fca06f1",
   "metadata": {
    "slideshow": {
     "slide_type": "fragment"
    }
   },
   "source": [
    "Como exercício, escreva uma função que receba uma string como argumento e exiba as\n",
    "letras de trás para a frente, uma por linha."
   ]
  },
  {
   "cell_type": "code",
   "execution_count": null,
   "id": "fe3f6db7",
   "metadata": {
    "slideshow": {
     "slide_type": "subslide"
    }
   },
   "outputs": [],
   "source": [
    "palavra = input(\"Digite uma palavra: \")\n",
    "index = 0\n",
    "while index < len(palavra):\n",
    "    invertida = len(palavra) - 1\n",
    "    letter = palavra[index - invertida]\n",
    "    print(letter)\n",
    "    index = index + 1"
   ]
  },
  {
   "cell_type": "code",
   "execution_count": null,
   "id": "b1ca45c9",
   "metadata": {
    "slideshow": {
     "slide_type": "subslide"
    }
   },
   "outputs": [],
   "source": [
    "\"\"\"Outra forma de escrever uma travessia é com um loop for:\"\"\"\n",
    "for letter in fruit:\n",
    "    print(letter)"
   ]
  },
  {
   "cell_type": "markdown",
   "id": "aafcb39e",
   "metadata": {
    "slideshow": {
     "slide_type": "fragment"
    }
   },
   "source": [
    "<div style=\"text-align: left\"><p><strong>Atenção</strong><br>\n",
    "O próximo exemplo mostra como usar a concatenação (adição de strings) e um loop for\n",
    "para gerar uma série abecedária (isto é, em ordem alfabética).Podemos criar nomes como Jack, Kack, Lack, Mack, Nack e Pack. Este loop produz estes\n",
    "nomes em ordem:\n",
    "    \n",
    "</div>"
   ]
  },
  {
   "cell_type": "code",
   "execution_count": null,
   "id": "b3d67bb1",
   "metadata": {
    "slideshow": {
     "slide_type": "subslide"
    }
   },
   "outputs": [],
   "source": [
    "prefixes = 'JKLMNP'\n",
    "suffix = 'ack'\n",
    "for letter in prefixes:\n",
    "    print(letter + suffix)"
   ]
  },
  {
   "cell_type": "markdown",
   "id": "3b68beea",
   "metadata": {
    "slideshow": {
     "slide_type": "slide"
    }
   },
   "source": [
    "<div style=\"text-align: center\"><p><h2>Fatiamento de strings</h2><br></p></div>"
   ]
  },
  {
   "cell_type": "markdown",
   "id": "c4cf4955",
   "metadata": {
    "slideshow": {
     "slide_type": "subslide"
    }
   },
   "source": [
    "Um segmento de uma string é chamado de fatia. Selecionar uma fatia é como selecionar\n",
    "um caractere:"
   ]
  },
  {
   "cell_type": "code",
   "execution_count": null,
   "id": "77b641c4",
   "metadata": {
    "slideshow": {
     "slide_type": "fragment"
    }
   },
   "outputs": [],
   "source": [
    "s = 'Monty Python'\n",
    "s[0:5]"
   ]
  },
  {
   "cell_type": "code",
   "execution_count": null,
   "id": "cf3738eb",
   "metadata": {
    "slideshow": {
     "slide_type": "fragment"
    }
   },
   "outputs": [],
   "source": [
    "s[6:12]"
   ]
  },
  {
   "cell_type": "markdown",
   "id": "9be84bf5",
   "metadata": {
    "slideshow": {
     "slide_type": "subslide"
    }
   },
   "source": [
    "O operador [n:m] retorna a parte da string do “enésimo” caractere ao “emésimo”\n",
    "caractere, incluindo o primeiro, mas excluindo o último. Este comportamento é\n",
    "contraintuitivo, porém pode ajudar a imaginar os índices que indicam a parte entre os\n",
    "caracteres."
   ]
  },
  {
   "cell_type": "code",
   "execution_count": null,
   "id": "ddb7331a",
   "metadata": {
    "slideshow": {
     "slide_type": "fragment"
    }
   },
   "outputs": [],
   "source": [
    "fruit = \"banana\"\n",
    "fruit[:3]"
   ]
  },
  {
   "cell_type": "code",
   "execution_count": null,
   "id": "c8378f2b",
   "metadata": {
    "slideshow": {
     "slide_type": "fragment"
    }
   },
   "outputs": [],
   "source": [
    "fruit[3:]"
   ]
  },
  {
   "cell_type": "code",
   "execution_count": null,
   "id": "41f50fd0",
   "metadata": {
    "slideshow": {
     "slide_type": "fragment"
    }
   },
   "outputs": [],
   "source": [
    "\"\"\"Se o primeiro índice for maior ou igual ao segundo, o resultado é uma string vazia,\n",
    "representada por duas aspas:\"\"\"\n",
    "fruit[3:3]"
   ]
  },
  {
   "cell_type": "markdown",
   "id": "39f5fe22",
   "metadata": {
    "slideshow": {
     "slide_type": "subslide"
    }
   },
   "source": [
    "Uma string vazia não contém nenhum caractere e tem o comprimento 0, fora isso, é igual\n",
    "a qualquer outra string."
   ]
  },
  {
   "cell_type": "markdown",
   "id": "68fdca15",
   "metadata": {
    "slideshow": {
     "slide_type": "fragment"
    }
   },
   "source": [
    "Continuando este exemplo, o que você acha que fruit[:] significa? Teste e veja."
   ]
  },
  {
   "cell_type": "code",
   "execution_count": null,
   "id": "920a52ab",
   "metadata": {
    "slideshow": {
     "slide_type": "fragment"
    }
   },
   "outputs": [],
   "source": [
    "fruit[:]"
   ]
  },
  {
   "cell_type": "markdown",
   "id": "0d1e547c",
   "metadata": {
    "slideshow": {
     "slide_type": "slide"
    }
   },
   "source": [
    "<div style=\"text-align: center\"><p><h2>Strings são imutáveis</h2><br></p></div>"
   ]
  },
  {
   "cell_type": "markdown",
   "id": "28a223af",
   "metadata": {
    "slideshow": {
     "slide_type": "subslide"
    }
   },
   "source": [
    "É tentador usar o operador [] no lado esquerdo de uma atribuição, com a intenção de\n",
    "alterar um caractere em uma string. Por exemplo:"
   ]
  },
  {
   "cell_type": "code",
   "execution_count": null,
   "id": "858ccf61",
   "metadata": {
    "slideshow": {
     "slide_type": "fragment"
    }
   },
   "outputs": [],
   "source": [
    "greeting = 'Hello, world!'\n",
    "greeting[0] = 'J'"
   ]
  },
  {
   "cell_type": "markdown",
   "id": "e9b30bfa",
   "metadata": {
    "slideshow": {
     "slide_type": "subslide"
    }
   },
   "source": [
    "O “objeto” neste caso é a string e o “item” é o caractere que você tentou atribuir. \n",
    "A razão do erro é que as strings são imutáveis, o que significa que você não pode alterar\n",
    "uma string existente."
   ]
  },
  {
   "cell_type": "code",
   "execution_count": null,
   "id": "eed4c208",
   "metadata": {
    "slideshow": {
     "slide_type": "fragment"
    }
   },
   "outputs": [],
   "source": [
    "\"\"\"O melhor que você pode fazer é criar uma string que seja uma\n",
    "variação da original:\"\"\"\n",
    "greeting = 'Hello, world!'\n",
    "new_greeting = 'J' + greeting[1:]\n",
    "new_greeting"
   ]
  },
  {
   "cell_type": "markdown",
   "id": "e75c14b6",
   "metadata": {
    "slideshow": {
     "slide_type": "fragment"
    }
   },
   "source": [
    "Esse exemplo concatena uma nova primeira letra a uma fatia de greeting. Não tem efeito\n",
    "sobre a string original."
   ]
  },
  {
   "cell_type": "markdown",
   "id": "21d07999",
   "metadata": {
    "slideshow": {
     "slide_type": "slide"
    }
   },
   "source": [
    "<div style=\"text-align: center\"><p><h2>Buscando</h2><br></p></div>"
   ]
  },
  {
   "cell_type": "code",
   "execution_count": null,
   "id": "13c56f98",
   "metadata": {
    "slideshow": {
     "slide_type": "fragment"
    }
   },
   "outputs": [],
   "source": [
    "\"\"\"O que faz a seguinte função?\"\"\"\n",
    "def find(word, letter):\n",
    "    index = 0\n",
    "    while index < len(word):\n",
    "        if word[index] == letter:\n",
    "            return index\n",
    "        index = index + 1\n",
    "    return-1"
   ]
  },
  {
   "cell_type": "code",
   "execution_count": null,
   "id": "1a124263",
   "metadata": {
    "slideshow": {
     "slide_type": "fragment"
    }
   },
   "outputs": [],
   "source": [
    "find('banana','n')"
   ]
  },
  {
   "cell_type": "markdown",
   "id": "3c890d52",
   "metadata": {
    "slideshow": {
     "slide_type": "subslide"
    }
   },
   "source": [
    "De certo modo, find é o inverso do operador []. Em vez de tomar um índice e extrair o\n",
    "caractere correspondente, ele toma um caractere e encontra o índice onde aquele caractere\n",
    "aparece. Se o caractere não for encontrado, a função retorna -1.\n",
    "Esse é o primeiro exemplo que vimos de uma instrução return dentro de um loop. Se\n",
    "word[index] == letter, a função sai do loop e retorna imediatamente.\n",
    "Se o caractere não aparecer na string, o programa sai do loop normalmente e devolve -1.\n",
    "Este modelo de cálculo – atravessar uma sequência e retornar quando encontramos o que\n",
    "estamos procurando – chama-se busca."
   ]
  },
  {
   "cell_type": "markdown",
   "id": "5dc7e0f1",
   "metadata": {
    "slideshow": {
     "slide_type": "slide"
    }
   },
   "source": [
    "<div style=\"text-align: center\"><p><h2>Loop e contagem</h2><br></p></div>"
   ]
  },
  {
   "cell_type": "code",
   "execution_count": null,
   "id": "4ffab69a",
   "metadata": {
    "slideshow": {
     "slide_type": "fragment"
    }
   },
   "outputs": [],
   "source": [
    "\"\"\"O seguinte programa conta o número de vezes que a letra a aparece em uma string:\"\"\"\n",
    "word = 'banana'\n",
    "count = 0\n",
    "for letter in word:\n",
    "    if letter == 'a':\n",
    "        count = count + 1\n",
    "print(count)"
   ]
  },
  {
   "cell_type": "markdown",
   "id": "10d06150",
   "metadata": {
    "slideshow": {
     "slide_type": "subslide"
    }
   },
   "source": [
    "Este programa demonstra outro padrão de computação chamado contador. A variável\n",
    "count é inicializada com 0 e então incrementada cada vez que um a é encontrado. Ao sair\n",
    "do loop, count contém o resultado – o número total de letras 'a'."
   ]
  },
  {
   "cell_type": "markdown",
   "id": "5aa8353f",
   "metadata": {
    "slideshow": {
     "slide_type": "slide"
    }
   },
   "source": [
    "<div style=\"text-align: center\"><p><h2>Métodos de strings</h2><br></p></div>"
   ]
  },
  {
   "cell_type": "code",
   "execution_count": null,
   "id": "41cda5b5",
   "metadata": {
    "slideshow": {
     "slide_type": "subslide"
    }
   },
   "outputs": [],
   "source": [
    "\"\"\"As strings oferecem métodos que executam várias operações úteis. Um método é\n",
    "semelhante a uma função – toma argumentos e devolve um valor –, mas a sintaxe é\n",
    "diferente. Por exemplo, o método upper recebe uma string e devolve uma nova string com\n",
    "todas as letras maiúsculas.\n",
    "Em vez da sintaxe de função upper(word), ela usa a sintaxe de método word.upper():\"\"\"\n",
    "word = 'banana'\n",
    "new_word = word.upper()\n",
    "new_word"
   ]
  },
  {
   "cell_type": "code",
   "execution_count": null,
   "id": "a108e419",
   "metadata": {
    "slideshow": {
     "slide_type": "fragment"
    }
   },
   "outputs": [],
   "source": [
    "new_word2 = new_word.lower()\n",
    "new_word2\n",
    "new_word3 = \"Eu gosto de frutas\""
   ]
  },
  {
   "cell_type": "code",
   "execution_count": null,
   "id": "16fd23e6",
   "metadata": {
    "slideshow": {
     "slide_type": "subslide"
    }
   },
   "outputs": [],
   "source": [
    "# Dividir uma string por espaços em branco (padrão)\n",
    "new_word3.split()"
   ]
  },
  {
   "cell_type": "code",
   "execution_count": null,
   "id": "6afb5bd7",
   "metadata": {
    "slideshow": {
     "slide_type": "fragment"
    }
   },
   "outputs": [],
   "source": [
    "# Dividir uma string por um elemento específico\n",
    "new_word3.split('a')"
   ]
  },
  {
   "cell_type": "code",
   "execution_count": null,
   "id": "c470507a",
   "metadata": {
    "slideshow": {
     "slide_type": "subslide"
    }
   },
   "outputs": [],
   "source": [
    "\"\"\"Esta forma de notação de ponto especifica o nome do método, upper e o nome da string,\n",
    "word, à qual o método será aplicado. Os parênteses vazios indicam que este método não\n",
    "toma nenhum argumento.\n",
    "Uma chamada de método denomina-se invocação; neste caso, diríamos que estamos\n",
    "invocando upper em word.\n",
    "E, na verdade, há um método de string denominado find, que é notavelmente semelhante\n",
    "à função que escrevemos:\"\"\"\n",
    "word = 'banana'\n",
    "index = word.find('a')\n",
    "index"
   ]
  },
  {
   "cell_type": "code",
   "execution_count": null,
   "id": "696357d8",
   "metadata": {
    "slideshow": {
     "slide_type": "subslide"
    }
   },
   "outputs": [],
   "source": [
    "\"\"\"Neste exemplo, invocamos find em word e passamos a letra que estamos procurando\n",
    "como um parâmetro.\n",
    "Na verdade, o método find é mais geral que a nossa função; ele pode encontrar\n",
    "substrings, não apenas caracteres:\"\"\"\n",
    "word.find('na')"
   ]
  },
  {
   "cell_type": "code",
   "execution_count": null,
   "id": "f08aaf20",
   "metadata": {
    "slideshow": {
     "slide_type": "fragment"
    }
   },
   "outputs": [],
   "source": [
    "\"\"\"Por padrão, find inicia no começo da string, mas pode receber um segundo argumento, o\n",
    "índice onde deve começar:\"\"\"\n",
    "word.find('na', 3)"
   ]
  },
  {
   "cell_type": "code",
   "execution_count": null,
   "id": "c9c8a7ab",
   "metadata": {
    "slideshow": {
     "slide_type": "subslide"
    }
   },
   "outputs": [],
   "source": [
    "\"\"\"Este é um exemplo de um argumento opcional. find também pode receber um terceiro\n",
    "argumento, o índice para onde deve parar:\"\"\"\n",
    "name = 'bob'\n",
    "name.find('b', 1, 2)"
   ]
  },
  {
   "cell_type": "markdown",
   "id": "e18029d0",
   "metadata": {
    "slideshow": {
     "slide_type": "fragment"
    }
   },
   "source": [
    "Esta busca falha porque 'b' não aparece no intervalo do índice de 1 a 2, não incluindo 2.\n",
    "Fazer buscas até (mas não incluindo) o segundo índice torna find similar ao operador de\n",
    "fatiamento."
   ]
  },
  {
   "cell_type": "markdown",
   "id": "db1e7422",
   "metadata": {
    "slideshow": {
     "slide_type": "slide"
    }
   },
   "source": [
    "<div style=\"text-align: center\"><p><h2>Operador in</h2><br></p></div>"
   ]
  },
  {
   "cell_type": "code",
   "execution_count": null,
   "id": "d23e697a",
   "metadata": {
    "slideshow": {
     "slide_type": "fragment"
    }
   },
   "outputs": [],
   "source": [
    "\"\"\"A palavra in é um operador booleano que recebe duas strings e retorna True se a primeira\n",
    "aparecer como uma substring da segunda:\"\"\"\n",
    "\n",
    "'a' in 'banana'"
   ]
  },
  {
   "cell_type": "code",
   "execution_count": null,
   "id": "e88e4d85",
   "metadata": {
    "slideshow": {
     "slide_type": "fragment"
    }
   },
   "outputs": [],
   "source": [
    "'seed' in 'banana'"
   ]
  },
  {
   "cell_type": "code",
   "execution_count": null,
   "id": "964fffa1",
   "metadata": {
    "slideshow": {
     "slide_type": "subslide"
    }
   },
   "outputs": [],
   "source": [
    "\"\"\"Por exemplo, a seguinte função imprime todas as letras de word1 que também aparecem\n",
    "em word2:\"\"\"\n",
    "def in_both(word1, word2):\n",
    "    for letter in word1:\n",
    "        if letter in word2:\n",
    "            print(letter)"
   ]
  },
  {
   "cell_type": "code",
   "execution_count": null,
   "id": "87675afc",
   "metadata": {
    "slideshow": {
     "slide_type": "subslide"
    }
   },
   "outputs": [],
   "source": [
    "\"\"\"Com nomes de variáveis bem escolhidos, o Python às vezes pode ser lido como um texto\n",
    "em inglês. Você pode ler este loop, “para (cada) letra em (a primeira) palavra, se (a) letra\n",
    "(aparecer) em (a segunda) palavra, exiba (a) letra”.\n",
    "Veja o que é apresentado ao se comparar maçãs e laranjas:\"\"\"\n",
    "\n",
    "in_both('apples', 'oranges')"
   ]
  },
  {
   "cell_type": "markdown",
   "id": "6e584a08",
   "metadata": {
    "slideshow": {
     "slide_type": "slide"
    }
   },
   "source": [
    "<div style=\"text-align: center\"><p><h2>Comparação de strings</h2><br></p></div>"
   ]
  },
  {
   "cell_type": "code",
   "execution_count": null,
   "id": "cc659f09",
   "metadata": {
    "slideshow": {
     "slide_type": "fragment"
    }
   },
   "outputs": [],
   "source": [
    "word = \"pera\"\n",
    "\"\"\"Os operadores relacionais funcionam em strings. Para ver se duas strings são iguais:\"\"\"\n",
    "if word == 'banana':\n",
    "    print('All right, bananas.')"
   ]
  },
  {
   "cell_type": "code",
   "execution_count": null,
   "id": "6faf6407",
   "metadata": {
    "slideshow": {
     "slide_type": "fragment"
    }
   },
   "outputs": [],
   "source": [
    "\"\"\"Outras operações relacionais são úteis para colocar palavras em ordem alfabética:\"\"\"\n",
    "if word < 'banana':\n",
    "    print('Your word, ' + word + ', comes before banana.')\n",
    "elif word > 'banana':\n",
    "    print('Your word, ' + word + ', comes after banana.')\n",
    "else:\n",
    "    print('All right, bananas.')"
   ]
  },
  {
   "cell_type": "markdown",
   "id": "ee50297b",
   "metadata": {
    "slideshow": {
     "slide_type": "subslide"
    }
   },
   "source": [
    "O Python não lida com letras maiúsculas e minúsculas do mesmo jeito que as pessoas.\n",
    "Todas as letras maiúsculas vêm antes de todas as letras minúsculas, portanto:\n",
    "Your word, Pineapple, comes before banana.\n",
    "Uma forma comum de lidar com este problema é converter strings em um formato padrão,\n",
    "como letras minúsculas, antes de executar a comparação. Lembre-se disso caso tenha que\n",
    "se defender de um homem armado com um abacaxi."
   ]
  },
  {
   "cell_type": "markdown",
   "id": "ce1e6e6b",
   "metadata": {
    "slideshow": {
     "slide_type": "slide"
    }
   },
   "source": [
    "<div style=\"text-align: center\"><p><h2>Funções String</h2><br></p></div>"
   ]
  },
  {
   "cell_type": "code",
   "execution_count": null,
   "id": "b1359b92",
   "metadata": {
    "slideshow": {
     "slide_type": "fragment"
    }
   },
   "outputs": [],
   "source": [
    "s = 'seja bem vindo ao universo de python'"
   ]
  },
  {
   "cell_type": "code",
   "execution_count": null,
   "id": "a040ef67",
   "metadata": {
    "slideshow": {
     "slide_type": "fragment"
    }
   },
   "outputs": [],
   "source": [
    "s.capitalize()"
   ]
  },
  {
   "cell_type": "code",
   "execution_count": null,
   "id": "03b45c5e",
   "metadata": {
    "slideshow": {
     "slide_type": "fragment"
    }
   },
   "outputs": [],
   "source": [
    "s.count('a')"
   ]
  },
  {
   "cell_type": "code",
   "execution_count": null,
   "id": "fdc8e6ff",
   "metadata": {
    "slideshow": {
     "slide_type": "subslide"
    }
   },
   "outputs": [],
   "source": [
    "s.find('p')"
   ]
  },
  {
   "cell_type": "code",
   "execution_count": null,
   "id": "2ee804f7",
   "metadata": {
    "slideshow": {
     "slide_type": "fragment"
    }
   },
   "outputs": [],
   "source": [
    "s.center(20, 'z')"
   ]
  },
  {
   "cell_type": "code",
   "execution_count": null,
   "id": "47bb443d",
   "metadata": {
    "slideshow": {
     "slide_type": "fragment"
    }
   },
   "outputs": [],
   "source": [
    "s.isalnum()"
   ]
  },
  {
   "cell_type": "code",
   "execution_count": null,
   "id": "955dec56",
   "metadata": {
    "slideshow": {
     "slide_type": "fragment"
    }
   },
   "outputs": [],
   "source": [
    "s.isalpha()"
   ]
  },
  {
   "cell_type": "code",
   "execution_count": null,
   "id": "2bd1e659",
   "metadata": {
    "slideshow": {
     "slide_type": "subslide"
    }
   },
   "outputs": [],
   "source": [
    "s.islower()"
   ]
  },
  {
   "cell_type": "code",
   "execution_count": null,
   "id": "d881a26f",
   "metadata": {
    "slideshow": {
     "slide_type": "fragment"
    }
   },
   "outputs": [],
   "source": [
    "s.isspace()"
   ]
  },
  {
   "cell_type": "code",
   "execution_count": null,
   "id": "0d92d4d9",
   "metadata": {
    "slideshow": {
     "slide_type": "fragment"
    }
   },
   "outputs": [],
   "source": [
    "s.endswith('o')"
   ]
  },
  {
   "cell_type": "code",
   "execution_count": null,
   "id": "72b93fd3",
   "metadata": {
    "slideshow": {
     "slide_type": "fragment"
    }
   },
   "outputs": [],
   "source": [
    "s.partition('!')"
   ]
  },
  {
   "cell_type": "markdown",
   "id": "208500cb",
   "metadata": {
    "slideshow": {
     "slide_type": "slide"
    }
   },
   "source": [
    "<div style=\"text-align: center\"><p><h2>Comparando Strings</h2><br></p></div>"
   ]
  },
  {
   "cell_type": "code",
   "execution_count": null,
   "id": "17ba4401",
   "metadata": {
    "scrolled": true,
    "slideshow": {
     "slide_type": "fragment"
    }
   },
   "outputs": [],
   "source": [
    "print(\"Python\" == \"R\")"
   ]
  },
  {
   "cell_type": "code",
   "execution_count": null,
   "id": "31f0f587",
   "metadata": {
    "slideshow": {
     "slide_type": "fragment"
    }
   },
   "outputs": [],
   "source": [
    "print(\"Python\" == \"Python\")"
   ]
  },
  {
   "cell_type": "code",
   "execution_count": null,
   "id": "388f1a90",
   "metadata": {},
   "outputs": [],
   "source": [
    "n = int(input())\n",
    "\n",
    "for i in range(1, n + 1):\n",
    "    print(i, i * i, i * i * i)\n",
    "    print(i, i * i+1, i * i * i+1)\n",
    "    "
   ]
  },
  {
   "cell_type": "code",
   "execution_count": null,
   "id": "7ae9b940",
   "metadata": {},
   "outputs": [],
   "source": []
  }
 ],
 "metadata": {
  "celltoolbar": "Slideshow",
  "kernelspec": {
   "display_name": "Python 3 (ipykernel)",
   "language": "python",
   "name": "python3"
  },
  "language_info": {
   "codemirror_mode": {
    "name": "ipython",
    "version": 3
   },
   "file_extension": ".py",
   "mimetype": "text/x-python",
   "name": "python",
   "nbconvert_exporter": "python",
   "pygments_lexer": "ipython3",
   "version": "3.10.8"
  }
 },
 "nbformat": 4,
 "nbformat_minor": 5
}
