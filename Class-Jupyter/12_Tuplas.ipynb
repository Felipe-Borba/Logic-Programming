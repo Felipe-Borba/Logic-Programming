{
 "cells": [
  {
   "cell_type": "markdown",
   "id": "fe474443",
   "metadata": {
    "slideshow": {
     "slide_type": "slide"
    }
   },
   "source": [
    "<div style=\"text-align: center\"> <h2> \n",
    "Tuplas\n",
    "    </h2> </div>"
   ]
  },
  {
   "cell_type": "markdown",
   "id": "cf3cc30d",
   "metadata": {
    "slideshow": {
     "slide_type": "subslide"
    }
   },
   "source": [
    "Vamos apresentar mais um tipo integrado, a tupla, e descrever como as listas, os\n",
    "dicionários e as tuplas trabalham juntos. Demostrar também um recurso útil para listas\n",
    "de argumentos de comprimento variável: os operadores gather e scatter.\n",
    "Uma observação: não há consenso sobre como pronunciar “tuple” (em inglês). Algumas\n",
    "pessoas dizem “tuhple”, que rima com “supple”. Porém, no contexto da programação, a\n",
    "maioria das pessoas diz “too-ple”, que rima com “quadruple”."
   ]
  },
  {
   "cell_type": "markdown",
   "id": "dd31400c",
   "metadata": {
    "slideshow": {
     "slide_type": "slide"
    }
   },
   "source": [
    "<div style=\"text-align: center\"> <h2> \n",
    "Tuplas são imutáveis\n",
    "    </h2> </div>"
   ]
  },
  {
   "cell_type": "markdown",
   "id": "1295c746",
   "metadata": {
    "slideshow": {
     "slide_type": "subslide"
    }
   },
   "source": [
    "Uma tupla é uma sequência de valores. Os valores podem ser de qualquer tipo, e podem\n",
    "ser indexados por números inteiros, portanto, nesse sentido, as tuplas são muito parecidas\n",
    "com as listas. A diferença importante é que as tuplas são imutáveis."
   ]
  },
  {
   "cell_type": "code",
   "execution_count": null,
   "id": "7140ff19",
   "metadata": {
    "slideshow": {
     "slide_type": "fragment"
    }
   },
   "outputs": [],
   "source": [
    "\"\"\"Sintaticamente, uma tupla é uma lista de valores separados por vírgulas:\n",
    "\"\"\"\n",
    "t = 'a','b','c','d','e'"
   ]
  },
  {
   "cell_type": "code",
   "execution_count": null,
   "id": "0362f187",
   "metadata": {
    "slideshow": {
     "slide_type": "fragment"
    }
   },
   "outputs": [],
   "source": [
    "\"\"\"Embora não seja sempre necessário, é comum colocar tuplas entre parênteses::\n",
    "\"\"\"\n",
    "t = ('a','b','c','d','e')"
   ]
  },
  {
   "cell_type": "code",
   "execution_count": null,
   "id": "a9d99e8f",
   "metadata": {
    "slideshow": {
     "slide_type": "fragment"
    }
   },
   "outputs": [],
   "source": [
    "\"\"\"Para criar uma tupla com um único elemento, é preciso incluir uma vírgula final:\"\"\"\n",
    "t1 = 'a',\n",
    "type(t1)"
   ]
  },
  {
   "cell_type": "code",
   "execution_count": null,
   "id": "9014edbd",
   "metadata": {
    "slideshow": {
     "slide_type": "fragment"
    }
   },
   "outputs": [],
   "source": [
    "\"\"\"Um único valor entre parênteses não é uma tupla:\"\"\"\n",
    "t2 = ('a')\n",
    "type(t2)"
   ]
  },
  {
   "cell_type": "code",
   "execution_count": null,
   "id": "68093472",
   "metadata": {
    "slideshow": {
     "slide_type": "fragment"
    }
   },
   "outputs": [],
   "source": [
    "\"\"\"Outra forma de criar uma tupla é com a função integrada tuple. Sem argumentos, cria\n",
    "uma tupla vazia:\"\"\"\n",
    "t = tuple()\n",
    "t"
   ]
  },
  {
   "cell_type": "code",
   "execution_count": null,
   "id": "45aae3a3",
   "metadata": {
    "slideshow": {
     "slide_type": "fragment"
    }
   },
   "outputs": [],
   "source": [
    "\"\"\"Se os argumentos forem uma sequência (string, lista ou tupla), o resultado é uma tupla\n",
    "com os elementos da sequência:\"\"\"\n",
    "t = tuple('lupins')\n",
    "t"
   ]
  },
  {
   "cell_type": "markdown",
   "id": "ebe0f88e",
   "metadata": {
    "slideshow": {
     "slide_type": "slide"
    }
   },
   "source": [
    "Como tuple é o nome de uma função integrada, você deve evitar usá-lo como nome de\n",
    "variável."
   ]
  },
  {
   "cell_type": "code",
   "execution_count": null,
   "id": "dabb1aeb",
   "metadata": {
    "slideshow": {
     "slide_type": "fragment"
    }
   },
   "outputs": [],
   "source": [
    "\"\"\"A maior parte dos operadores de lista também funciona em tuplas. O operador de\n",
    "colchetes indexa um elemento:\"\"\"\n",
    "t = ('a','b','c','d','e')\n",
    "t[0]\n"
   ]
  },
  {
   "cell_type": "code",
   "execution_count": null,
   "id": "c1bad558",
   "metadata": {
    "scrolled": true,
    "slideshow": {
     "slide_type": "fragment"
    }
   },
   "outputs": [],
   "source": [
    "\"\"\"E o operador de fatia seleciona vários elementos:\"\"\"\n",
    "t[1:3]"
   ]
  },
  {
   "cell_type": "code",
   "execution_count": null,
   "id": "839fcc43",
   "metadata": {
    "slideshow": {
     "slide_type": "fragment"
    }
   },
   "outputs": [],
   "source": [
    "\"\"\"Entretanto, se tentar alterar um dos elementos da tupla, vai receber um erro:\"\"\"\n",
    "t[0] = 'A'"
   ]
  },
  {
   "cell_type": "code",
   "execution_count": null,
   "id": "af82513d",
   "metadata": {
    "slideshow": {
     "slide_type": "fragment"
    }
   },
   "outputs": [],
   "source": [
    "\"\"\"Como tuplas são imutáveis, você não pode alterar os elementos, mas pode substituir uma\n",
    "tupla por outra:\"\"\"\n",
    "t = ('A',) + t[1:]\n",
    "t\n",
    "#Essa instrução faz uma nova tupla e então a atribui a t."
   ]
  },
  {
   "cell_type": "markdown",
   "id": "7747b5c1",
   "metadata": {
    "slideshow": {
     "slide_type": "slide"
    }
   },
   "source": [
    "Os operadores relacionais funcionam com tuplas e outras sequências; o Python começa\n",
    "comparando o primeiro elemento de cada sequência. Se forem iguais, vai para os\n",
    "próximos elementos, e assim por diante, até que encontre elementos que sejam diferentes.\n",
    "Os elementos subsequentes não são considerados (mesmo se forem muito grandes)."
   ]
  },
  {
   "cell_type": "code",
   "execution_count": null,
   "id": "160aa1bd",
   "metadata": {
    "slideshow": {
     "slide_type": "fragment"
    }
   },
   "outputs": [],
   "source": [
    "(0,1,2)<(0,3,4)"
   ]
  },
  {
   "cell_type": "code",
   "execution_count": null,
   "id": "aac0a9dd",
   "metadata": {
    "slideshow": {
     "slide_type": "fragment"
    }
   },
   "outputs": [],
   "source": [
    "(0,1,200000)<(0,3,4)"
   ]
  },
  {
   "cell_type": "markdown",
   "id": "5f0ba094",
   "metadata": {
    "slideshow": {
     "slide_type": "slide"
    }
   },
   "source": [
    "<div style=\"text-align: center\"> <h2> \n",
    "Atribuição de tuplas\n",
    "    </h2> </div>"
   ]
  },
  {
   "cell_type": "code",
   "execution_count": null,
   "id": "14287519",
   "metadata": {
    "slideshow": {
     "slide_type": "fragment"
    }
   },
   "outputs": [],
   "source": [
    "\"\"\"Muitas vezes, é útil trocar os valores de duas variáveis. Com a atribuição convencional, é\n",
    "preciso usar uma variável temporária. Por exemplo, trocar a e b.\"\"\"\n",
    "temp = a\n",
    "a = b\n",
    "b = temp"
   ]
  },
  {
   "cell_type": "code",
   "execution_count": null,
   "id": "f78ca034",
   "metadata": {
    "slideshow": {
     "slide_type": "fragment"
    }
   },
   "outputs": [],
   "source": [
    "\"\"\"Essa solução é trabalhosa; a atribuição de tuplas é mais elegante:\"\"\"\n",
    "a, b = b, a"
   ]
  },
  {
   "cell_type": "markdown",
   "id": "f96dc9e0",
   "metadata": {
    "slideshow": {
     "slide_type": "slide"
    }
   },
   "source": [
    "O lado esquerdo é uma tupla de variáveis; o lado direito é uma tupla de expressões. Cada\n",
    "valor é atribuído à sua respectiva variável. Todas as expressões no lado direito são\n",
    "avaliadas antes de todas as atribuições."
   ]
  },
  {
   "cell_type": "code",
   "execution_count": null,
   "id": "7074b4c0",
   "metadata": {
    "slideshow": {
     "slide_type": "fragment"
    }
   },
   "outputs": [],
   "source": [
    "\"\"\"O número de variáveis à esquerda e o número de valores à direita precisam ser iguais:\"\"\"\n",
    "a, b = 1,2,3"
   ]
  },
  {
   "cell_type": "code",
   "execution_count": null,
   "id": "77c01953",
   "metadata": {
    "slideshow": {
     "slide_type": "fragment"
    }
   },
   "outputs": [],
   "source": [
    "\"\"\"De forma geral, o lado direito pode ter qualquer tipo de sequência (string, lista ou tupla).\n",
    "Por exemplo, para dividir um endereço de email em um nome de usuário e um domínio,\n",
    "você poderia escrever:\"\"\"\n",
    "addr = 'rafael@gmail.com'\n",
    "uname, domain = addr.split('@')"
   ]
  },
  {
   "cell_type": "code",
   "execution_count": null,
   "id": "fbbc6f7e",
   "metadata": {
    "slideshow": {
     "slide_type": "fragment"
    }
   },
   "outputs": [],
   "source": [
    "\"\"\"O valor de retorno do split é uma lista com dois elementos; o primeiro elemento é\n",
    "atribuído a uname, o segundo a domain:\"\"\"\n",
    "uname"
   ]
  },
  {
   "cell_type": "code",
   "execution_count": null,
   "id": "6eb7ff1f",
   "metadata": {
    "slideshow": {
     "slide_type": "fragment"
    }
   },
   "outputs": [],
   "source": [
    "domain"
   ]
  },
  {
   "cell_type": "markdown",
   "id": "0c027e6a",
   "metadata": {
    "slideshow": {
     "slide_type": "slide"
    }
   },
   "source": [
    "<div style=\"text-align: center\"> <h2> \n",
    "Tuplas como valores de retorno\n",
    "    </h2> </div>"
   ]
  },
  {
   "cell_type": "markdown",
   "id": "0d99887f",
   "metadata": {
    "slideshow": {
     "slide_type": "subslide"
    }
   },
   "source": [
    "Falando estritamente, uma função só pode retornar um valor, mas se o valor for uma tupla,\n",
    "o efeito é o mesmo que retornar valores múltiplos. Por exemplo, se você quiser dividir\n",
    "dois números inteiros e calcular o quociente e resto, não é eficiente calcular x/y e depois\n",
    "x%y. É melhor calcular ambos ao mesmo tempo."
   ]
  },
  {
   "cell_type": "code",
   "execution_count": null,
   "id": "448dc15b",
   "metadata": {
    "slideshow": {
     "slide_type": "fragment"
    }
   },
   "outputs": [],
   "source": [
    "\"\"\"A função integrada divmod toma dois argumentos e devolve uma tupla de dois valores: o\n",
    "quociente e o resto. Você pode guardar o resultado como uma tupla:\"\"\"\n",
    "t = divmod(7,3)\n",
    "t"
   ]
  },
  {
   "cell_type": "code",
   "execution_count": null,
   "id": "2566d991",
   "metadata": {
    "slideshow": {
     "slide_type": "fragment"
    }
   },
   "outputs": [],
   "source": [
    "\"\"\"Ou usar a atribuição de tuplas para guardar os elementos separadamente:\"\"\"\n",
    "quot, rem = divmod(7,3)\n",
    "quot"
   ]
  },
  {
   "cell_type": "code",
   "execution_count": null,
   "id": "c2a8eab5",
   "metadata": {
    "slideshow": {
     "slide_type": "fragment"
    }
   },
   "outputs": [],
   "source": [
    "rem"
   ]
  },
  {
   "cell_type": "code",
   "execution_count": null,
   "id": "e0d3d7f8",
   "metadata": {
    "slideshow": {
     "slide_type": "fragment"
    }
   },
   "outputs": [],
   "source": [
    "\"\"\"Aqui está um exemplo de função que retorna uma tupla:\"\"\"\n",
    "def min_max(t):\n",
    "    return min(t), max(t)"
   ]
  },
  {
   "cell_type": "markdown",
   "id": "a4e2fa33",
   "metadata": {
    "slideshow": {
     "slide_type": "slide"
    }
   },
   "source": [
    "max e min são funções integradas que encontram os maiores e menores elementos de uma\n",
    "sequência. min_max calcula ambos e retorna uma tupla de dois valores."
   ]
  },
  {
   "cell_type": "code",
   "execution_count": null,
   "id": "43876b34",
   "metadata": {
    "slideshow": {
     "slide_type": "fragment"
    }
   },
   "outputs": [],
   "source": [
    "a = (2,1)\n",
    "min_max(a)"
   ]
  },
  {
   "cell_type": "markdown",
   "id": "9b8bb471",
   "metadata": {
    "slideshow": {
     "slide_type": "slide"
    }
   },
   "source": [
    "<div style=\"text-align: center\"> <h2> \n",
    "Tuplas com argumentos de comprimento variável\n",
    "    </h2> </div>"
   ]
  },
  {
   "cell_type": "code",
   "execution_count": null,
   "id": "de86ee67",
   "metadata": {
    "slideshow": {
     "slide_type": "fragment"
    }
   },
   "outputs": [],
   "source": [
    "\"\"\"As funções podem receber um número variável de argumentos. Um nome de parâmetro\n",
    "que comece com * reúne vários argumentos em uma tupla. Por exemplo, printall recebe\n",
    "qualquer número de argumentos e os exibe:\n",
    "\"\"\"\n",
    "def printall(*args):\n",
    "    print(args)"
   ]
  },
  {
   "cell_type": "markdown",
   "id": "f6cabd93",
   "metadata": {
    "slideshow": {
     "slide_type": "fragment"
    }
   },
   "source": [
    "O parâmetro com o prefixo * pode ter qualquer nome que você goste, mas args é o\n",
    "convencional. É assim que a função funciona:"
   ]
  },
  {
   "cell_type": "code",
   "execution_count": null,
   "id": "0f7c32cf",
   "metadata": {
    "slideshow": {
     "slide_type": "fragment"
    }
   },
   "outputs": [],
   "source": [
    "printall(1,2.0,'3')"
   ]
  },
  {
   "cell_type": "code",
   "execution_count": null,
   "id": "79e9555e",
   "metadata": {
    "slideshow": {
     "slide_type": "fragment"
    }
   },
   "outputs": [],
   "source": [
    "\"\"\"O complemento de reunir é espalhar. Se você tiver uma sequência de valores e quiser\n",
    "passá-la a uma função como argumentos múltiplos, pode usar o operador *. Por exemplo,\n",
    "o divmod recebe exatamente dois argumentos; ele não funciona com uma tupla:\"\"\"\n",
    "t = (7,3)\n",
    "divmod(t)"
   ]
  },
  {
   "cell_type": "code",
   "execution_count": null,
   "id": "b307fd0b",
   "metadata": {
    "slideshow": {
     "slide_type": "fragment"
    }
   },
   "outputs": [],
   "source": [
    "\"\"\"No entanto, se você espalhar a tupla, aí funciona:\"\"\"\n",
    "divmod(*t)"
   ]
  },
  {
   "cell_type": "code",
   "execution_count": null,
   "id": "e4816fc9",
   "metadata": {
    "slideshow": {
     "slide_type": "fragment"
    }
   },
   "outputs": [],
   "source": [
    "\"\"\"Muitas das funções integradas usam tuplas com argumentos de comprimento variável. Por\n",
    "exemplo, max e min podem receber qualquer número de argumentos:\"\"\"\n",
    "max(1,2,3)"
   ]
  },
  {
   "cell_type": "markdown",
   "id": "73aab666",
   "metadata": {
    "slideshow": {
     "slide_type": "slide"
    }
   },
   "source": [
    "<div style=\"text-align: center\"> <h2> \n",
    "Listas e tuplas\n",
    "    </h2> </div>"
   ]
  },
  {
   "cell_type": "markdown",
   "id": "7971e817",
   "metadata": {
    "slideshow": {
     "slide_type": "fragment"
    }
   },
   "source": [
    "zip é uma função integrada que recebe duas ou mais sequências e devolve uma lista de\n",
    "tuplas onde cada tupla contém um elemento de cada sequência. O nome da função tem a\n",
    "ver com o zíper, que se junta e encaixa duas carreiras de dentes."
   ]
  },
  {
   "cell_type": "code",
   "execution_count": null,
   "id": "f0a15181",
   "metadata": {
    "slideshow": {
     "slide_type": "fragment"
    }
   },
   "outputs": [],
   "source": [
    "\"\"\"Este exemplo encaixa uma string e uma lista:\"\"\"\n",
    "s = 'abc'\n",
    "t = [0,1,2]\n",
    "zip(s,t)"
   ]
  },
  {
   "cell_type": "code",
   "execution_count": null,
   "id": "c5242125",
   "metadata": {
    "slideshow": {
     "slide_type": "fragment"
    }
   },
   "outputs": [],
   "source": [
    "\"\"\"O resultado é um objeto zip que sabe como percorrer os pares. O uso mais comum de zip\n",
    "é em um loop for:\"\"\"\n",
    "for pair in zip(s,t):\n",
    "    print(pair)"
   ]
  },
  {
   "cell_type": "markdown",
   "id": "3bccc1ae",
   "metadata": {
    "slideshow": {
     "slide_type": "slide"
    }
   },
   "source": [
    "Um objeto zip é um tipo de iterador, ou seja, qualquer objeto que percorre ou itera sobre\n",
    "uma sequência. Iteradores são semelhantes a listas em alguns aspectos, mas, ao contrário\n",
    "de listas, não é possível usar um índice para selecionar um elemento de um iterador."
   ]
  },
  {
   "cell_type": "code",
   "execution_count": null,
   "id": "c7686c67",
   "metadata": {
    "slideshow": {
     "slide_type": "fragment"
    }
   },
   "outputs": [],
   "source": [
    "\"\"\"Se quiser usar operadores e métodos de lista, você pode usar um objeto zip para fazer uma\n",
    "lista:\"\"\"\n",
    "\n",
    "list(zip(s,t))"
   ]
  },
  {
   "cell_type": "markdown",
   "id": "f8241529",
   "metadata": {
    "slideshow": {
     "slide_type": "fragment"
    }
   },
   "source": [
    "O resultado é uma lista de tuplas; neste exemplo, cada tupla contém um caractere da string\n",
    "e o elemento correspondente da lista."
   ]
  },
  {
   "cell_type": "code",
   "execution_count": null,
   "id": "3d0b42f9",
   "metadata": {
    "slideshow": {
     "slide_type": "fragment"
    }
   },
   "outputs": [],
   "source": [
    "\"\"\"Se as sequências não forem do mesmo comprimento, o resultado tem o comprimento da\n",
    "mais curta:\"\"\"\n",
    "list(zip('Anne','Elk'))"
   ]
  },
  {
   "cell_type": "markdown",
   "id": "833d8ba1",
   "metadata": {
    "slideshow": {
     "slide_type": "slide"
    }
   },
   "source": [
    "Você pode usar a atribuição de tuplas em um loop for para atravessar uma lista de tuplas:"
   ]
  },
  {
   "cell_type": "code",
   "execution_count": null,
   "id": "002342dd",
   "metadata": {
    "slideshow": {
     "slide_type": "fragment"
    }
   },
   "outputs": [],
   "source": [
    "t = [('a', 0), ('b', 1), ('c', 2)]\n",
    "for letter, number in t:\n",
    "    print(number, letter)"
   ]
  },
  {
   "cell_type": "markdown",
   "id": "db53f874",
   "metadata": {
    "slideshow": {
     "slide_type": "fragment"
    }
   },
   "source": [
    "Cada vez que o programa passa pelo loop, o Python seleciona a próxima tupla na lista e\n",
    "atribui os elementos letter e number. A saída deste loop é:"
   ]
  },
  {
   "cell_type": "markdown",
   "id": "6a9ebbbe",
   "metadata": {
    "slideshow": {
     "slide_type": "fragment"
    }
   },
   "source": [
    "Se combinar zip, for e atribuição de tuplas, você pode fazer uma expressão útil para\n",
    "percorrer duas (ou mais) sequências ao mesmo tempo. Por exemplo, has_match recebe\n",
    "duas sequências, t1 e t2 e retorna True se houver um índice i tal que t1[i] == t2[i]:"
   ]
  },
  {
   "cell_type": "code",
   "execution_count": null,
   "id": "bd5ed2d9",
   "metadata": {
    "slideshow": {
     "slide_type": "fragment"
    }
   },
   "outputs": [],
   "source": [
    "def has_match(t1, t2):\n",
    "    for x, y in zip(t1, t2):\n",
    "        if x == y:\n",
    "            return True\n",
    "    return False"
   ]
  },
  {
   "cell_type": "code",
   "execution_count": null,
   "id": "7e9c2e4b",
   "metadata": {
    "slideshow": {
     "slide_type": "fragment"
    }
   },
   "outputs": [],
   "source": [
    "\"\"\"Se precisar atravessar os elementos de uma sequência e seus índices, você pode usar a\n",
    "função integrada enumerate:\"\"\"\n",
    "for index, element in enumerate('abc'):\n",
    "    print(index, element)"
   ]
  },
  {
   "cell_type": "markdown",
   "id": "ae1b8bb3",
   "metadata": {
    "slideshow": {
     "slide_type": "fragment"
    }
   },
   "source": [
    "O resultado de enumerate é um objeto enumerate, que itera sobre uma sequência de pares;\n",
    "cada par contém um índice (começando de 0) e um elemento da sequência dada. Neste\n",
    "exemplo, a saída é"
   ]
  },
  {
   "cell_type": "markdown",
   "id": "8afac1f7",
   "metadata": {
    "slideshow": {
     "slide_type": "slide"
    }
   },
   "source": [
    "<div style=\"text-align: center\"> <h2> \n",
    "Dicionários e tuplas\n",
    "    </h2> </div>"
   ]
  },
  {
   "cell_type": "code",
   "execution_count": null,
   "id": "53ab25cd",
   "metadata": {
    "slideshow": {
     "slide_type": "fragment"
    }
   },
   "outputs": [],
   "source": [
    "\"\"\"Os dicionários têm um método chamado items que devolve uma sequência de tuplas,\n",
    "onde cada tupla é um par chave-valor:\"\"\"\n",
    "d = {'a':0, 'b':1, 'c':2}\n",
    "t = d.items()\n",
    "t"
   ]
  },
  {
   "cell_type": "code",
   "execution_count": null,
   "id": "e3db4dea",
   "metadata": {
    "slideshow": {
     "slide_type": "fragment"
    }
   },
   "outputs": [],
   "source": [
    "\"\"\"O resultado é um objeto dict_items, que é um iterador que percorre os pares chave-valor.\n",
    "Você pode usá-lo em um loop for, desta forma:\"\"\"\n",
    "for key, value in d.items():\n",
    "    print(key,value)"
   ]
  },
  {
   "cell_type": "markdown",
   "id": "fbb6b25f",
   "metadata": {
    "slideshow": {
     "slide_type": "fragment"
    }
   },
   "source": [
    "Como se poderia esperar de um dicionário, os itens não estão em nenhuma ordem em\n",
    "particular."
   ]
  },
  {
   "cell_type": "code",
   "execution_count": null,
   "id": "eedea768",
   "metadata": {
    "slideshow": {
     "slide_type": "fragment"
    }
   },
   "outputs": [],
   "source": [
    "\"\"\"Indo em outra direção, você pode usar uma lista de tuplas para inicializar um novo\n",
    "dicionário:\"\"\"\n",
    "t = [('a', 0), ('c', 2), ('b', 1)]\n",
    "d = dict(t)\n",
    "d"
   ]
  },
  {
   "cell_type": "code",
   "execution_count": null,
   "id": "08c4cb29",
   "metadata": {
    "slideshow": {
     "slide_type": "fragment"
    }
   },
   "outputs": [],
   "source": [
    "\"\"\"Combinar dict com zip produz uma forma concisa de criar um dicionário:\"\"\"\n",
    "d = dict(zip('abc',range(3)))\n",
    "d"
   ]
  },
  {
   "cell_type": "markdown",
   "id": "e5c8e8dc",
   "metadata": {
    "slideshow": {
     "slide_type": "slide"
    }
   },
   "source": [
    "O método de dicionário update também recebe uma lista de tuplas e as adiciona, como\n",
    "pares chave-valor, a um dicionário existente."
   ]
  },
  {
   "cell_type": "markdown",
   "id": "420741cd",
   "metadata": {
    "slideshow": {
     "slide_type": "subslide"
    }
   },
   "source": [
    "É comum usar tuplas como chaves em dicionários (principalmente porque você não pode\n",
    "usar listas). Por exemplo, uma lista telefônica poderia mapear pares de sobrenome e\n",
    "primeiro nome a números de telefone. Supondo que tenhamos definido last, first e number,\n",
    "podemos escrever:\n",
    "directory[last, first] = number"
   ]
  },
  {
   "cell_type": "code",
   "execution_count": null,
   "id": "8932085d",
   "metadata": {
    "slideshow": {
     "slide_type": "fragment"
    }
   },
   "outputs": [],
   "source": [
    "\"\"\"A expressão entre chaves é uma tupla. Podemos usar atribuição de tuplas para atravessar\n",
    "este dicionário:\"\"\"\n",
    "for last, first in directory:\n",
    "    print(first, last, directory[last,first])"
   ]
  },
  {
   "cell_type": "markdown",
   "id": "ebb460ef",
   "metadata": {
    "slideshow": {
     "slide_type": "fragment"
    }
   },
   "source": [
    "Este loop atravessa as chaves em directory, que são tuplas. Ele atribui os elementos de\n",
    "cada tupla para last e first, e então exibe o nome e número de telefone correspondente."
   ]
  },
  {
   "cell_type": "markdown",
   "id": "66d39a4f",
   "metadata": {
    "slideshow": {
     "slide_type": "slide"
    }
   },
   "source": [
    "<div style=\"text-align: center\"> <h2> \n",
    "Sequências de sequências\n",
    "    </h2> </div>"
   ]
  },
  {
   "cell_type": "markdown",
   "id": "ef31bdfa",
   "metadata": {
    "slideshow": {
     "slide_type": "subslide"
    }
   },
   "source": [
    "<div>\n",
    "    <p>\n",
    "        Vimos mais listas de tuplas, mas quase todos os exemplos também\n",
    "funcionam com listas de listas, tuplas de tuplas e tuplas de listas. \n",
    "        <br>Para evitar enumerar as combinações possíveis, às vezes é mais fácil falar sobre sequências de sequências.</br>\n",
    "Em muitos contextos, os tipos diferentes de sequências (strings, listas e tuplas) podem ser\n",
    "usados de forma intercambiável. Então, como escolher uma em vez da outra?\n",
    "<br>Para começar com o óbvio, as strings são mais limitadas que outras sequências porque os\n",
    "elementos têm de ser caracteres. Também são imutáveis. Se precisar da capacidade de\n",
    "alterar caracteres em uma string (em vez de criar outra string) você pode querer usar uma\n",
    "lista de caracteres.</br>\n",
    "<br>As listas são mais comuns que as tuplas, principalmente porque são mutáveis. Mas há\n",
    "alguns casos em que você pode preferir tuplas:</br>\n",
    "<br>1. Em alguns contextos, como em uma instrução return, é sintaticamente mais simples\n",
    "criar uma tupla que uma lista.</br>\n",
    "<br>2. Se quiser usar uma sequência como uma chave de dicionário, é preciso usar um tipo\n",
    "imutável como uma tupla ou string.</br>\n",
    "<br>3. Se estiver passando uma sequência como um argumento a uma função, usar tuplas\n",
    "reduz o potencial de comportamento inesperado devido a alias.<br>\n",
    "<br>Como tuplas são imutáveis, elas não fornecem métodos como sort e reverse, que alteram\n",
    "listas existentes. Porém, o Python fornece a função integrada sorted, que recebe qualquer\n",
    "sequência e retorna uma nova lista com os mesmos elementos ordenados, e reversed, que\n",
    "recebe uma sequência e retorna um iterador que percorre a lista em ordem reversa.</br>\n",
    "    </p>\n",
    "    </div>"
   ]
  },
  {
   "cell_type": "code",
   "execution_count": null,
   "id": "5a70690b",
   "metadata": {
    "slideshow": {
     "slide_type": "skip"
    }
   },
   "outputs": [],
   "source": []
  }
 ],
 "metadata": {
  "celltoolbar": "Slideshow",
  "kernelspec": {
   "display_name": "Python 3.10.6 64-bit",
   "language": "python",
   "name": "python3"
  },
  "language_info": {
   "codemirror_mode": {
    "name": "ipython",
    "version": 3
   },
   "file_extension": ".py",
   "mimetype": "text/x-python",
   "name": "python",
   "nbconvert_exporter": "python",
   "pygments_lexer": "ipython3",
   "version": "3.10.6 (main, Nov 14 2022, 16:10:14) [GCC 11.3.0]"
  },
  "vscode": {
   "interpreter": {
    "hash": "916dbcbb3f70747c44a77c7bcd40155683ae19c65e1c03b4aa3499c5328201f1"
   }
  }
 },
 "nbformat": 4,
 "nbformat_minor": 5
}
