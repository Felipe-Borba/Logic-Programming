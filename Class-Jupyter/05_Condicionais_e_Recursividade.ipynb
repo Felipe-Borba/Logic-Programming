{
 "cells": [
  {
   "cell_type": "markdown",
   "id": "15d5f32b",
   "metadata": {
    "slideshow": {
     "slide_type": "slide"
    }
   },
   "source": [
    "<div style=\"text-align: center\"> <h1> \n",
    "Divisão pelo piso e módulo\n",
    "    </h1> </div>"
   ]
  },
  {
   "cell_type": "markdown",
   "id": "6b85b82e",
   "metadata": {
    "slideshow": {
     "slide_type": "fragment"
    }
   },
   "source": [
    "O operador de divisão pelo piso, //, divide dois números e arredonda o resultado para um\n",
    "número inteiro para baixo. Por exemplo, suponha que o tempo de execução de um filme\n",
    "seja de 105 minutos. Você pode querer saber a quanto isso corresponde em horas. A\n",
    "divisão convencional devolve um número de ponto flutuante:"
   ]
  },
  {
   "cell_type": "code",
   "execution_count": null,
   "id": "f5e1a563",
   "metadata": {
    "slideshow": {
     "slide_type": "fragment"
    }
   },
   "outputs": [],
   "source": [
    "minutes = 105\n",
    "minutes / 60"
   ]
  },
  {
   "cell_type": "code",
   "execution_count": null,
   "id": "e5e97134",
   "metadata": {
    "slideshow": {
     "slide_type": "fragment"
    }
   },
   "outputs": [],
   "source": [
    "minutes = 105\n",
    "hours = minutes // 60\n",
    "hours"
   ]
  },
  {
   "cell_type": "code",
   "execution_count": null,
   "id": "b021d5fe",
   "metadata": {
    "slideshow": {
     "slide_type": "fragment"
    }
   },
   "outputs": [],
   "source": [
    "remainder = minutes - hours * 60\n",
    "remainder"
   ]
  },
  {
   "cell_type": "code",
   "execution_count": null,
   "id": "67df43f3",
   "metadata": {
    "slideshow": {
     "slide_type": "fragment"
    }
   },
   "outputs": [],
   "source": [
    "#Uma alternativa é usar o operador módulo, %, que divide dois números e devolve o resto"
   ]
  },
  {
   "cell_type": "code",
   "execution_count": null,
   "id": "3e37950f",
   "metadata": {
    "slideshow": {
     "slide_type": "fragment"
    }
   },
   "outputs": [],
   "source": [
    "remainder = minutes % 60\n",
    "remainder"
   ]
  },
  {
   "cell_type": "markdown",
   "id": "aafcb39e",
   "metadata": {
    "slideshow": {
     "slide_type": "subslide"
    }
   },
   "source": [
    "<div style=\"text-align: left\"><p><strong>Atenção</strong><br>O operador módulo é mais útil do que parece. Por exemplo, é possível verificar se um\n",
    "número é divisível por outro – se x % y for zero, então x é divisível por y.</p></div>"
   ]
  },
  {
   "cell_type": "markdown",
   "id": "3b68beea",
   "metadata": {
    "slideshow": {
     "slide_type": "slide"
    }
   },
   "source": [
    "<div style=\"text-align: center\"><p><h2>Expressões booleanas</h2><br></p></div>"
   ]
  },
  {
   "cell_type": "markdown",
   "id": "c4cf4955",
   "metadata": {
    "slideshow": {
     "slide_type": "fragment"
    }
   },
   "source": [
    "Uma expressão booleana é uma expressão que pode ser verdadeira ou falsa. Os exemplos\n",
    "seguintes usam o operador ==, que compara dois operandos e produz True se forem iguais\n",
    "e False se não forem:"
   ]
  },
  {
   "cell_type": "code",
   "execution_count": null,
   "id": "79562518",
   "metadata": {
    "slideshow": {
     "slide_type": "fragment"
    }
   },
   "outputs": [],
   "source": [
    "5 == 5"
   ]
  },
  {
   "cell_type": "code",
   "execution_count": null,
   "id": "c2136f43",
   "metadata": {
    "slideshow": {
     "slide_type": "fragment"
    }
   },
   "outputs": [],
   "source": [
    "5 == 6"
   ]
  },
  {
   "cell_type": "code",
   "execution_count": null,
   "id": "6dc819b1",
   "metadata": {
    "slideshow": {
     "slide_type": "fragment"
    }
   },
   "outputs": [],
   "source": [
    "type(True)"
   ]
  },
  {
   "cell_type": "code",
   "execution_count": null,
   "id": "8cb1bb06",
   "metadata": {
    "slideshow": {
     "slide_type": "slide"
    }
   },
   "outputs": [],
   "source": [
    "'''O operador == é um dos operadores relacionais; os outros são:\n",
    "x != y # x não é igual a y\n",
    "x > y # x é maior que y\n",
    "x < y # x é menor que y\n",
    "x >= y # x é maior ou igual a y\n",
    "x <= y # x é menor ou igual a y'''"
   ]
  },
  {
   "cell_type": "markdown",
   "id": "17b125fa",
   "metadata": {
    "slideshow": {
     "slide_type": "slide"
    }
   },
   "source": [
    "<div style=\"text-align: center\"> <h1> \n",
    "Operadores lógicos\n",
    "    </h1> </div>"
   ]
  },
  {
   "cell_type": "markdown",
   "id": "78c07e87",
   "metadata": {
    "slideshow": {
     "slide_type": "fragment"
    }
   },
   "source": [
    "Qualquer número que não seja zero é\n",
    "interpretado como True"
   ]
  },
  {
   "cell_type": "code",
   "execution_count": null,
   "id": "95d2a16a",
   "metadata": {
    "slideshow": {
     "slide_type": "fragment"
    }
   },
   "outputs": [],
   "source": [
    "42 and True"
   ]
  },
  {
   "cell_type": "markdown",
   "id": "b8c92420",
   "metadata": {
    "slideshow": {
     "slide_type": "slide"
    }
   },
   "source": [
    "<div style=\"text-align: center\"> <h1> \n",
    "Execução condicional\n",
    "    </h1> </div>"
   ]
  },
  {
   "cell_type": "code",
   "execution_count": null,
   "id": "145b1646",
   "metadata": {
    "slideshow": {
     "slide_type": "fragment"
    }
   },
   "outputs": [],
   "source": [
    "x = 2\n",
    "if x > 0:\n",
    "    print('x é positivo')\n",
    "    \"\"\"A expressão booleana depois do if é chamada de condição. Se for verdadeira, a instrução\n",
    "endentada é executada. Se não, nada acontece.\"\"\""
   ]
  },
  {
   "cell_type": "markdown",
   "id": "e30977c6",
   "metadata": {
    "slideshow": {
     "slide_type": "slide"
    }
   },
   "source": [
    "<div style=\"text-align: center\"> <h1> \n",
    "Execução alternativa\n",
    "    </h1> </div>"
   ]
  },
  {
   "cell_type": "code",
   "execution_count": null,
   "id": "0ad4e3f8",
   "metadata": {
    "slideshow": {
     "slide_type": "fragment"
    }
   },
   "outputs": [],
   "source": [
    "if x % 2 == 0:\n",
    "    print('x é par')\n",
    "else:\n",
    "    print('x é impar')"
   ]
  },
  {
   "cell_type": "markdown",
   "id": "b4075b19",
   "metadata": {
    "slideshow": {
     "slide_type": "slide"
    }
   },
   "source": [
    "<div style=\"text-align: center\"> <h1> \n",
    "Condicionais encadeadas\n",
    "    </h1> </div>"
   ]
  },
  {
   "cell_type": "code",
   "execution_count": null,
   "id": "c755153e",
   "metadata": {
    "slideshow": {
     "slide_type": "fragment"
    }
   },
   "outputs": [],
   "source": [
    "x = 2\n",
    "y = 3\n",
    "if x < y:\n",
    "    print('x é menor que y')\n",
    "elif x > y:\n",
    "    print('x é maior que y')\n",
    "else:\n",
    "    print('x e y são iguais')"
   ]
  },
  {
   "cell_type": "markdown",
   "id": "0fce08ec",
   "metadata": {
    "slideshow": {
     "slide_type": "fragment"
    }
   },
   "source": [
    "elif é uma abreviatura de “else if”. Novamente, exatamente um ramo será executado. Não\n",
    "há nenhum limite para o número de instruções elif. Se houver uma cláusula else, ela deve\n",
    "estar no fim, mas não é preciso haver uma."
   ]
  },
  {
   "cell_type": "markdown",
   "id": "797e8d82",
   "metadata": {
    "slideshow": {
     "slide_type": "slide"
    }
   },
   "source": [
    "<div style=\"text-align: center\"> <h1> \n",
    "Condicionais aninhadas\n",
    "    </h1> </div>"
   ]
  },
  {
   "cell_type": "code",
   "execution_count": null,
   "id": "262d5de7",
   "metadata": {
    "slideshow": {
     "slide_type": "fragment"
    }
   },
   "outputs": [],
   "source": [
    "x = 2\n",
    "y = 3\n",
    "if x == y:\n",
    "    print('x e y são iguais')\n",
    "else:\n",
    "    if x > y:\n",
    "        print('x é maior que y')\n",
    "    else:\n",
    "        print('x é menor que y')"
   ]
  },
  {
   "cell_type": "markdown",
   "id": "6bf8f6e4",
   "metadata": {
    "slideshow": {
     "slide_type": "slide"
    }
   },
   "source": [
    "<div style=\"text-align: center\"> <h1> \n",
    "Recursividade\n",
    "    </h1> </div>"
   ]
  },
  {
   "cell_type": "markdown",
   "id": "354f0519",
   "metadata": {
    "slideshow": {
     "slide_type": "fragment"
    }
   },
   "source": [
    "É legal para uma função chamar outra; também é legal para uma função chamar a si\n",
    "própria. Pode não ser óbvio porque isso é uma coisa boa, mas na verdade é uma das coisas\n",
    "mais mágicas que um programa pode fazer. Por exemplo, veja a seguinte função:"
   ]
  },
  {
   "cell_type": "code",
   "execution_count": null,
   "id": "8f59c29d",
   "metadata": {
    "slideshow": {
     "slide_type": "fragment"
    }
   },
   "outputs": [],
   "source": [
    "def countdown(n):\n",
    "    if n <= 0:\n",
    "        print('Blastoff!')\n",
    "    else:\n",
    "        print(n)\n",
    "        countdown(n-1)"
   ]
  },
  {
   "cell_type": "code",
   "execution_count": null,
   "id": "83675643",
   "metadata": {
    "slideshow": {
     "slide_type": "fragment"
    }
   },
   "outputs": [],
   "source": [
    "countdown(10)"
   ]
  },
  {
   "cell_type": "markdown",
   "id": "6fb31e8b",
   "metadata": {
    "slideshow": {
     "slide_type": "slide"
    }
   },
   "source": [
    "<div style=\"text-align: center\"> <h1> \n",
    "Entrada de teclado\n",
    "    </h1> </div>"
   ]
  },
  {
   "cell_type": "code",
   "execution_count": null,
   "id": "ab7a27ef",
   "metadata": {
    "slideshow": {
     "slide_type": "fragment"
    }
   },
   "outputs": [],
   "source": [
    "texto = input()"
   ]
  },
  {
   "cell_type": "code",
   "execution_count": null,
   "id": "b2932090",
   "metadata": {
    "slideshow": {
     "slide_type": "fragment"
    }
   },
   "outputs": [],
   "source": [
    "name = input('Qual é o seu nome?\\n') \n",
    "\"\"\"A sequência \\n no final do prompt representa um newline, que é um caractere especial de\n",
    "quebra de linha. É por isso que a entrada do usuário aparece abaixo do prompt.\"\"\""
   ]
  },
  {
   "cell_type": "code",
   "execution_count": null,
   "id": "417e1ae9",
   "metadata": {
    "slideshow": {
     "slide_type": "skip"
    }
   },
   "outputs": [],
   "source": []
  }
 ],
 "metadata": {
  "celltoolbar": "Slideshow",
  "kernelspec": {
   "display_name": "Python 3.10.7 64-bit",
   "language": "python",
   "name": "python3"
  },
  "language_info": {
   "codemirror_mode": {
    "name": "ipython",
    "version": 3
   },
   "file_extension": ".py",
   "mimetype": "text/x-python",
   "name": "python",
   "nbconvert_exporter": "python",
   "pygments_lexer": "ipython3",
   "version": "3.10.7"
  },
  "vscode": {
   "interpreter": {
    "hash": "e7370f93d1d0cde622a1f8e1c04877d8463912d04d973331ad4851f04de6915a"
   }
  }
 },
 "nbformat": 4,
 "nbformat_minor": 5
}
