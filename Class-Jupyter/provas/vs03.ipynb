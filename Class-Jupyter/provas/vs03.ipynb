{
 "cells": [
  {
   "cell_type": "markdown",
   "metadata": {},
   "source": [
    "# Desafio\n",
    "Desenvolva um programa em python que busque uma localização no google, logo depois um tipo de mercado e capture o nome do estabelecimento, endereço e telefone e entregue essa lista em uma tabela de excel."
   ]
  },
  {
   "cell_type": "code",
   "execution_count": 1,
   "metadata": {},
   "outputs": [
    {
     "ename": "ModuleNotFoundError",
     "evalue": "No module named 'selenium'",
     "output_type": "error",
     "traceback": [
      "\u001b[0;31m---------------------------------------------------------------------------\u001b[0m",
      "\u001b[0;31mModuleNotFoundError\u001b[0m                       Traceback (most recent call last)",
      "\u001b[1;32m/home/feipe/Documents/Logic-Programming/Class-Jupyter/provas/vs03.ipynb Cell 2\u001b[0m in \u001b[0;36m<cell line: 1>\u001b[0;34m()\u001b[0m\n\u001b[0;32m----> <a href='vscode-notebook-cell:/home/feipe/Documents/Logic-Programming/Class-Jupyter/provas/vs03.ipynb#W1sZmlsZQ%3D%3D?line=0'>1</a>\u001b[0m \u001b[39mfrom\u001b[39;00m \u001b[39mselenium\u001b[39;00m \u001b[39mimport\u001b[39;00m webdriver\n\u001b[1;32m      <a href='vscode-notebook-cell:/home/feipe/Documents/Logic-Programming/Class-Jupyter/provas/vs03.ipynb#W1sZmlsZQ%3D%3D?line=2'>3</a>\u001b[0m driver \u001b[39m=\u001b[39m webdriver\u001b[39m.\u001b[39mChrome()\n\u001b[1;32m      <a href='vscode-notebook-cell:/home/feipe/Documents/Logic-Programming/Class-Jupyter/provas/vs03.ipynb#W1sZmlsZQ%3D%3D?line=4'>5</a>\u001b[0m driver\u001b[39m.\u001b[39mget(\u001b[39m\"\u001b[39m\u001b[39mhttp://selenium.dev\u001b[39m\u001b[39m\"\u001b[39m)\n",
      "\u001b[0;31mModuleNotFoundError\u001b[0m: No module named 'selenium'"
     ]
    }
   ],
   "source": [
    "from selenium import webdriver\n",
    "\n",
    "driver = webdriver.Chrome()\n",
    "\n",
    "driver.get(\"http://selenium.dev\")"
   ]
  },
  {
   "cell_type": "markdown",
   "metadata": {},
   "source": [
    "# Questao 1\n",
    "Leia a hora inicial e a hora final de um jogo. A seguir calcule a duração do jogo, sabendo que o mesmo pode começar em um dia e terminar em outro, tendo uma duração mínima de 1 hora e máxima de 24 horas.\n",
    "\n",
    "Entrada\n",
    "A entrada contém dois valores inteiros representando a hora de início e a hora de fim do jogo.\n",
    "\n",
    "Saída\n",
    "Apresente a duração do jogo conforme exemplo abaixo.\n",
    "\n",
    " \n",
    "Exemplo de Entrada\tExemplo de Saída\n",
    "16 2\n",
    "\n",
    "O JOGO DUROU 10 HORA(S)\n",
    "\n"
   ]
  },
  {
   "cell_type": "code",
   "execution_count": null,
   "metadata": {},
   "outputs": [],
   "source": [
    "horas = input(\"Digite a hora de inicio e fim do jogo\")\n",
    "[hora_inicio, hora_fim] = horas.split(' ')\n",
    "hora_inicio = int(hora_inicio)\n",
    "hora_fim = int(hora_fim)\n",
    "duracao = abs(hora_fim - hora_inicio)\n",
    "\n",
    "if duracao < 1:\n",
    "  print('o jogo deve ter no mínimo uma hora de duração')\n",
    "elif duracao > 24:\n",
    "  print('o jogo deve ter no máximo 24 horas de duração')\n",
    "else:\n",
    "  print('O JOGO DUROU', duracao, 'horas(S)')\n"
   ]
  },
  {
   "cell_type": "markdown",
   "metadata": {},
   "source": [
    "# questao 2\n",
    "Leia a hora inicial, minuto inicial, hora final e minuto final de um jogo. A seguir calcule a duração do jogo.   \n",
    "\n",
    "Obs: O jogo tem duração mínima de um (1) minuto e duração máxima de 24 horas.\n",
    "\n",
    "## Entrada\n",
    "Quatro números inteiros representando a hora de início e fim do jogo.\n",
    "\n",
    "## Saída\n",
    "Mostre a seguinte mensagem: “O JOGO DUROU XXX HORA(S) E YYY MINUTO(S)” .\n",
    "\n",
    " \n",
    "## Exemplo de Entrada\tExemplo de Saída\n",
    "7 8 9 10   \n",
    "\n",
    "O JOGO DUROU 2 HORA(S) E 2 MINUTO(S)\n",
    "\n"
   ]
  },
  {
   "cell_type": "code",
   "execution_count": null,
   "metadata": {},
   "outputs": [],
   "source": [
    "from datetime import datetime\n",
    "\n",
    "\n",
    "def convert(seconds):\n",
    "    min, sec = divmod(seconds, 60)\n",
    "    hour, min = divmod(min, 60)\n",
    "    return [min, hour]\n",
    "\n",
    "\n",
    "# horas = \"7 8 9 10\"\n",
    "horas = input(\"Digite a hora, minuto de inicio e fim do jogo\")\n",
    "[hora_inicio, minuto_inicio, hora_fim, minuto_fim] = horas.split(' ')\n",
    "\n",
    "t1 = datetime.strptime(hora_inicio + minuto_inicio, \"%H%M\")\n",
    "print('Start time:', t1.time())\n",
    "\n",
    "t2 = datetime.strptime(hora_fim + minuto_fim, \"%H%M\")\n",
    "print('End time:', t2.time())\n",
    "\n",
    "delta = t2 - t1\n",
    "[minutos, horas] = convert(delta.total_seconds())\n",
    "\n",
    "if minutos < 1:\n",
    "    print('o jogo deve ter no mínimo uma hora de duração')\n",
    "elif horas > 24:\n",
    "    print('o jogo deve ter no máximo 24 horas de duração')\n",
    "else:\n",
    "    print('O JOGO DUROU', horas, 'horas(S)', minutos, 'MINUTOS')\n"
   ]
  },
  {
   "cell_type": "markdown",
   "metadata": {},
   "source": [
    "# questao 3\n",
    "A empresa ABC resolveu conceder um aumento de salários a seus funcionários de acordo com a tabela abaixo:   \n",
    "\n",
    "\n",
    "Salário\tPercentual de Reajuste   \n",
    "0 - 400.00   \n",
    "400.01 - 800.00   \n",
    "800.01 - 1200.00   \n",
    "1200.01 - 2000.00   \n",
    "Acima de 2000.00   \n",
    "\n",
    "15%   \n",
    "12%   \n",
    "10%   \n",
    "7%   \n",
    "4%   \n",
    "\n",
    "Leia o salário do funcionário e calcule e mostre o novo salário, bem como o valor de reajuste ganho e o índice reajustado, em percentual.   \n",
    "\n",
    "## Entrada   \n",
    "A entrada contém apenas um valor de ponto flutuante, com duas casas decimais.   \n",
    "\n",
    "## Saída   \n",
    "Imprima 3 linhas na saída: o novo salário, o valor ganho de reajuste (ambos devem ser apresentados com 2 casas decimais) e o percentual de reajuste ganho, conforme exemplo abaixo.   \n",
    "\n",
    " \n",
    "## Exemplo de Entrada\tExemplo de Saída   \n",
    "400.00   \n",
    "\n",
    "Novo salario: 460.00   \n",
    "Reajuste ganho: 60.00   \n",
    "Em percentual: 15 %   \n",
    "\n"
   ]
  },
  {
   "cell_type": "code",
   "execution_count": null,
   "metadata": {},
   "outputs": [],
   "source": [
    "salario = float(input(\"salario\"))\n",
    "# salario = 400.00\n",
    "reajuste = 0\n",
    "\n",
    "if salario <= 400:\n",
    "  aumento = \"15 %\"\n",
    "  reajuste = salario * 0.15\n",
    "  salario = salario + reajuste\n",
    "elif salario <= 800:\n",
    "  aumento = \"12 %\"\n",
    "  reajuste = salario * 0.12\n",
    "  salario = salario + reajuste\n",
    "elif salario <= 1200:\n",
    "  aumento = \"10 %\"\n",
    "  reajuste = salario * 0.10\n",
    "  salario = salario + reajuste\n",
    "elif salario <= 2000:\n",
    "  aumento = \"7 %\"\n",
    "  reajuste = salario * 0.7\n",
    "  salario = salario + reajuste\n",
    "else:\n",
    "  aumento = \"4 %\"\n",
    "  reajuste = salario * 0.4\n",
    "  salario = salario + reajuste\n",
    "\n",
    "print('Novo salario:', salario )  \n",
    "print('Reajuste ganho:', reajuste)\n",
    "print('Em percentual:', aumento)"
   ]
  },
  {
   "cell_type": "markdown",
   "metadata": {},
   "source": [
    "# questao 4\n",
    "Neste problema, você deverá ler 3 palavras que definem o tipo de animal possível segundo o esquema abaixo, da esquerda para a direita.  Em seguida conclua qual dos animais seguintes foi escolhido, através das três palavras fornecidas.\n",
    "\n",
    "*image*\n",
    "\n",
    "## Entrada\n",
    "A entrada contém 3 palavras, uma em cada linha, necessárias para identificar o animal segundo a figura acima, com todas as letras minúsculas.\n",
    "\n",
    "## Saída\n",
    "Imprima o nome do animal correspondente à entrada fornecida.\n",
    "\n",
    " \n",
    "## Exemplos de Entrada\tExemplos de Saída\n",
    "vertebrado    \n",
    "mamifero      \n",
    "onivoro    \n",
    "\n",
    "saida: homem"
   ]
  },
  {
   "cell_type": "code",
   "execution_count": null,
   "metadata": {},
   "outputs": [],
   "source": [
    "A = input()\n",
    "B = input()\n",
    "C = input()\n",
    "\n",
    "if A == 'vertebrado':\n",
    "\n",
    "    if B == 'ave':\n",
    "\n",
    "        if C == 'carnivoro':\n",
    "            print('aguia')\n",
    "        elif C == \"onivoro\":\n",
    "            print('pomba')\n",
    "        else:\n",
    "            print('nao encontrado')\n",
    "\n",
    "    elif B == 'mamifero':\n",
    "\n",
    "        if C == 'onivoro':\n",
    "            print('homen')\n",
    "        elif C == \"herbivoro\":\n",
    "            print('vaca')\n",
    "        else:\n",
    "            print('nao encontrado')\n",
    "\n",
    "    else:\n",
    "        print('nao encontrado')\n",
    "\n",
    "elif A == 'invertebrado':\n",
    "    if B == 'inseto':\n",
    "        if C == 'hematofago':\n",
    "            print('pulga')\n",
    "        elif C == \"herbivoro\":\n",
    "            print('lagarta')\n",
    "        else:\n",
    "            print('nao encontrado')\n",
    "    elif B == 'anelideo':\n",
    "        if C == 'hematofago':\n",
    "            print('sanguesuga')\n",
    "        elif C == \"onivoro\":\n",
    "            print('minhoca')\n",
    "        else:\n",
    "            print('nao encontrado')\n",
    "    else:\n",
    "        print('nao encontrado')\n",
    "\n",
    "else:\n",
    "    print('nao encontrado')\n"
   ]
  },
  {
   "cell_type": "markdown",
   "metadata": {},
   "source": [
    "# questao 5\n"
   ]
  },
  {
   "cell_type": "code",
   "execution_count": null,
   "metadata": {},
   "outputs": [],
   "source": [
    "ddd = int(input())\n",
    "\n",
    "if ddd == 61:\n",
    "    print('Brasilia')\n",
    "elif ddd == 71:\n",
    "    print('Salvador')\n",
    "elif ddd == 11:\n",
    "    print('Sao Paulo')\n",
    "elif ddd == 21:\n",
    "    print('Rio de Janeiro')\n",
    "elif ddd == 32:\n",
    "    print('Juiz de Fora')\n",
    "elif ddd == 19:\n",
    "    print('Campina')\n",
    "elif ddd == 27:\n",
    "    print('Vitoria')\n",
    "elif ddd == 31:\n",
    "    print('Belo Horizonte')\n",
    "else:\n",
    "    print('DDD nao cadastrado')\n"
   ]
  },
  {
   "cell_type": "markdown",
   "metadata": {},
   "source": [
    "# questao 6\n",
    "Entrada\n",
    "A entrada contém apenas um valor de ponto flutuante, com duas casas decimais.\n",
    "\n",
    "## Saída\n",
    "Imprima o texto \"R$\" seguido de um espaço e do valor total devido de Imposto de Renda, com duas casas após o ponto. Se o valor de entrada for menor ou igual a 2000, deverá ser impressa a mensagem \"Isento\".\n",
    "\n",
    " \n",
    "## Exemplos de Entrada\tExemplos de Saída\n",
    "3002.00\n",
    "\n",
    "R$ 80.36"
   ]
  },
  {
   "cell_type": "code",
   "execution_count": 45,
   "metadata": {},
   "outputs": [
    {
     "name": "stdout",
     "output_type": "stream",
     "text": [
      "0.0 1002.0\n",
      "80.16 -1998.0\n",
      "R$ 80.16\n"
     ]
    }
   ],
   "source": [
    "renda = float(input(\"renda\"))\n",
    "\n",
    "impostos = [\n",
    "  {'renda': 2000, 'imposto': 0},\n",
    "  {'renda': 3000, 'imposto': 0.08},\n",
    "  {'renda': 4500, 'imposto': 0.18},\n",
    "  {'renda': 0,'imposto': 0.28}\n",
    "]\n",
    "soma = 0\n",
    "\n",
    "for imposto in impostos:\n",
    "  if renda > 0:\n",
    "    soma += renda * imposto['imposto']\n",
    "    renda -= imposto['renda'] \n",
    "    print(soma, renda)\n",
    "\n",
    "\n",
    "print('R$', soma)"
   ]
  },
  {
   "cell_type": "markdown",
   "metadata": {},
   "source": [
    "# questao 7"
   ]
  },
  {
   "cell_type": "code",
   "execution_count": null,
   "metadata": {},
   "outputs": [],
   "source": [
    "monthNames = [\"January\", \"February\", \"March\", \"April\", \"May\", \"June\",\n",
    "  \"July\", \"August\", \"September\", \"October\", \"November\", \"December\"\n",
    "];\n",
    "\n",
    "monthNumber = int(input())\n",
    "print(monthNames[monthNumber - 1])"
   ]
  },
  {
   "cell_type": "markdown",
   "metadata": {},
   "source": [
    "# questao 8"
   ]
  },
  {
   "cell_type": "code",
   "execution_count": null,
   "metadata": {},
   "outputs": [],
   "source": [
    "for numero in range(1, 101):\n",
    "    if numero % 2 == 0:\n",
    "        print(numero)\n"
   ]
  },
  {
   "cell_type": "code",
   "execution_count": null,
   "metadata": {},
   "outputs": [],
   "source": []
  }
 ],
 "metadata": {
  "kernelspec": {
   "display_name": "Python 3.10.8 64-bit",
   "language": "python",
   "name": "python3"
  },
  "language_info": {
   "codemirror_mode": {
    "name": "ipython",
    "version": 3
   },
   "file_extension": ".py",
   "mimetype": "text/x-python",
   "name": "python",
   "nbconvert_exporter": "python",
   "pygments_lexer": "ipython3",
   "version": "3.10.8"
  },
  "orig_nbformat": 4,
  "vscode": {
   "interpreter": {
    "hash": "e7370f93d1d0cde622a1f8e1c04877d8463912d04d973331ad4851f04de6915a"
   }
  }
 },
 "nbformat": 4,
 "nbformat_minor": 2
}
