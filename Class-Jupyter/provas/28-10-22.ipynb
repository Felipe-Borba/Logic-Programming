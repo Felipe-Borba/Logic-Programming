{
 "cells": [
  {
   "cell_type": "code",
   "execution_count": 1,
   "metadata": {},
   "outputs": [
    {
     "name": "stdout",
     "output_type": "stream",
     "text": [
      "Total de horas trabalhadas:  205.0\n"
     ]
    }
   ],
   "source": [
    "# Algoritmo exemplo para téste no cálculo das horas trabalhadas\n",
    "x = int(input(\"Digite a quantidade de dias\"))\n",
    "y = float(input(\"Digite quantidade de horas diárias\"))\n",
    "totalHoras = x * y\n",
    "print(\"Total de horas trabalhadas: \",totalHoras)"
   ]
  },
  {
   "cell_type": "code",
   "execution_count": 2,
   "metadata": {},
   "outputs": [],
   "source": [
    "X=0; Y=1; Z=3; K=7; W=9;"
   ]
  },
  {
   "cell_type": "code",
   "execution_count": 3,
   "metadata": {},
   "outputs": [
    {
     "data": {
      "text/plain": [
       "0"
      ]
     },
     "execution_count": 3,
     "metadata": {},
     "output_type": "execute_result"
    }
   ],
   "source": [
    "Y + X * K - Y"
   ]
  },
  {
   "cell_type": "code",
   "execution_count": 4,
   "metadata": {},
   "outputs": [
    {
     "data": {
      "text/plain": [
       "4.0"
      ]
     },
     "execution_count": 4,
     "metadata": {},
     "output_type": "execute_result"
    }
   ],
   "source": [
    "K - W / Z"
   ]
  },
  {
   "cell_type": "code",
   "execution_count": 6,
   "metadata": {},
   "outputs": [
    {
     "data": {
      "text/plain": [
       "4.5"
      ]
     },
     "execution_count": 6,
     "metadata": {},
     "output_type": "execute_result"
    }
   ],
   "source": [
    "W / (W - K)"
   ]
  },
  {
   "cell_type": "code",
   "execution_count": 10,
   "metadata": {},
   "outputs": [],
   "source": [
    "X = 8\n",
    "Y = 2"
   ]
  },
  {
   "cell_type": "code",
   "execution_count": 11,
   "metadata": {},
   "outputs": [
    {
     "name": "stdout",
     "output_type": "stream",
     "text": [
      "2 0 -16 0\n"
     ]
    }
   ],
   "source": [
    "Z = -X*Y\n",
    "K = X % Y\n",
    "X += -6\n",
    "Y -= 2\n",
    "print(X,Y,Z,K)"
   ]
  },
  {
   "cell_type": "code",
   "execution_count": 12,
   "metadata": {},
   "outputs": [
    {
     "data": {
      "text/plain": [
       "4"
      ]
     },
     "execution_count": 12,
     "metadata": {},
     "output_type": "execute_result"
    }
   ],
   "source": [
    "pow(2,2)"
   ]
  },
  {
   "cell_type": "code",
   "execution_count": 17,
   "metadata": {},
   "outputs": [
    {
     "data": {
      "text/plain": [
       "2.23606797749979"
      ]
     },
     "execution_count": 17,
     "metadata": {},
     "output_type": "execute_result"
    }
   ],
   "source": [
    "from math import *\n",
    "sqrt(5)"
   ]
  },
  {
   "cell_type": "code",
   "execution_count": 16,
   "metadata": {},
   "outputs": [
    {
     "data": {
      "text/plain": [
       "1"
      ]
     },
     "execution_count": 16,
     "metadata": {},
     "output_type": "execute_result"
    }
   ],
   "source": [
    "5//3"
   ]
  },
  {
   "cell_type": "code",
   "execution_count": 37,
   "metadata": {},
   "outputs": [
    {
     "name": "stdout",
     "output_type": "stream",
     "text": [
      "A= 12.5664 \n",
      "\n"
     ]
    }
   ],
   "source": [
    "pi = 3.14159\n",
    "raio = float(input('Digite o raio:'))\n",
    "\n",
    "area = pi * pow(raio,2)\n",
    "print(\"A=\", \"{:.4f}\".format(area), '\\n')"
   ]
  },
  {
   "cell_type": "code",
   "execution_count": 40,
   "metadata": {},
   "outputs": [
    {
     "name": "stdout",
     "output_type": "stream",
     "text": [
      "MEDIA = 7.07500 \n",
      "\n"
     ]
    }
   ],
   "source": [
    "A=float(input(\"Digite a primeira nota\"))\n",
    "B=float(input(\"Digite a segunda nota\"))\n",
    "media = 0.35 * A + 0.75 * B\n",
    "\n",
    "print(\"MEDIA =\",\"{:.5f}\".format(media), '\\n')"
   ]
  },
  {
   "cell_type": "code",
   "execution_count": 36,
   "metadata": {},
   "outputs": [
    {
     "name": "stdout",
     "output_type": "stream",
     "text": [
      "X =  19 \n",
      "\n"
     ]
    }
   ],
   "source": [
    "A = int(input(\"Digite o valor de A\"))\n",
    "B = int(input(\"Digite o valor de B\"))\n",
    "X = A + B\n",
    "print(\"X = \", X, '\\n')"
   ]
  },
  {
   "cell_type": "code",
   "execution_count": 34,
   "metadata": {},
   "outputs": [
    {
     "name": "stdout",
     "output_type": "stream",
     "text": [
      "MEDIA =  4.8 \n",
      "\n"
     ]
    }
   ],
   "source": [
    "A=float(input(\"Digite a primeira nota\"))\n",
    "B=float(input(\"Digite a segunda nota\"))\n",
    "C=float(input(\"Digite a terceira nota\"))\n",
    "media = 0.2*A + 0.3*B + 0.5*C\n",
    "print(\"MEDIA = \",\"{:.1f}\".format(media), '\\n')"
   ]
  }
 ],
 "metadata": {
  "kernelspec": {
   "display_name": "Python 3.10.7 64-bit",
   "language": "python",
   "name": "python3"
  },
  "language_info": {
   "codemirror_mode": {
    "name": "ipython",
    "version": 3
   },
   "file_extension": ".py",
   "mimetype": "text/x-python",
   "name": "python",
   "nbconvert_exporter": "python",
   "pygments_lexer": "ipython3",
   "version": "3.10.7"
  },
  "orig_nbformat": 4,
  "vscode": {
   "interpreter": {
    "hash": "e7370f93d1d0cde622a1f8e1c04877d8463912d04d973331ad4851f04de6915a"
   }
  }
 },
 "nbformat": 4,
 "nbformat_minor": 2
}
