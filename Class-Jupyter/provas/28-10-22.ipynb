{
 "cells": [
  {
   "cell_type": "code",
   "execution_count": null,
   "metadata": {},
   "outputs": [],
   "source": [
    "# Algoritmo exemplo para téste no cálculo das horas trabalhadas\n",
    "x = int(input(\"Digite a quantidade de dias\"))\n",
    "y = float(input(\"Digite quantidade de horas diárias\"))\n",
    "totalHoras = x * y\n",
    "print(\"Total de horas trabalhadas: \",totalHoras)"
   ]
  },
  {
   "cell_type": "code",
   "execution_count": null,
   "metadata": {},
   "outputs": [],
   "source": [
    "X=0; Y=1; Z=3; K=7; W=9;"
   ]
  },
  {
   "cell_type": "code",
   "execution_count": null,
   "metadata": {},
   "outputs": [],
   "source": [
    "Y + X * K - Y"
   ]
  },
  {
   "cell_type": "code",
   "execution_count": null,
   "metadata": {},
   "outputs": [],
   "source": [
    "K - W / Z"
   ]
  },
  {
   "cell_type": "code",
   "execution_count": null,
   "metadata": {},
   "outputs": [],
   "source": [
    "W / (W - K)"
   ]
  },
  {
   "cell_type": "code",
   "execution_count": null,
   "metadata": {},
   "outputs": [],
   "source": [
    "X = 8\n",
    "Y = 2"
   ]
  },
  {
   "cell_type": "code",
   "execution_count": null,
   "metadata": {},
   "outputs": [],
   "source": [
    "Z = -X*Y\n",
    "K = X % Y\n",
    "X += -6\n",
    "Y -= 2\n",
    "print(X,Y,Z,K)"
   ]
  },
  {
   "cell_type": "code",
   "execution_count": null,
   "metadata": {},
   "outputs": [],
   "source": [
    "pow(2,2)"
   ]
  },
  {
   "cell_type": "code",
   "execution_count": null,
   "metadata": {},
   "outputs": [],
   "source": [
    "from math import *\n",
    "sqrt(5)"
   ]
  },
  {
   "cell_type": "code",
   "execution_count": null,
   "metadata": {},
   "outputs": [],
   "source": [
    "5//3"
   ]
  },
  {
   "cell_type": "code",
   "execution_count": null,
   "metadata": {},
   "outputs": [],
   "source": [
    "pi = 3.14159\n",
    "raio = float(input('Digite o raio:'))\n",
    "\n",
    "area = pi * pow(raio,2)\n",
    "print(\"A=\", \"{:.4f}\".format(area), '\\n')"
   ]
  },
  {
   "cell_type": "code",
   "execution_count": null,
   "metadata": {},
   "outputs": [],
   "source": [
    "A=float(input(\"Digite a primeira nota\"))\n",
    "B=float(input(\"Digite a segunda nota\"))\n",
    "media = 0.35 * A + 0.75 * B\n",
    "\n",
    "print(\"MEDIA =\",\"{:.5f}\".format(media), '\\n')"
   ]
  },
  {
   "cell_type": "code",
   "execution_count": null,
   "metadata": {},
   "outputs": [],
   "source": [
    "A = int(input(\"Digite o valor de A\"))\n",
    "B = int(input(\"Digite o valor de B\"))\n",
    "X = A + B\n",
    "print(\"X = \", X, '\\n')"
   ]
  },
  {
   "cell_type": "code",
   "execution_count": null,
   "metadata": {},
   "outputs": [],
   "source": [
    "A=float(input(\"Digite a primeira nota\"))\n",
    "B=float(input(\"Digite a segunda nota\"))\n",
    "C=float(input(\"Digite a terceira nota\"))\n",
    "media = 0.2*A + 0.3*B + 0.5*C\n",
    "print(\"MEDIA = \",\"{:.1f}\".format(media), '\\n')"
   ]
  }
 ],
 "metadata": {
  "kernelspec": {
   "display_name": "Python 3.10.7 64-bit",
   "language": "python",
   "name": "python3"
  },
  "language_info": {
   "codemirror_mode": {
    "name": "ipython",
    "version": 3
   },
   "file_extension": ".py",
   "mimetype": "text/x-python",
   "name": "python",
   "nbconvert_exporter": "python",
   "pygments_lexer": "ipython3",
   "version": "3.10.7"
  },
  "orig_nbformat": 4,
  "vscode": {
   "interpreter": {
    "hash": "e7370f93d1d0cde622a1f8e1c04877d8463912d04d973331ad4851f04de6915a"
   }
  }
 },
 "nbformat": 4,
 "nbformat_minor": 2
}
