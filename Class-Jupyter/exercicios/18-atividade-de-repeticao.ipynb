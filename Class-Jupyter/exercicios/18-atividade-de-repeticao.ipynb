{
 "cells": [
  {
   "cell_type": "code",
   "execution_count": 11,
   "metadata": {},
   "outputs": [
    {
     "name": "stdout",
     "output_type": "stream",
     "text": [
      "1 1.0\n",
      "distancia:  5.6569\n"
     ]
    }
   ],
   "source": [
    "from math import *\n",
    "\n",
    "p1 = input(\"digite a condenada 1 separada por espaço\")\n",
    "p2 = input(\"digite a condenada 2 separada por espaço\")\n",
    "[rx1, ry1] = p1.split(' ')\n",
    "[rx2, ry2] = p2.split(' ')\n",
    "x1 = float(rx1)\n",
    "x2 = float(rx2)\n",
    "y1 = float(ry1)\n",
    "y2 = float(ry2)\n",
    "\n",
    "\n",
    "distancia = sqrt(pow((x2-x1),2) + pow((y2-y1),2))\n",
    "print(\"distancia: \", round(distancia, 4))"
   ]
  },
  {
   "cell_type": "code",
   "execution_count": 9,
   "metadata": {},
   "outputs": [
    {
     "name": "stdout",
     "output_type": "stream",
     "text": [
      "60.0 minutos\n"
     ]
    }
   ],
   "source": [
    "vc1 = 60\n",
    "vc2 = 90\n",
    "vr = vc2 - vc1\n",
    "distancia = int(input(\"digite a distancia em km\"))\n",
    "tempo_p_distancia = distancia / vr\n",
    "\n",
    "print(tempo_p_distancia * 60, \"minutos\")\n"
   ]
  },
  {
   "cell_type": "code",
   "execution_count": 15,
   "metadata": {},
   "outputs": [
    {
     "name": "stdout",
     "output_type": "stream",
     "text": [
      "850.0\n",
      "consumo 70.833\n"
     ]
    }
   ],
   "source": [
    "tempo = float(input('tempo gasto na viagem horas'))\n",
    "velocidade_media = float(input('velocidade media km/h'))\n",
    "distancia = tempo * velocidade_media\n",
    "consumo = distancia / 12\n",
    "print('consumo', round(consumo, 3))"
   ]
  },
  {
   "cell_type": "code",
   "execution_count": 24,
   "metadata": {},
   "outputs": [
    {
     "name": "stdout",
     "output_type": "stream",
     "text": [
      "A=14159551.3951\n"
     ]
    }
   ],
   "source": [
    "raio = float(input())\n",
    "pi = 3.14159\n",
    "area = round(pi * raio**2,4)\n",
    "print(\"A=%.4f\" % area)"
   ]
  },
  {
   "cell_type": "code",
   "execution_count": 29,
   "metadata": {},
   "outputs": [
    {
     "name": "stdout",
     "output_type": "stream",
     "text": [
      "MEDIA = 6.43182\n"
     ]
    }
   ],
   "source": [
    "A=float(input())\n",
    "B=float(input())\n",
    "media = 3.5 * A + 7.5 * B\n",
    "print('MEDIA = {:.5f}'.format(media / 11))"
   ]
  },
  {
   "cell_type": "code",
   "execution_count": 38,
   "metadata": {},
   "outputs": [
    {
     "name": "stdout",
     "output_type": "stream",
     "text": [
      "DIFERENCA = -10\n"
     ]
    }
   ],
   "source": [
    "A = int(input())\n",
    "B = int(input())\n",
    "C = int(input())\n",
    "D = int(input())\n",
    "Dif = (A * B - C * D)\n",
    "print('DIFERENCA = {}'.format(Dif))"
   ]
  },
  {
   "cell_type": "code",
   "execution_count": 40,
   "metadata": {},
   "outputs": [
    {
     "name": "stdout",
     "output_type": "stream",
     "text": [
      "TOTAL = R$ 1884.58\n"
     ]
    }
   ],
   "source": [
    "salario=float(input())\n",
    "venda=float(input())\n",
    "\n",
    "print('TOTAL = R$ {:.2f}'.format(salario + 0.15*venda))"
   ]
  },
  {
   "cell_type": "code",
   "execution_count": 43,
   "metadata": {},
   "outputs": [
    {
     "name": "stdout",
     "output_type": "stream",
     "text": [
      "VALOR A PAGAR: R$ 20.40\n"
     ]
    }
   ],
   "source": [
    "A=input()\n",
    "B=input()\n",
    "[cp1, np1, vp1] = A.split(' ')\n",
    "[cp2, np2, vp2] = A.split(' ')\n",
    "cp1 = int(cp1)\n",
    "np1 = int(np1)\n",
    "vp1 = float(vp1)\n",
    "\n",
    "cp2 = int(cp2)\n",
    "np2 = int(np2)\n",
    "vp2 = float(vp2)\n",
    "\n",
    "print('VALOR A PAGAR: R$ {:.2f}'.format(np1 * vp1 + np2 * vp2))"
   ]
  },
  {
   "cell_type": "code",
   "execution_count": null,
   "metadata": {},
   "outputs": [],
   "source": []
  }
 ],
 "metadata": {
  "kernelspec": {
   "display_name": "Python 3.10.8 64-bit",
   "language": "python",
   "name": "python3"
  },
  "language_info": {
   "codemirror_mode": {
    "name": "ipython",
    "version": 3
   },
   "file_extension": ".py",
   "mimetype": "text/x-python",
   "name": "python",
   "nbconvert_exporter": "python",
   "pygments_lexer": "ipython3",
   "version": "3.10.8"
  },
  "orig_nbformat": 4,
  "vscode": {
   "interpreter": {
    "hash": "e7370f93d1d0cde622a1f8e1c04877d8463912d04d973331ad4851f04de6915a"
   }
  }
 },
 "nbformat": 4,
 "nbformat_minor": 2
}
