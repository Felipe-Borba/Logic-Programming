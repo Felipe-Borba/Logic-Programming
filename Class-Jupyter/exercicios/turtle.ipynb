{
 "cells": [
  {
   "cell_type": "code",
   "execution_count": 1,
   "metadata": {},
   "outputs": [],
   "source": [
    "import turtle #módulo turtle permite criar imagens usando [https://docs.python.org/3/library/turtle.html]\n",
    "\n",
    "def drawl_letter_f():\n",
    "  bob = turtle.Turtle()\n",
    "  bob.lt(90)\n",
    "  bob.fd(100)\n",
    "  bob.rt(90)\n",
    "\n",
    "  bob.fd(50)\n",
    "  bob.lt(180)\n",
    "  bob.fd(50)\n",
    "\n",
    "  bob.lt(90)\n",
    "  bob.fd(40)\n",
    "  bob.lt(90)\n",
    "\n",
    "  bob.fd(40)\n",
    "  bob.lt(180)\n",
    "  bob.fd(40)"
   ]
  },
  {
   "cell_type": "code",
   "execution_count": 2,
   "metadata": {},
   "outputs": [],
   "source": [
    "drawl_letter_f()\n",
    "\n",
    "turtle.exitonclick()"
   ]
  },
  {
   "cell_type": "code",
   "execution_count": null,
   "metadata": {},
   "outputs": [],
   "source": []
  }
 ],
 "metadata": {
  "kernelspec": {
   "display_name": "Python 3.10.7 64-bit",
   "language": "python",
   "name": "python3"
  },
  "language_info": {
   "codemirror_mode": {
    "name": "ipython",
    "version": 3
   },
   "file_extension": ".py",
   "mimetype": "text/x-python",
   "name": "python",
   "nbconvert_exporter": "python",
   "pygments_lexer": "ipython3",
   "version": "3.10.7"
  },
  "orig_nbformat": 4,
  "vscode": {
   "interpreter": {
    "hash": "e7370f93d1d0cde622a1f8e1c04877d8463912d04d973331ad4851f04de6915a"
   }
  }
 },
 "nbformat": 4,
 "nbformat_minor": 2
}
