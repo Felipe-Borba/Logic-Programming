{
 "cells": [
  {
   "cell_type": "code",
   "execution_count": 1,
   "metadata": {},
   "outputs": [],
   "source": [
    "import turtle #módulo turtle permite criar imagens usando [https://docs.python.org/3/library/turtle.html]\n",
    "\n",
    "def drawl_letter_f():\n",
    "  bob = turtle.Turtle()\n",
    "  bob.lt(90)\n",
    "  bob.fd(100)\n",
    "  bob.rt(90)\n",
    "\n",
    "  bob.fd(50)\n",
    "  bob.lt(180)\n",
    "  bob.fd(50)\n",
    "\n",
    "  bob.lt(90)\n",
    "  bob.fd(40)\n",
    "  bob.lt(90)\n",
    "\n",
    "  bob.fd(40)\n",
    "  bob.lt(180)\n",
    "  bob.fd(40)"
   ]
  },
  {
   "cell_type": "code",
   "execution_count": 2,
   "metadata": {},
   "outputs": [],
   "source": [
    "import turtle\n",
    "\n",
    "def draw_letter_p():\n",
    "  turt = turtle.Turtle()\n",
    "  # turt.shape(\"turtle\")\n",
    "  # turt.pensize(10)\n",
    "  turt.right(90)\n",
    "  turt.fd(130)\n",
    "  turt.bk(50)\n",
    "  turt.left(90)\n",
    "  turt.circle(40,180)"
   ]
  },
  {
   "cell_type": "code",
   "execution_count": 3,
   "metadata": {},
   "outputs": [],
   "source": [
    "import turtle\n",
    "\n",
    "def draw_letter_e():\n",
    "  turt = turtle.Turtle()\n",
    "\n",
    "  turt.fd(30)\n",
    "  turt.bk(30)\n",
    "  turt.left(90)\n",
    "\n",
    "  turt.fd(60)\n",
    "\n",
    "  turt.right(90)\n",
    "  turt.fd(30)\n",
    "  turt.bk(30)\n",
    "  turt.left(90)\n",
    "\n",
    "  turt.fd(60)\n",
    "\n",
    "  turt.right(90)\n",
    "  turt.fd(30)"
   ]
  },
  {
   "cell_type": "code",
   "execution_count": 4,
   "metadata": {},
   "outputs": [],
   "source": [
    "# drawl_letter_f()\n",
    "# draw_letter_e()\n",
    "draw_letter_p()\n",
    "\n",
    "turtle.exitonclick()"
   ]
  },
  {
   "cell_type": "code",
   "execution_count": 62,
   "metadata": {},
   "outputs": [
    {
     "data": {
      "text/html": [
       "\n",
       "      <svg width=\"800\" height=\"500\">\n",
       "        <rect width=\"100%\" height=\"100%\" fill=\"black\"/>\n",
       "        <line x1=\"400\" y1=\"250\" x2=\"403.77\" y2=\"251.968\" stroke-linecap=\"round\" style=\"stroke:white;stroke-width:4\"/><line x1=\"403.77\" y1=\"251.968\" x2=\"407.694\" y2=\"253.608\" stroke-linecap=\"round\" style=\"stroke:white;stroke-width:4\"/><line x1=\"407.694\" y1=\"253.608\" x2=\"411.743\" y2=\"254.909\" stroke-linecap=\"round\" style=\"stroke:white;stroke-width:4\"/><line x1=\"411.743\" y1=\"254.909\" x2=\"415.888\" y2=\"255.861\" stroke-linecap=\"round\" style=\"stroke:white;stroke-width:4\"/><line x1=\"415.888\" y1=\"255.861\" x2=\"420.099\" y2=\"256.457\" stroke-linecap=\"round\" style=\"stroke:white;stroke-width:4\"/><line x1=\"420.099\" y1=\"256.457\" x2=\"424.345\" y2=\"256.693\" stroke-linecap=\"round\" style=\"stroke:white;stroke-width:4\"/><line x1=\"424.345\" y1=\"256.693\" x2=\"428.596\" y2=\"256.568\" stroke-linecap=\"round\" style=\"stroke:white;stroke-width:4\"/><line x1=\"428.596\" y1=\"256.568\" x2=\"432.821\" y2=\"256.082\" stroke-linecap=\"round\" style=\"stroke:white;stroke-width:4\"/><line x1=\"432.821\" y1=\"256.082\" x2=\"436.989\" y2=\"255.239\" stroke-linecap=\"round\" style=\"stroke:white;stroke-width:4\"/><line x1=\"436.989\" y1=\"255.239\" x2=\"441.071\" y2=\"254.044\" stroke-linecap=\"round\" style=\"stroke:white;stroke-width:4\"/><line x1=\"441.071\" y1=\"254.044\" x2=\"445.036\" y2=\"252.507\" stroke-linecap=\"round\" style=\"stroke:white;stroke-width:4\"/><line x1=\"445.036\" y1=\"252.507\" x2=\"448.856\" y2=\"250.638\" stroke-linecap=\"round\" style=\"stroke:white;stroke-width:4\"/><line x1=\"448.856\" y1=\"250.638\" x2=\"452.504\" y2=\"248.452\" stroke-linecap=\"round\" style=\"stroke:white;stroke-width:4\"/><line x1=\"452.504\" y1=\"248.452\" x2=\"455.953\" y2=\"245.963\" stroke-linecap=\"round\" style=\"stroke:white;stroke-width:4\"/><line x1=\"455.953\" y1=\"245.963\" x2=\"459.178\" y2=\"243.19\" stroke-linecap=\"round\" style=\"stroke:white;stroke-width:4\"/><line x1=\"459.178\" y1=\"243.19\" x2=\"462.156\" y2=\"240.153\" stroke-linecap=\"round\" style=\"stroke:white;stroke-width:4\"/><line x1=\"462.156\" y1=\"240.153\" x2=\"464.865\" y2=\"236.874\" stroke-linecap=\"round\" style=\"stroke:white;stroke-width:4\"/><line x1=\"464.865\" y1=\"236.874\" x2=\"467.285\" y2=\"233.377\" stroke-linecap=\"round\" style=\"stroke:white;stroke-width:4\"/><line x1=\"467.285\" y1=\"233.377\" x2=\"469.399\" y2=\"229.687\" stroke-linecap=\"round\" style=\"stroke:white;stroke-width:4\"/><line x1=\"469.399\" y1=\"229.687\" x2=\"471.192\" y2=\"225.831\" stroke-linecap=\"round\" style=\"stroke:white;stroke-width:4\"/><line x1=\"471.192\" y1=\"225.831\" x2=\"472.651\" y2=\"221.836\" stroke-linecap=\"round\" style=\"stroke:white;stroke-width:4\"/><line x1=\"472.651\" y1=\"221.836\" x2=\"473.765\" y2=\"217.732\" stroke-linecap=\"round\" style=\"stroke:white;stroke-width:4\"/><line x1=\"473.765\" y1=\"217.732\" x2=\"474.526\" y2=\"213.548\" stroke-linecap=\"round\" style=\"stroke:white;stroke-width:4\"/><line x1=\"474.526\" y1=\"213.548\" x2=\"474.929\" y2=\"209.314\" stroke-linecap=\"round\" style=\"stroke:white;stroke-width:4\"/><line x1=\"474.929\" y1=\"209.314\" x2=\"474.971\" y2=\"205.061\" stroke-linecap=\"round\" style=\"stroke:white;stroke-width:4\"/><line x1=\"474.971\" y1=\"205.061\" x2=\"474.651\" y2=\"200.82\" stroke-linecap=\"round\" style=\"stroke:white;stroke-width:4\"/><line x1=\"474.651\" y1=\"200.82\" x2=\"473.972\" y2=\"196.622\" stroke-linecap=\"round\" style=\"stroke:white;stroke-width:4\"/><line x1=\"473.972\" y1=\"196.622\" x2=\"472.939\" y2=\"192.496\" stroke-linecap=\"round\" style=\"stroke:white;stroke-width:4\"/><line x1=\"472.939\" y1=\"192.496\" x2=\"471.559\" y2=\"188.473\" stroke-linecap=\"round\" style=\"stroke:white;stroke-width:4\"/><line x1=\"471.559\" y1=\"188.473\" x2=\"469.842\" y2=\"184.582\" stroke-linecap=\"round\" style=\"stroke:white;stroke-width:4\"/><line x1=\"469.842\" y1=\"184.582\" x2=\"467.8\" y2=\"180.851\" stroke-linecap=\"round\" style=\"stroke:white;stroke-width:4\"/><line x1=\"467.8\" y1=\"180.851\" x2=\"465.449\" y2=\"177.307\" stroke-linecap=\"round\" style=\"stroke:white;stroke-width:4\"/><line x1=\"465.449\" y1=\"177.307\" x2=\"462.805\" y2=\"173.976\" stroke-linecap=\"round\" style=\"stroke:white;stroke-width:4\"/><line x1=\"462.805\" y1=\"173.976\" x2=\"459.888\" y2=\"170.881\" stroke-linecap=\"round\" style=\"stroke:white;stroke-width:4\"/><line x1=\"459.888\" y1=\"170.881\" x2=\"456.718\" y2=\"168.046\" stroke-linecap=\"round\" style=\"stroke:white;stroke-width:4\"/><line x1=\"456.718\" y1=\"168.046\" x2=\"453.319\" y2=\"165.49\" stroke-linecap=\"round\" style=\"stroke:white;stroke-width:4\"/><line x1=\"453.319\" y1=\"165.49\" x2=\"449.715\" y2=\"163.232\" stroke-linecap=\"round\" style=\"stroke:white;stroke-width:4\"/><line x1=\"449.715\" y1=\"163.232\" x2=\"445.932\" y2=\"161.289\" stroke-linecap=\"round\" style=\"stroke:white;stroke-width:4\"/><line x1=\"445.932\" y1=\"161.289\" x2=\"441.997\" y2=\"159.674\" stroke-linecap=\"round\" style=\"stroke:white;stroke-width:4\"/><line x1=\"441.997\" y1=\"159.674\" x2=\"437.939\" y2=\"158.4\" stroke-linecap=\"round\" style=\"stroke:white;stroke-width:4\"/><line x1=\"437.939\" y1=\"158.4\" x2=\"433.881\" y2=\"157.126\" stroke-linecap=\"round\" style=\"stroke:white;stroke-width:4\"/><line x1=\"433.881\" y1=\"157.126\" x2=\"429.946\" y2=\"155.511\" stroke-linecap=\"round\" style=\"stroke:white;stroke-width:4\"/><line x1=\"429.946\" y1=\"155.511\" x2=\"426.163\" y2=\"153.568\" stroke-linecap=\"round\" style=\"stroke:white;stroke-width:4\"/><line x1=\"426.163\" y1=\"153.568\" x2=\"422.559\" y2=\"151.31\" stroke-linecap=\"round\" style=\"stroke:white;stroke-width:4\"/><line x1=\"422.559\" y1=\"151.31\" x2=\"419.16\" y2=\"148.754\" stroke-linecap=\"round\" style=\"stroke:white;stroke-width:4\"/><line x1=\"419.16\" y1=\"148.754\" x2=\"415.99\" y2=\"145.919\" stroke-linecap=\"round\" style=\"stroke:white;stroke-width:4\"/><line x1=\"415.99\" y1=\"145.919\" x2=\"413.073\" y2=\"142.824\" stroke-linecap=\"round\" style=\"stroke:white;stroke-width:4\"/><line x1=\"413.073\" y1=\"142.824\" x2=\"410.429\" y2=\"139.493\" stroke-linecap=\"round\" style=\"stroke:white;stroke-width:4\"/><line x1=\"410.429\" y1=\"139.493\" x2=\"408.078\" y2=\"135.949\" stroke-linecap=\"round\" style=\"stroke:white;stroke-width:4\"/><line x1=\"408.078\" y1=\"135.949\" x2=\"406.036\" y2=\"132.218\" stroke-linecap=\"round\" style=\"stroke:white;stroke-width:4\"/><line x1=\"406.036\" y1=\"132.218\" x2=\"404.319\" y2=\"128.327\" stroke-linecap=\"round\" style=\"stroke:white;stroke-width:4\"/><line x1=\"404.319\" y1=\"128.327\" x2=\"402.939\" y2=\"124.304\" stroke-linecap=\"round\" style=\"stroke:white;stroke-width:4\"/><line x1=\"402.939\" y1=\"124.304\" x2=\"401.906\" y2=\"120.178\" stroke-linecap=\"round\" style=\"stroke:white;stroke-width:4\"/><line x1=\"401.906\" y1=\"120.178\" x2=\"401.227\" y2=\"115.98\" stroke-linecap=\"round\" style=\"stroke:white;stroke-width:4\"/><line x1=\"401.227\" y1=\"115.98\" x2=\"400.907\" y2=\"111.739\" stroke-linecap=\"round\" style=\"stroke:white;stroke-width:4\"/><line x1=\"400.907\" y1=\"111.739\" x2=\"400.949\" y2=\"107.486\" stroke-linecap=\"round\" style=\"stroke:white;stroke-width:4\"/><line x1=\"400.949\" y1=\"107.486\" x2=\"401.352\" y2=\"103.252\" stroke-linecap=\"round\" style=\"stroke:white;stroke-width:4\"/><line x1=\"401.352\" y1=\"103.252\" x2=\"402.113\" y2=\"99.068\" stroke-linecap=\"round\" style=\"stroke:white;stroke-width:4\"/><line x1=\"402.113\" y1=\"99.068\" x2=\"403.227\" y2=\"94.964\" stroke-linecap=\"round\" style=\"stroke:white;stroke-width:4\"/><line x1=\"403.227\" y1=\"94.964\" x2=\"404.686\" y2=\"90.969\" stroke-linecap=\"round\" style=\"stroke:white;stroke-width:4\"/><line x1=\"404.686\" y1=\"90.969\" x2=\"406.479\" y2=\"87.113\" stroke-linecap=\"round\" style=\"stroke:white;stroke-width:4\"/><line x1=\"406.479\" y1=\"87.113\" x2=\"408.593\" y2=\"83.423\" stroke-linecap=\"round\" style=\"stroke:white;stroke-width:4\"/><line x1=\"408.593\" y1=\"83.423\" x2=\"411.013\" y2=\"79.926\" stroke-linecap=\"round\" style=\"stroke:white;stroke-width:4\"/><line x1=\"411.013\" y1=\"79.926\" x2=\"413.722\" y2=\"76.647\" stroke-linecap=\"round\" style=\"stroke:white;stroke-width:4\"/><line x1=\"413.722\" y1=\"76.647\" x2=\"416.7\" y2=\"73.61\" stroke-linecap=\"round\" style=\"stroke:white;stroke-width:4\"/><line x1=\"416.7\" y1=\"73.61\" x2=\"419.925\" y2=\"70.837\" stroke-linecap=\"round\" style=\"stroke:white;stroke-width:4\"/><line x1=\"419.925\" y1=\"70.837\" x2=\"423.374\" y2=\"68.348\" stroke-linecap=\"round\" style=\"stroke:white;stroke-width:4\"/><line x1=\"423.374\" y1=\"68.348\" x2=\"427.022\" y2=\"66.162\" stroke-linecap=\"round\" style=\"stroke:white;stroke-width:4\"/><line x1=\"427.022\" y1=\"66.162\" x2=\"430.842\" y2=\"64.293\" stroke-linecap=\"round\" style=\"stroke:white;stroke-width:4\"/><line x1=\"430.842\" y1=\"64.293\" x2=\"434.807\" y2=\"62.756\" stroke-linecap=\"round\" style=\"stroke:white;stroke-width:4\"/><line x1=\"434.807\" y1=\"62.756\" x2=\"438.889\" y2=\"61.561\" stroke-linecap=\"round\" style=\"stroke:white;stroke-width:4\"/><line x1=\"438.889\" y1=\"61.561\" x2=\"443.057\" y2=\"60.718\" stroke-linecap=\"round\" style=\"stroke:white;stroke-width:4\"/><line x1=\"443.057\" y1=\"60.718\" x2=\"447.282\" y2=\"60.232\" stroke-linecap=\"round\" style=\"stroke:white;stroke-width:4\"/><line x1=\"447.282\" y1=\"60.232\" x2=\"451.533\" y2=\"60.107\" stroke-linecap=\"round\" style=\"stroke:white;stroke-width:4\"/><line x1=\"451.533\" y1=\"60.107\" x2=\"455.779\" y2=\"60.343\" stroke-linecap=\"round\" style=\"stroke:white;stroke-width:4\"/><line x1=\"455.779\" y1=\"60.343\" x2=\"459.99\" y2=\"60.939\" stroke-linecap=\"round\" style=\"stroke:white;stroke-width:4\"/><line x1=\"459.99\" y1=\"60.939\" x2=\"464.135\" y2=\"61.891\" stroke-linecap=\"round\" style=\"stroke:white;stroke-width:4\"/><line x1=\"464.135\" y1=\"61.891\" x2=\"468.184\" y2=\"63.192\" stroke-linecap=\"round\" style=\"stroke:white;stroke-width:4\"/><line x1=\"468.184\" y1=\"63.192\" x2=\"472.108\" y2=\"64.832\" stroke-linecap=\"round\" style=\"stroke:white;stroke-width:4\"/><line x1=\"472.108\" y1=\"64.832\" x2=\"475.878\" y2=\"66.8\" stroke-linecap=\"round\" style=\"stroke:white;stroke-width:4\"/>\n",
       "        <g visibility=hidden transform=\"rotate(120.0,475.878,66.8) translate(457.878, 48.8)\">\n",
       "<path style=\" stroke:none;fill-rule:evenodd;fill:white;fill-opacity:1;\" d=\"M 18.214844 0.632812 C 16.109375 1.800781 15.011719 4.074219 15.074219 7.132812 L 15.085938 7.652344 L 14.785156 7.496094 C 13.476562 6.824219 11.957031 6.671875 10.40625 7.066406 C 8.46875 7.550781 6.515625 9.15625 4.394531 11.992188 C 3.0625 13.777344 2.679688 14.636719 3.042969 15.027344 L 3.15625 15.152344 L 3.519531 15.152344 C 4.238281 15.152344 4.828125 14.886719 8.1875 13.039062 C 9.386719 12.378906 10.371094 11.839844 10.378906 11.839844 C 10.386719 11.839844 10.355469 11.929688 10.304688 12.035156 C 9.832031 13.09375 9.257812 14.820312 8.96875 16.078125 C 7.914062 20.652344 8.617188 24.53125 11.070312 27.660156 C 11.351562 28.015625 11.363281 27.914062 10.972656 28.382812 C 8.925781 30.84375 7.945312 33.28125 8.238281 35.1875 C 8.289062 35.527344 8.28125 35.523438 8.917969 35.523438 C 10.941406 35.523438 13.074219 34.207031 15.136719 31.6875 C 15.359375 31.417969 15.328125 31.425781 15.5625 31.574219 C 16.292969 32.042969 18.023438 32.964844 18.175781 32.964844 C 18.335938 32.964844 19.941406 32.210938 20.828125 31.71875 C 20.996094 31.625 21.136719 31.554688 21.136719 31.558594 C 21.203125 31.664062 21.898438 32.414062 22.222656 32.730469 C 23.835938 34.300781 25.5625 35.132812 27.582031 35.300781 C 27.90625 35.328125 27.9375 35.308594 28.007812 34.984375 C 28.382812 33.242188 27.625 30.925781 25.863281 28.425781 L 25.542969 27.96875 L 25.699219 27.785156 C 28.945312 23.960938 29.132812 18.699219 26.257812 11.96875 L 26.207031 11.84375 L 27.945312 12.703125 C 31.53125 14.476562 32.316406 14.800781 33.03125 14.800781 C 33.976562 14.800781 33.78125 13.9375 32.472656 12.292969 C 28.519531 7.355469 25.394531 5.925781 21.921875 7.472656 L 21.558594 7.636719 L 21.578125 7.542969 C 21.699219 6.992188 21.761719 5.742188 21.699219 5.164062 C 21.496094 3.296875 20.664062 1.964844 19.003906 0.855469 C 18.480469 0.503906 18.457031 0.5 18.214844 0.632812\"/>\n",
       "</g>\n",
       "      </svg>\n",
       "    "
      ],
      "text/plain": [
       "<IPython.core.display.HTML object>"
      ]
     },
     "metadata": {},
     "output_type": "display_data"
    }
   ],
   "source": [
    "from ColabTurtle.Turtle import *\n",
    "import math\n",
    "\n",
    "initializeTurtle(initial_speed=13)\n",
    "\n",
    "def circle(radius, extent=360, steps=40, direction='left'):\n",
    "    dictionary = {'left': left, 'right': right}\n",
    "\n",
    "    if extent < 360 and steps == 360:\n",
    "        steps = extent\n",
    "\n",
    "    theta = extent/steps\n",
    "    step_size = 2*radius*math.sin(math.radians(theta/2))\n",
    "\n",
    "    dictionary[direction](theta/2)\n",
    "    forward(step_size)\n",
    "\n",
    "    for i in range(1, steps):\n",
    "        dictionary[direction](theta)\n",
    "        forward(step_size)\n",
    "\n",
    "    dictionary[direction](theta/2)\n",
    "\n",
    "\n",
    "right(120)\n",
    "circle(radius=50, direction='left', extent=195)\n",
    "circle(radius=50, direction='right', extent=195)\n",
    "hideturtle()\n"
   ]
  },
  {
   "cell_type": "code",
   "execution_count": null,
   "metadata": {},
   "outputs": [],
   "source": []
  }
 ],
 "metadata": {
  "kernelspec": {
   "display_name": "Python 3 (ipykernel)",
   "language": "python",
   "name": "python3"
  },
  "language_info": {
   "codemirror_mode": {
    "name": "ipython",
    "version": 3
   },
   "file_extension": ".py",
   "mimetype": "text/x-python",
   "name": "python",
   "nbconvert_exporter": "python",
   "pygments_lexer": "ipython3",
   "version": "3.9.12"
  },
  "vscode": {
   "interpreter": {
    "hash": "e7370f93d1d0cde622a1f8e1c04877d8463912d04d973331ad4851f04de6915a"
   }
  }
 },
 "nbformat": 4,
 "nbformat_minor": 2
}
