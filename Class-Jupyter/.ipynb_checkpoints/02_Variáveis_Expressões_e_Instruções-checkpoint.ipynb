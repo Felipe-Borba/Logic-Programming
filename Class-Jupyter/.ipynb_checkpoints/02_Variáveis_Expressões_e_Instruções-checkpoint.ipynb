{
 "cells": [
  {
   "cell_type": "markdown",
   "id": "15d5f32b",
   "metadata": {
    "cell_style": "center",
    "slideshow": {
     "slide_type": "slide"
    }
   },
   "source": [
    "<div style=\"text-align: center\"> <h1> Variáveis, expressões e\n",
    "instruções </h1> </div>"
   ]
  },
  {
   "cell_type": "markdown",
   "id": "131ebd21",
   "metadata": {
    "slideshow": {
     "slide_type": "subslide"
    }
   },
   "source": [
    "<div style=\"text-align: left\"> <p> Um dos recursos mais eficientes de uma linguagem de programação é a capacidade de\n",
    "manipular variáveis. Uma variável é um nome que se refere a um valor.[^1]<br>\n",
    "\n",
    "[^1]: DOWNEY AB, em Python P. pense como um cientista da computação. São Paulo: Novatec. 2016.</p> </div>"
   ]
  },
  {
   "cell_type": "markdown",
   "id": "5d92bfda",
   "metadata": {
    "slideshow": {
     "slide_type": "slide"
    }
   },
   "source": [
    "<div style=\"text-align: center\"> <h2> Instruções de atribuição </h2> </div>"
   ]
  },
  {
   "cell_type": "code",
   "execution_count": null,
   "id": "68d833fe",
   "metadata": {
    "slideshow": {
     "slide_type": "fragment"
    }
   },
   "outputs": [],
   "source": [
    "mensagem = 'Oi, tudo bem?'\n",
    "n = 10\n",
    "pi = 3.14"
   ]
  },
  {
   "cell_type": "markdown",
   "id": "1af63e35",
   "metadata": {
    "slideshow": {
     "slide_type": "slide"
    }
   },
   "source": [
    "<div style=\"text-align: center\"> <h2>Teste os tipos de variáveis</h2> </div>"
   ]
  },
  {
   "cell_type": "code",
   "execution_count": null,
   "id": "e76c758e",
   "metadata": {
    "slideshow": {
     "slide_type": "fragment"
    }
   },
   "outputs": [],
   "source": [
    "type(mensagem)"
   ]
  },
  {
   "cell_type": "code",
   "execution_count": null,
   "id": "d702b0be",
   "metadata": {
    "slideshow": {
     "slide_type": "fragment"
    }
   },
   "outputs": [],
   "source": [
    "type(n)"
   ]
  },
  {
   "cell_type": "code",
   "execution_count": null,
   "id": "8a1c5b69",
   "metadata": {
    "slideshow": {
     "slide_type": "fragment"
    }
   },
   "outputs": [],
   "source": [
    "type(pi)"
   ]
  },
  {
   "cell_type": "markdown",
   "id": "31dc87b0",
   "metadata": {
    "slideshow": {
     "slide_type": "slide"
    }
   },
   "source": [
    "<div style=\"text-align: center\"> <h2>Nomes de variáveis</h2> </div>"
   ]
  },
  {
   "cell_type": "markdown",
   "id": "aafcb39e",
   "metadata": {
    "slideshow": {
     "slide_type": "subslide"
    }
   },
   "source": [
    "<div style=\"text-align: left\"><p><strong>Atenção</strong><br>Veja o que acontece ao cadastrar uma variável com número na frente</p></div>"
   ]
  },
  {
   "cell_type": "code",
   "execution_count": null,
   "id": "fb48413b",
   "metadata": {
    "scrolled": true,
    "slideshow": {
     "slide_type": "fragment"
    }
   },
   "outputs": [],
   "source": [
    "2mensagem = \"Olá, tudo bem?\""
   ]
  },
  {
   "cell_type": "markdown",
   "id": "aacfa20e",
   "metadata": {
    "slideshow": {
     "slide_type": "slide"
    }
   },
   "source": [
    "<div style=\"text-align: left\"><p><strong>Atenção</strong><br>\n",
    "Nomes de variáveis podem ser tão longos quanto você queira.<br> Podem conter tanto letras\n",
    "como números, mas não podem começar com um número.<br> É legal usar letras maiúsculas,\n",
    "mas a convenção é usar apenas letras minúsculas para nomes de variáveis.<br>\n",
    "O caractere de sublinhar (_) pode aparecer em um nome. Muitas vezes é usado em nomes\n",
    "com várias palavras, como meu_nome ou rafael_bomaro_ferreira.</p></div>"
   ]
  },
  {
   "cell_type": "code",
   "execution_count": null,
   "id": "95cdd08c",
   "metadata": {
    "slideshow": {
     "slide_type": "slide"
    }
   },
   "outputs": [],
   "source": [
    "class = 'Olá, tudo bem?'"
   ]
  },
  {
   "cell_type": "markdown",
   "id": "4df8584a",
   "metadata": {
    "slideshow": {
     "slide_type": "fragment"
    }
   },
   "source": [
    "<div style=\"text-align: left\"><p><strong>Atenção</strong><br>\n",
    "A questão é que class é uma das palavras-chave do Python. O interpretador usa palavras-chave\n",
    "para reconhecer a estrutura do programa e elas não podem ser usadas como nomes\n",
    "de variável.</p></div>"
   ]
  },
  {
   "cell_type": "code",
   "execution_count": null,
   "id": "497966c1",
   "metadata": {
    "slideshow": {
     "slide_type": "slide"
    }
   },
   "outputs": [],
   "source": [
    "from IPython.display import Image\n",
    "from IPython.core.display import HTML \n",
    "Image(url= \"https://blogdosdados.com/wp-content/uploads/2020/06/palavras-chave-em-Python.png\")"
   ]
  },
  {
   "cell_type": "markdown",
   "id": "da4e15c8",
   "metadata": {
    "slideshow": {
     "slide_type": "slide"
    }
   },
   "source": [
    "<div style=\"text-align: center\"> <h2>Expressões e instruções</h2> </div>"
   ]
  },
  {
   "cell_type": "code",
   "execution_count": null,
   "id": "382da90f",
   "metadata": {
    "slideshow": {
     "slide_type": "fragment"
    }
   },
   "outputs": [],
   "source": [
    "15"
   ]
  },
  {
   "cell_type": "code",
   "execution_count": null,
   "id": "f7e11a9f",
   "metadata": {
    "slideshow": {
     "slide_type": "fragment"
    }
   },
   "outputs": [],
   "source": [
    "n"
   ]
  },
  {
   "cell_type": "code",
   "execution_count": null,
   "id": "797de574",
   "metadata": {
    "slideshow": {
     "slide_type": "fragment"
    }
   },
   "outputs": [],
   "source": [
    "n+5"
   ]
  },
  {
   "cell_type": "code",
   "execution_count": null,
   "id": "8c390ec4",
   "metadata": {
    "slideshow": {
     "slide_type": "fragment"
    }
   },
   "outputs": [],
   "source": [
    "n = 10\n",
    "print(n)"
   ]
  },
  {
   "cell_type": "markdown",
   "id": "ee38702d",
   "metadata": {
    "slideshow": {
     "slide_type": "slide"
    }
   },
   "source": [
    "<div style=\"text-align: center\"> <h2>Declaração Múltipla</h2> </div>"
   ]
  },
  {
   "cell_type": "code",
   "execution_count": null,
   "id": "ef9b54c7",
   "metadata": {
    "slideshow": {
     "slide_type": "fragment"
    }
   },
   "outputs": [],
   "source": [
    "pessoa1, pessoa2, pessoa3 = 'Maria', 'João', 'Rafael'"
   ]
  },
  {
   "cell_type": "code",
   "execution_count": null,
   "id": "698785ae",
   "metadata": {
    "slideshow": {
     "slide_type": "fragment"
    }
   },
   "outputs": [],
   "source": [
    "pessoa1"
   ]
  },
  {
   "cell_type": "code",
   "execution_count": null,
   "id": "689e5680",
   "metadata": {
    "slideshow": {
     "slide_type": "fragment"
    }
   },
   "outputs": [],
   "source": [
    "pessoa2"
   ]
  },
  {
   "cell_type": "code",
   "execution_count": null,
   "id": "4a8625a7",
   "metadata": {
    "slideshow": {
     "slide_type": "slide"
    }
   },
   "outputs": [],
   "source": [
    "pessoa3"
   ]
  },
  {
   "cell_type": "code",
   "execution_count": null,
   "id": "54a225ea",
   "metadata": {
    "slideshow": {
     "slide_type": "fragment"
    }
   },
   "outputs": [],
   "source": [
    "pessoa1 = pessoa2 = pessoa3"
   ]
  },
  {
   "cell_type": "code",
   "execution_count": null,
   "id": "9efaf80e",
   "metadata": {
    "slideshow": {
     "slide_type": "fragment"
    }
   },
   "outputs": [],
   "source": [
    "pessoa1"
   ]
  },
  {
   "cell_type": "code",
   "execution_count": null,
   "id": "d5bd3fb4",
   "metadata": {
    "slideshow": {
     "slide_type": "fragment"
    }
   },
   "outputs": [],
   "source": [
    "# Fique atento!!! Python é case-sensitive. Criamos a variável pessoa1, mas não a variável Pessoa1.\n",
    "# Letras maiúsculas e minúsculas tem diferença no nome da variável."
   ]
  },
  {
   "cell_type": "markdown",
   "id": "22623066",
   "metadata": {
    "slideshow": {
     "slide_type": "slide"
    }
   },
   "source": [
    "<div style=\"text-align: center\"> <h2>Modo script</h2> </div>"
   ]
  },
  {
   "cell_type": "code",
   "execution_count": null,
   "id": "d0c6afb9",
   "metadata": {
    "slideshow": {
     "slide_type": "fragment"
    }
   },
   "outputs": [],
   "source": [
    "5\n",
    "x= 5\n",
    "x + 1"
   ]
  },
  {
   "cell_type": "markdown",
   "id": "df52c479",
   "metadata": {
    "slideshow": {
     "slide_type": "subslide"
    }
   },
   "source": [
    "<div style=\"text-align: left\">\n",
    "No script não recebe nenhuma saída. Uma expressão, por conta própria, não tem efeito visível no modo script. O Python,\n",
    "na verdade, avalia a expressão, mas não exibe o valor a menos que você especifique:.</div>"
   ]
  },
  {
   "cell_type": "code",
   "execution_count": null,
   "id": "a7013ad2",
   "metadata": {
    "slideshow": {
     "slide_type": "fragment"
    }
   },
   "outputs": [],
   "source": [
    "x = 5\n",
    "print('x + 1')"
   ]
  },
  {
   "cell_type": "markdown",
   "id": "0e2a114b",
   "metadata": {
    "slideshow": {
     "slide_type": "slide"
    }
   },
   "source": [
    "<div style=\"text-align: center\"> <h2>Ordem das Operações</h2> </div>"
   ]
  },
  {
   "cell_type": "markdown",
   "id": "d097fb0c",
   "metadata": {
    "slideshow": {
     "slide_type": "subslide"
    }
   },
   "source": [
    "<div style=\"text-align: left\"><p>\n",
    "Para operadores matemáticos, o Python segue a convenção\n",
    "matemática. O acrônimo PEMDAS (Parênteses, Exponenciação, Multiplicação e Divisão, Adição e Subtração) pode ser útil para lembrar das regras:<br> Os operadores com a mesma precedência são avaliados da esquerda para a direita\n",
    "(exceto na exponenciação). Assim, na expressão degrees / 2 * pi, a divisão\n",
    "acontece primeiro e o resultado é multiplicado por pi. Para dividir por 2π, você pode\n",
    "    usar parênteses ou escrever degrees / 2 / pi.</p></div>"
   ]
  },
  {
   "cell_type": "code",
   "execution_count": null,
   "id": "433a6189",
   "metadata": {
    "slideshow": {
     "slide_type": "fragment"
    }
   },
   "outputs": [],
   "source": [
    "2*(3-1)"
   ]
  },
  {
   "cell_type": "code",
   "execution_count": null,
   "id": "f431ead6",
   "metadata": {
    "slideshow": {
     "slide_type": "fragment"
    }
   },
   "outputs": [],
   "source": [
    "2/2*4"
   ]
  },
  {
   "cell_type": "markdown",
   "id": "5bc35aa2",
   "metadata": {
    "slideshow": {
     "slide_type": "slide"
    }
   },
   "source": [
    "<div style=\"text-align: center\"> <h2>Operações com strings</h2> </div>"
   ]
  },
  {
   "cell_type": "markdown",
   "id": "907e320e",
   "metadata": {
    "slideshow": {
     "slide_type": "subslide"
    }
   },
   "source": [
    "<div style=\"text-align: left\"><p>\n",
    "Em geral não é possível executar operação matemáticas com strings, exceto em casos de + e *. Onde + executa uma concatenação de strings</p></div>"
   ]
  },
  {
   "cell_type": "code",
   "execution_count": null,
   "id": "efc72853",
   "metadata": {
    "slideshow": {
     "slide_type": "fragment"
    }
   },
   "outputs": [],
   "source": [
    "primeiro = 'o'"
   ]
  },
  {
   "cell_type": "code",
   "execution_count": null,
   "id": "cd49e9e6",
   "metadata": {
    "slideshow": {
     "slide_type": "fragment"
    }
   },
   "outputs": [],
   "source": [
    "segundo = 'i'"
   ]
  },
  {
   "cell_type": "code",
   "execution_count": null,
   "id": "bf86f883",
   "metadata": {
    "slideshow": {
     "slide_type": "fragment"
    }
   },
   "outputs": [],
   "source": [
    "primeiro + segundo"
   ]
  },
  {
   "cell_type": "markdown",
   "id": "e5a69b43",
   "metadata": {
    "slideshow": {
     "slide_type": "subslide"
    }
   },
   "source": [
    "<div style=\"text-align: left\"><p>\n",
    "O operador * executa repetição</p></div>"
   ]
  },
  {
   "cell_type": "code",
   "execution_count": null,
   "id": "5157be64",
   "metadata": {
    "slideshow": {
     "slide_type": "fragment"
    }
   },
   "outputs": [],
   "source": [
    "'repetir'*3"
   ]
  },
  {
   "cell_type": "markdown",
   "id": "e45f928d",
   "metadata": {
    "slideshow": {
     "slide_type": "slide"
    }
   },
   "source": [
    "<div style=\"text-align: center\"> <h2>Comentários</h2> </div>"
   ]
  },
  {
   "cell_type": "code",
   "execution_count": null,
   "id": "94a875d9",
   "metadata": {
    "slideshow": {
     "slide_type": "fragment"
    }
   },
   "outputs": [],
   "source": [
    "#Assim eu posso fazer comentários para entender em qual parte do programa eu estou"
   ]
  },
  {
   "cell_type": "code",
   "execution_count": null,
   "id": "b1ca8651",
   "metadata": {
    "slideshow": {
     "slide_type": "fragment"
    }
   },
   "outputs": [],
   "source": [
    "s = 5 #metros"
   ]
  },
  {
   "cell_type": "markdown",
   "id": "2438b5f6",
   "metadata": {
    "slideshow": {
     "slide_type": "slide"
    }
   },
   "source": [
    "<div style=\"text-align: center\"> <h2>Depuração</h2> </div>"
   ]
  },
  {
   "cell_type": "markdown",
   "id": "ee2c73d6",
   "metadata": {
    "slideshow": {
     "slide_type": "slide"
    }
   },
   "source": [
    "<div style=\"text-align: left\"><p>\n",
    "Há três tipos de erros que podem ocorrer em um programa: \n",
    "<br><br>Erro de sintaxe<br>\n",
    "A “sintaxe” refere-se à estrutura de um programa e suas respectivas regras. Por\n",
    "exemplo, os parênteses devem vir em pares correspondentes, então (1 + 2) é legal,\n",
    "mas 8) é um erro de sintaxe.\n",
    "Se houver um erro de sintaxe em algum lugar no seu programa, o Python exibe uma\n",
    "mensagem de erro e para, e não será possível executar o programa. \n",
    "<br><br>Erro de tempo de execução<br>\n",
    "O segundo tipo de erro é o erro de tempo de execução, assim chamado porque o erro\n",
    "não aparece até que o programa seja executado. Esses erros também se chamam de\n",
    "exceções porque normalmente indicam que algo excepcional (e ruim) aconteceu.\n",
    "       </p></div>"
   ]
  },
  {
   "cell_type": "markdown",
   "id": "5c4007dc",
   "metadata": {
    "slideshow": {
     "slide_type": "subslide"
    }
   },
   "source": [
    "Erro semântico\n",
    "\n",
    "O terceiro tipo do erro é “semântico”, ou seja, relacionado ao significado. Se houver\n",
    "um erro semântico no seu programa, ele será executado sem gerar mensagens de erro,\n",
    "mas não vai fazer a coisa certa. Vai fazer algo diferente. Especificamente, vai fazer o\n",
    "que você disser para fazer."
   ]
  }
 ],
 "metadata": {
  "celltoolbar": "Slideshow",
  "kernelspec": {
   "display_name": "Python 3 (ipykernel)",
   "language": "python",
   "name": "python3"
  },
  "language_info": {
   "codemirror_mode": {
    "name": "ipython",
    "version": 3
   },
   "file_extension": ".py",
   "mimetype": "text/x-python",
   "name": "python",
   "nbconvert_exporter": "python",
   "pygments_lexer": "ipython3",
   "version": "3.9.12"
  }
 },
 "nbformat": 4,
 "nbformat_minor": 5
}
