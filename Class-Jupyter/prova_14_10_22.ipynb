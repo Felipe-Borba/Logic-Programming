{
 "cells": [
  {
   "cell_type": "code",
   "execution_count": null,
   "metadata": {},
   "outputs": [],
   "source": [
    "10 + 10 * 4"
   ]
  },
  {
   "cell_type": "code",
   "execution_count": null,
   "metadata": {},
   "outputs": [],
   "source": [
    "Pow(2,5)"
   ]
  },
  {
   "cell_type": "code",
   "execution_count": null,
   "metadata": {},
   "outputs": [],
   "source": [
    "pow(2,5)"
   ]
  },
  {
   "cell_type": "code",
   "execution_count": null,
   "metadata": {},
   "outputs": [],
   "source": [
    "number=3.8975\n",
    "round(number,3)"
   ]
  },
  {
   "cell_type": "code",
   "execution_count": null,
   "metadata": {},
   "outputs": [],
   "source": [
    "nome=\"Rafael\"\n",
    "idade=31\n",
    "type(idade)"
   ]
  },
  {
   "cell_type": "code",
   "execution_count": null,
   "metadata": {},
   "outputs": [],
   "source": [
    "x= 10\n",
    "x + 1\n",
    "print(x)"
   ]
  },
  {
   "cell_type": "code",
   "execution_count": null,
   "metadata": {},
   "outputs": [],
   "source": [
    "x= 15\n",
    "x = x + 1\n",
    "print(\"x\")"
   ]
  },
  {
   "cell_type": "code",
   "execution_count": null,
   "metadata": {},
   "outputs": [],
   "source": [
    "x= 15\n",
    "x + 1"
   ]
  },
  {
   "cell_type": "code",
   "execution_count": null,
   "metadata": {},
   "outputs": [],
   "source": [
    "largura=input(\"Digite a largura: \")\n",
    "comprimento=input(\"Digite o comprimento: \")\n",
    "area=largura*comprimento\n",
    "print(\"A Area é igual a: \", area)\n",
    "\n"
   ]
  },
  {
   "cell_type": "markdown",
   "metadata": {},
   "source": [
    "Escreva um algoritmo que leia valores para as variáveis A, B e C e calcule:   \n",
    "1- Área do triângulo, considerando que A é a base e B a altura (A*B)/2   \n",
    "2- Área do trapézio, considerando que A é a base menor, B a base maior e C a altura ((A+B)*C)/2   \n",
    "3- Área do quadrado sendo A o lado (A * A)   \n",
    "4- Área do retângulo, considerando A e B os lados (A * B)   \n",
    "5- Área do losango, considerando A a diagonal maior e B a menor (A * B)/2   "
   ]
  },
  {
   "cell_type": "code",
   "execution_count": null,
   "metadata": {},
   "outputs": [],
   "source": [
    "A = float(input(\"Digite o valor de A: \"))\n",
    "B = float(input(\"Digite o valor de B: \"))\n",
    "C = float(input(\"Digite o valor de C: \"))\n",
    "\n",
    "print(\"Área do triângulo:\", (A * B) / 2)\n",
    "print(\"Área do trapézio:\", ((A+B)*C)/2)\n",
    "print(\"Área do quadrado:\", (A * A))\n",
    "print(\"Área do retângulo:\", (A * B))\n",
    "print(\"Área do losango:\", (A * B)/2)"
   ]
  },
  {
   "cell_type": "code",
   "execution_count": null,
   "metadata": {},
   "outputs": [],
   "source": []
  }
 ],
 "metadata": {
  "kernelspec": {
   "display_name": "Python 3.10.7 64-bit",
   "language": "python",
   "name": "python3"
  },
  "language_info": {
   "codemirror_mode": {
    "name": "ipython",
    "version": 3
   },
   "file_extension": ".py",
   "mimetype": "text/x-python",
   "name": "python",
   "nbconvert_exporter": "python",
   "pygments_lexer": "ipython3",
   "version": "3.10.7"
  },
  "orig_nbformat": 4,
  "vscode": {
   "interpreter": {
    "hash": "e7370f93d1d0cde622a1f8e1c04877d8463912d04d973331ad4851f04de6915a"
   }
  }
 },
 "nbformat": 4,
 "nbformat_minor": 2
}
