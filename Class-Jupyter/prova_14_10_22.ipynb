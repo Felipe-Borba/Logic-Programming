{
 "cells": [
  {
   "cell_type": "code",
   "execution_count": 2,
   "metadata": {},
   "outputs": [
    {
     "data": {
      "text/plain": [
       "50"
      ]
     },
     "execution_count": 2,
     "metadata": {},
     "output_type": "execute_result"
    }
   ],
   "source": [
    "10 + 10 * 4"
   ]
  },
  {
   "cell_type": "code",
   "execution_count": 3,
   "metadata": {},
   "outputs": [
    {
     "ename": "NameError",
     "evalue": "name 'Pow' is not defined",
     "output_type": "error",
     "traceback": [
      "\u001b[0;31m---------------------------------------------------------------------------\u001b[0m",
      "\u001b[0;31mNameError\u001b[0m                                 Traceback (most recent call last)",
      "\u001b[1;32m/home/feipe/Documents/Logic-Programming/Class-Jupyter/prova_14_10_22.ipynb Cell 2\u001b[0m in \u001b[0;36m<cell line: 1>\u001b[0;34m()\u001b[0m\n\u001b[0;32m----> <a href='vscode-notebook-cell:/home/feipe/Documents/Logic-Programming/Class-Jupyter/prova_14_10_22.ipynb#W2sZmlsZQ%3D%3D?line=0'>1</a>\u001b[0m Pow(\u001b[39m2\u001b[39m,\u001b[39m5\u001b[39m)\n",
      "\u001b[0;31mNameError\u001b[0m: name 'Pow' is not defined"
     ]
    }
   ],
   "source": [
    "Pow(2,5)"
   ]
  },
  {
   "cell_type": "code",
   "execution_count": 4,
   "metadata": {},
   "outputs": [
    {
     "data": {
      "text/plain": [
       "32"
      ]
     },
     "execution_count": 4,
     "metadata": {},
     "output_type": "execute_result"
    }
   ],
   "source": [
    "pow(2,5)"
   ]
  },
  {
   "cell_type": "code",
   "execution_count": 5,
   "metadata": {},
   "outputs": [
    {
     "data": {
      "text/plain": [
       "3.897"
      ]
     },
     "execution_count": 5,
     "metadata": {},
     "output_type": "execute_result"
    }
   ],
   "source": [
    "number=3.8975\n",
    "round(number,3)"
   ]
  },
  {
   "cell_type": "code",
   "execution_count": 6,
   "metadata": {},
   "outputs": [
    {
     "data": {
      "text/plain": [
       "int"
      ]
     },
     "execution_count": 6,
     "metadata": {},
     "output_type": "execute_result"
    }
   ],
   "source": [
    "nome=\"Rafael\"\n",
    "idade=31\n",
    "type(idade)"
   ]
  },
  {
   "cell_type": "code",
   "execution_count": 7,
   "metadata": {},
   "outputs": [
    {
     "name": "stdout",
     "output_type": "stream",
     "text": [
      "10\n"
     ]
    }
   ],
   "source": [
    "x= 10\n",
    "x + 1\n",
    "print(x)"
   ]
  },
  {
   "cell_type": "code",
   "execution_count": 8,
   "metadata": {},
   "outputs": [
    {
     "name": "stdout",
     "output_type": "stream",
     "text": [
      "x\n"
     ]
    }
   ],
   "source": [
    "x= 15\n",
    "x = x + 1\n",
    "print(\"x\")"
   ]
  },
  {
   "cell_type": "code",
   "execution_count": 9,
   "metadata": {},
   "outputs": [
    {
     "data": {
      "text/plain": [
       "16"
      ]
     },
     "execution_count": 9,
     "metadata": {},
     "output_type": "execute_result"
    }
   ],
   "source": [
    "x= 15\n",
    "x + 1"
   ]
  },
  {
   "cell_type": "code",
   "execution_count": 10,
   "metadata": {},
   "outputs": [
    {
     "ename": "TypeError",
     "evalue": "can't multiply sequence by non-int of type 'str'",
     "output_type": "error",
     "traceback": [
      "\u001b[0;31m---------------------------------------------------------------------------\u001b[0m",
      "\u001b[0;31mTypeError\u001b[0m                                 Traceback (most recent call last)",
      "\u001b[1;32m/home/feipe/Documents/Logic-Programming/Class-Jupyter/prova_14_10_22.ipynb Cell 9\u001b[0m in \u001b[0;36m<cell line: 3>\u001b[0;34m()\u001b[0m\n\u001b[1;32m      <a href='vscode-notebook-cell:/home/feipe/Documents/Logic-Programming/Class-Jupyter/prova_14_10_22.ipynb#X12sZmlsZQ%3D%3D?line=0'>1</a>\u001b[0m largura\u001b[39m=\u001b[39m\u001b[39minput\u001b[39m(\u001b[39m\"\u001b[39m\u001b[39mDigite a largura: \u001b[39m\u001b[39m\"\u001b[39m)\n\u001b[1;32m      <a href='vscode-notebook-cell:/home/feipe/Documents/Logic-Programming/Class-Jupyter/prova_14_10_22.ipynb#X12sZmlsZQ%3D%3D?line=1'>2</a>\u001b[0m comprimento\u001b[39m=\u001b[39m\u001b[39minput\u001b[39m(\u001b[39m\"\u001b[39m\u001b[39mDigite o comprimento: \u001b[39m\u001b[39m\"\u001b[39m)\n\u001b[0;32m----> <a href='vscode-notebook-cell:/home/feipe/Documents/Logic-Programming/Class-Jupyter/prova_14_10_22.ipynb#X12sZmlsZQ%3D%3D?line=2'>3</a>\u001b[0m area\u001b[39m=\u001b[39mlargura\u001b[39m*\u001b[39;49mcomprimento\n\u001b[1;32m      <a href='vscode-notebook-cell:/home/feipe/Documents/Logic-Programming/Class-Jupyter/prova_14_10_22.ipynb#X12sZmlsZQ%3D%3D?line=3'>4</a>\u001b[0m \u001b[39mprint\u001b[39m(\u001b[39m\"\u001b[39m\u001b[39mA Area é igual a: \u001b[39m\u001b[39m\"\u001b[39m, area)\n",
      "\u001b[0;31mTypeError\u001b[0m: can't multiply sequence by non-int of type 'str'"
     ]
    }
   ],
   "source": [
    "largura=input(\"Digite a largura: \")\n",
    "comprimento=input(\"Digite o comprimento: \")\n",
    "area=largura*comprimento\n",
    "print(\"A Area é igual a: \", area)\n",
    "\n"
   ]
  },
  {
   "cell_type": "markdown",
   "metadata": {},
   "source": [
    "Escreva um algoritmo que leia valores para as variáveis A, B e C e calcule:   \n",
    "1- Área do triângulo, considerando que A é a base e B a altura (A*B)/2   \n",
    "2- Área do trapézio, considerando que A é a base menor, B a base maior e C a altura ((A+B)*C)/2   \n",
    "3- Área do quadrado sendo A o lado (A * A)   \n",
    "4- Área do retângulo, considerando A e B os lados (A * B)   \n",
    "5- Área do losango, considerando A a diagonal maior e B a menor (A * B)/2   "
   ]
  },
  {
   "cell_type": "code",
   "execution_count": 11,
   "metadata": {},
   "outputs": [
    {
     "name": "stdout",
     "output_type": "stream",
     "text": [
      "Área do triângulo: 100.0\n",
      "Área do trapézio: 4950.0\n",
      "Área do quadrado: 100.0\n",
      "Área do retângulo: 200.0\n",
      "Área do losango: 100.0\n"
     ]
    }
   ],
   "source": [
    "A = float(input(\"Digite o valor de A: \"))\n",
    "B = float(input(\"Digite o valor de B: \"))\n",
    "C = float(input(\"Digite o valor de C: \"))\n",
    "\n",
    "print(\"Área do triângulo:\", (A * B) / 2)\n",
    "print(\"Área do trapézio:\", ((A+B)*C)/2)\n",
    "print(\"Área do quadrado:\", (A * A))\n",
    "print(\"Área do retângulo:\", (A * B))\n",
    "print(\"Área do losango:\", (A * B)/2)"
   ]
  },
  {
   "cell_type": "code",
   "execution_count": null,
   "metadata": {},
   "outputs": [],
   "source": []
  }
 ],
 "metadata": {
  "kernelspec": {
   "display_name": "Python 3.10.7 64-bit",
   "language": "python",
   "name": "python3"
  },
  "language_info": {
   "codemirror_mode": {
    "name": "ipython",
    "version": 3
   },
   "file_extension": ".py",
   "mimetype": "text/x-python",
   "name": "python",
   "nbconvert_exporter": "python",
   "pygments_lexer": "ipython3",
   "version": "3.10.7"
  },
  "orig_nbformat": 4,
  "vscode": {
   "interpreter": {
    "hash": "e7370f93d1d0cde622a1f8e1c04877d8463912d04d973331ad4851f04de6915a"
   }
  }
 },
 "nbformat": 4,
 "nbformat_minor": 2
}
