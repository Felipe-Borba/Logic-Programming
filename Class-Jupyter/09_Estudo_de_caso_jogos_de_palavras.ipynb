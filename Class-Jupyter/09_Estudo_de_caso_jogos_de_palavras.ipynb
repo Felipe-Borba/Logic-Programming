{
 "cells": [
  {
   "cell_type": "markdown",
   "id": "15d5f32b",
   "metadata": {},
   "source": [
    "<div style=\"text-align: center\"> <h1> \n",
    "Estudo de caso: jogos de\n",
    "palavras\n",
    "    </h1> </div>"
   ]
  },
  {
   "cell_type": "markdown",
   "id": "e00c889a",
   "metadata": {},
   "source": [
    "Vamos estudar o caso que envolve solucionar quebra-cabeças\n",
    "usando palavras com certas propriedades. Por exemplo, encontraremos os palíndromos\n",
    "mais longos em inglês e procuraremos palavras cujas letras apareçam em ordem\n",
    "alfabética."
   ]
  },
  {
   "cell_type": "markdown",
   "id": "fe474443",
   "metadata": {},
   "source": [
    "<div style=\"text-align: center\"> <h2> \n",
    "Leitura de listas de palavras\n",
    "    </h2> </div>"
   ]
  },
  {
   "cell_type": "markdown",
   "id": "cf3cc30d",
   "metadata": {},
   "source": [
    "Vamos usar uma lista de palavras em inglês. Há muitas\n",
    "listas de palavras disponíveis na internet, mas a mais conveniente ao nosso propósito é\n",
    "uma das listas de palavras disponibilizadas em domínio público por Grady Ward (ver http://wikipedia.org/wiki/Moby_Project). É uma lista\n",
    "de 113.809 palavras cruzadas oficiais; isto é, as palavras que se consideram válidas em\n",
    "quebra-cabeças de palavras cruzadas e outros jogos de palavras. Na coleção Moby, o nome\n",
    "do arquivo é 113809of.fic; você pode baixar uma cópia, com um nome mais simples como\n",
    "words.txt, de http://thinkpython2.com/code/words.txt.\n",
    "Este arquivo está em texto simples, então você pode abri-lo com um editor de texto, mas\n",
    "também pode lê-lo no Python. A função integrada open recebe o nome do arquivo como\n",
    "um parâmetro e retorna um objeto de arquivo que você pode usar para ler o arquivo."
   ]
  },
  {
   "cell_type": "code",
   "execution_count": null,
   "id": "f5e1a563",
   "metadata": {},
   "outputs": [],
   "source": [
    "\"\"\"fin é um nome comum de objeto de arquivo usado para entrada de dados. O objeto de\n",
    "arquivo oferece vários métodos de leitura, inclusive readline, que lê caracteres no arquivo\n",
    "até chegar a um comando de nova linha, devolvendo o resultado como uma string\"\"\"\n",
    "fin = open('words.txt')"
   ]
  },
  {
   "cell_type": "code",
   "execution_count": null,
   "id": "d370a21e",
   "metadata": {},
   "outputs": [],
   "source": [
    "fin.readline()"
   ]
  },
  {
   "cell_type": "markdown",
   "id": "52cacef3",
   "metadata": {},
   "source": [
    "\"\"\"A primeira palavra nesta lista específica é “aa”, uma espécie de lava."
   ]
  },
  {
   "cell_type": "markdown",
   "id": "74ba91a2",
   "metadata": {},
   "source": [
    "O objeto de arquivo grava a posição em que está no arquivo, então se você chamar\n",
    "readline mais uma vez, receberá a seguinte palavra:"
   ]
  },
  {
   "cell_type": "code",
   "execution_count": null,
   "id": "ce33f439",
   "metadata": {},
   "outputs": [],
   "source": [
    "fin.readline()"
   ]
  },
  {
   "cell_type": "code",
   "execution_count": null,
   "id": "e8911eec",
   "metadata": {},
   "outputs": [],
   "source": [
    "\"\"\"Você também pode usar um objeto de arquivo como parte de um loop for. Este programa\n",
    "lê words.txt e imprime cada palavra, uma por linha:\"\"\"\n",
    "fin = open('words.txt')\n",
    "for line in fin:\n",
    "    word = line.strip()\n",
    "    print(word)"
   ]
  }
 ],
 "metadata": {
  "kernelspec": {
   "display_name": "Python 3 (ipykernel)",
   "language": "python",
   "name": "python3"
  },
  "language_info": {
   "codemirror_mode": {
    "name": "ipython",
    "version": 3
   },
   "file_extension": ".py",
   "mimetype": "text/x-python",
   "name": "python",
   "nbconvert_exporter": "python",
   "pygments_lexer": "ipython3",
   "version": "3.9.7"
  }
 },
 "nbformat": 4,
 "nbformat_minor": 5
}
