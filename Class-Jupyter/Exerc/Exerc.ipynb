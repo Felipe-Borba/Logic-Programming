{
 "cells": [
  {
   "cell_type": "markdown",
   "id": "5d92bfda",
   "metadata": {
    "slideshow": {
     "slide_type": "slide"
    }
   },
   "source": [
    "<div style=\"text-align: center\"> <h2> Exercícios </h2> </div>"
   ]
  },
  {
   "cell_type": "markdown",
   "id": "1af63e35",
   "metadata": {
    "slideshow": {
     "slide_type": "slide"
    }
   },
   "source": [
    "<div style=\"text-align: center\"> <h2> Responda abaixo os tipos de variáveis</h2> </div>"
   ]
  },
  {
   "cell_type": "code",
   "execution_count": 32,
   "id": "68d833fe",
   "metadata": {
    "slideshow": {
     "slide_type": "fragment"
    }
   },
   "outputs": [
    {
     "name": "stdout",
     "output_type": "stream",
     "text": [
      "<class 'str'>\n",
      "<class 'int'>\n",
      "<class 'float'>\n"
     ]
    }
   ],
   "source": [
    "mensagem = 'Oi, tudo bem?' #string\n",
    "print(type(mensagem))\n",
    "n = 10 #inteiro\n",
    "print(type(n))\n",
    "pi = 3.14 #flutuante\n",
    "print(type(pi))"
   ]
  },
  {
   "cell_type": "code",
   "execution_count": 3,
   "id": "a1c304a3",
   "metadata": {
    "slideshow": {
     "slide_type": "fragment"
    }
   },
   "outputs": [
    {
     "data": {
      "text/plain": [
       "str"
      ]
     },
     "execution_count": 3,
     "metadata": {},
     "output_type": "execute_result"
    }
   ],
   "source": [
    "type(mensagem)"
   ]
  },
  {
   "cell_type": "code",
   "execution_count": 11,
   "id": "9503c472",
   "metadata": {
    "slideshow": {
     "slide_type": "fragment"
    }
   },
   "outputs": [
    {
     "data": {
      "text/plain": [
       "int"
      ]
     },
     "execution_count": 11,
     "metadata": {},
     "output_type": "execute_result"
    }
   ],
   "source": [
    "type(n)"
   ]
  },
  {
   "cell_type": "code",
   "execution_count": 12,
   "id": "f89b9b29",
   "metadata": {
    "slideshow": {
     "slide_type": "fragment"
    }
   },
   "outputs": [
    {
     "data": {
      "text/plain": [
       "float"
      ]
     },
     "execution_count": 12,
     "metadata": {},
     "output_type": "execute_result"
    }
   ],
   "source": [
    "type(pi)"
   ]
  },
  {
   "cell_type": "markdown",
   "id": "aafcb39e",
   "metadata": {
    "slideshow": {
     "slide_type": "subslide"
    }
   },
   "source": [
    "<div style=\"text-align: left\"><p><strong>Atenção</strong><br>O que acontece ao cadastrar uma variável com número na frente?</p></div>"
   ]
  },
  {
   "cell_type": "code",
   "execution_count": 33,
   "id": "5d041da0",
   "metadata": {},
   "outputs": [
    {
     "ename": "SyntaxError",
     "evalue": "invalid decimal literal (1354141844.py, line 2)",
     "output_type": "error",
     "traceback": [
      "\u001b[0;36m  Input \u001b[0;32mIn [33]\u001b[0;36m\u001b[0m\n\u001b[0;31m    3p = 2\u001b[0m\n\u001b[0m    ^\u001b[0m\n\u001b[0;31mSyntaxError\u001b[0m\u001b[0;31m:\u001b[0m invalid decimal literal\n"
     ]
    }
   ],
   "source": [
    "# da um erro de sintase\n",
    "3p = 2"
   ]
  },
  {
   "cell_type": "code",
   "execution_count": 5,
   "id": "497966c1",
   "metadata": {
    "slideshow": {
     "slide_type": "slide"
    }
   },
   "outputs": [
    {
     "data": {
      "text/html": [
       "<img src=\"https://images.ctfassets.net/hrltx12pl8hq/7yQR5uJhwEkRfjwMFJ7bUK/dc52a0913e8ff8b5c276177890eb0129/offset_comp_772626-opt.jpg?fit=fill&w=800&h=300\"/>"
      ],
      "text/plain": [
       "<IPython.core.display.Image object>"
      ]
     },
     "execution_count": 5,
     "metadata": {},
     "output_type": "execute_result"
    }
   ],
   "source": [
    "\"Para adicionar uma imagem utilize o código abaixo\"\n",
    "from IPython.display import Image\n",
    "from IPython.core.display import HTML \n",
    "Image(url= \"https://images.ctfassets.net/hrltx12pl8hq/7yQR5uJhwEkRfjwMFJ7bUK/dc52a0913e8ff8b5c276177890eb0129/offset_comp_772626-opt.jpg?fit=fill&w=800&h=300\")"
   ]
  },
  {
   "cell_type": "markdown",
   "id": "ee38702d",
   "metadata": {
    "slideshow": {
     "slide_type": "slide"
    }
   },
   "source": [
    "<div style=\"text-align: center\"> <h2>Como realizar uma declaração de variável múltipla?</h2> </div>"
   ]
  },
  {
   "cell_type": "code",
   "execution_count": 18,
   "id": "e01cf565",
   "metadata": {},
   "outputs": [
    {
     "name": "stdout",
     "output_type": "stream",
     "text": [
      "22 44\n"
     ]
    }
   ],
   "source": [
    "var1, var2 = 22, 44\n",
    "\n",
    "print(var1, var2)"
   ]
  },
  {
   "cell_type": "markdown",
   "id": "22623066",
   "metadata": {
    "slideshow": {
     "slide_type": "slide"
    }
   },
   "source": [
    "<div style=\"text-align: center\"> <h2>Teste o modo script no jupyter e em outra IDE</h2> </div>"
   ]
  },
  {
   "cell_type": "code",
   "execution_count": 6,
   "id": "d0c6afb9",
   "metadata": {
    "slideshow": {
     "slide_type": "fragment"
    },
    "tags": []
   },
   "outputs": [
    {
     "data": {
      "text/plain": [
       "6"
      ]
     },
     "execution_count": 6,
     "metadata": {},
     "output_type": "execute_result"
    }
   ],
   "source": [
    "5\n",
    "x= 5\n",
    "x + 1"
   ]
  },
  {
   "cell_type": "markdown",
   "id": "df52c479",
   "metadata": {
    "slideshow": {
     "slide_type": "subslide"
    }
   },
   "source": [
    "<div style=\"text-align: left\">\n",
    "No script não recebe nenhuma saída. Uma expressão, por conta própria, não tem efeito visível no modo script. O Python,\n",
    "na verdade, avalia a expressão, mas não exibe o valor a menos que você especifique:.</div>"
   ]
  },
  {
   "cell_type": "code",
   "execution_count": 7,
   "id": "a7013ad2",
   "metadata": {
    "slideshow": {
     "slide_type": "fragment"
    }
   },
   "outputs": [
    {
     "name": "stdout",
     "output_type": "stream",
     "text": [
      "x + 1\n"
     ]
    }
   ],
   "source": [
    "x = 5\n",
    "print('x + 1')"
   ]
  },
  {
   "cell_type": "markdown",
   "id": "5bc35aa2",
   "metadata": {
    "slideshow": {
     "slide_type": "slide"
    }
   },
   "source": [
    "<div style=\"text-align: center\"> <h2>Operações com strings</h2> </div>"
   ]
  },
  {
   "cell_type": "code",
   "execution_count": 15,
   "id": "efc72853",
   "metadata": {
    "slideshow": {
     "slide_type": "fragment"
    }
   },
   "outputs": [],
   "source": [
    "primeiro = 'o'"
   ]
  },
  {
   "cell_type": "code",
   "execution_count": 16,
   "id": "cd49e9e6",
   "metadata": {
    "slideshow": {
     "slide_type": "fragment"
    }
   },
   "outputs": [],
   "source": [
    "segundo = 'i'"
   ]
  },
  {
   "cell_type": "code",
   "execution_count": 21,
   "id": "bf86f883",
   "metadata": {
    "slideshow": {
     "slide_type": "fragment"
    }
   },
   "outputs": [
    {
     "data": {
      "text/plain": [
       "'Quanto dá primeiro + segundo?'"
      ]
     },
     "execution_count": 21,
     "metadata": {},
     "output_type": "execute_result"
    }
   ],
   "source": [
    "\"\"\"Quanto dá primeiro + segundo?\"\"\""
   ]
  },
  {
   "cell_type": "code",
   "execution_count": 23,
   "id": "01ee70ea",
   "metadata": {},
   "outputs": [
    {
     "name": "stdout",
     "output_type": "stream",
     "text": [
      "oi\n"
     ]
    }
   ],
   "source": [
    "# string concatenada oi\n",
    "\n",
    "print(primeiro + segundo)"
   ]
  },
  {
   "cell_type": "markdown",
   "id": "e5a69b43",
   "metadata": {
    "slideshow": {
     "slide_type": "subslide"
    }
   },
   "source": [
    "<div style=\"text-align: left\"><p>\n",
    "Execute a multiplicação do primeiro pelo segundo</p></div>"
   ]
  },
  {
   "cell_type": "code",
   "execution_count": 34,
   "id": "601d2023",
   "metadata": {},
   "outputs": [
    {
     "ename": "TypeError",
     "evalue": "can't multiply sequence by non-int of type 'str'",
     "output_type": "error",
     "traceback": [
      "\u001b[0;31m---------------------------------------------------------------------------\u001b[0m",
      "\u001b[0;31mTypeError\u001b[0m                                 Traceback (most recent call last)",
      "\u001b[1;32m/home/feipe/Documents/Logic-Programming/Class-Jupyter/Exerc/Exerc.ipynb Cell 19\u001b[0m in \u001b[0;36m<cell line: 1>\u001b[0;34m()\u001b[0m\n\u001b[0;32m----> <a href='vscode-notebook-cell:/home/feipe/Documents/Logic-Programming/Class-Jupyter/Exerc/Exerc.ipynb#X45sZmlsZQ%3D%3D?line=0'>1</a>\u001b[0m \u001b[39mprint\u001b[39m(primeiro \u001b[39m*\u001b[39;49m segundo)\n",
      "\u001b[0;31mTypeError\u001b[0m: can't multiply sequence by non-int of type 'str'"
     ]
    }
   ],
   "source": [
    "print(primeiro * segundo)"
   ]
  },
  {
   "cell_type": "code",
   "execution_count": 26,
   "id": "82e0ba76",
   "metadata": {},
   "outputs": [
    {
     "name": "stdout",
     "output_type": "stream",
     "text": [
      "2.0\n",
      "2\n"
     ]
    }
   ],
   "source": [
    "\"\"\"Conversa os números: 2 para float e 2.8 para inteiro\"\"\"\n",
    "flutuante = float(2)\n",
    "inteiro = int(2.8)\n",
    "\n",
    "print(flutuante)\n",
    "print(inteiro)\n",
    "\n"
   ]
  },
  {
   "cell_type": "code",
   "execution_count": 27,
   "id": "1b4939ef",
   "metadata": {
    "slideshow": {
     "slide_type": "fragment"
    }
   },
   "outputs": [
    {
     "name": "stdout",
     "output_type": "stream",
     "text": [
      "10\n"
     ]
    }
   ],
   "source": [
    "# Retorna o valor absoluto de -10\n",
    "print(abs(-10))\n"
   ]
  },
  {
   "cell_type": "code",
   "execution_count": 35,
   "id": "12446a2b",
   "metadata": {
    "slideshow": {
     "slide_type": "fragment"
    }
   },
   "outputs": [
    {
     "name": "stdout",
     "output_type": "stream",
     "text": [
      "8.79\n"
     ]
    }
   ],
   "source": [
    "# Retorna o valor com arredondamento de 8.7890 em duas casas decimais\n",
    "print(round(8.7890, 2))\n"
   ]
  },
  {
   "cell_type": "code",
   "execution_count": 39,
   "id": "e2e1df93",
   "metadata": {
    "slideshow": {
     "slide_type": "fragment"
    }
   },
   "outputs": [
    {
     "name": "stdout",
     "output_type": "stream",
     "text": [
      "32\n"
     ]
    }
   ],
   "source": [
    "# 2 elevado a 5 dá quanto?\n",
    "print(pow(2, 5))\n"
   ]
  },
  {
   "cell_type": "code",
   "execution_count": 31,
   "id": "8aa49f3d",
   "metadata": {},
   "outputs": [
    {
     "data": {
      "text/plain": [
       "32"
      ]
     },
     "execution_count": 31,
     "metadata": {},
     "output_type": "execute_result"
    }
   ],
   "source": [
    "pow(2,5)"
   ]
  },
  {
   "cell_type": "markdown",
   "id": "f9aedd78",
   "metadata": {
    "slideshow": {
     "slide_type": "fragment"
    }
   },
   "source": [
    "Desenvolva um algoritmo e um fluxograma para um\n",
    "programa que permita com que o usuário insira quatro\n",
    "números. \n",
    "O programa deverá imprimir a média ponderada, sabendo-se que os pesos são respectivamente: 1, 2, 3 e 4"
   ]
  },
  {
   "cell_type": "code",
   "execution_count": 53,
   "id": "a0ea4e99",
   "metadata": {},
   "outputs": [
    {
     "name": "stdout",
     "output_type": "stream",
     "text": [
      "nota 1\n",
      "4.0\n",
      "nota 2\n",
      "5.0\n",
      "nota 3\n",
      "6.0\n",
      "nota 4\n",
      "7.0\n",
      "a média é: 6.0\n"
     ]
    }
   ],
   "source": [
    "media = 0\n",
    "for i in range(1,5):\n",
    "    print(\"nota\", i)\n",
    "    nota = float(input())\n",
    "    print(nota)\n",
    "    media += nota * (i/10)\n",
    "\n",
    "print(\"a média é:\", media)"
   ]
  },
  {
   "cell_type": "markdown",
   "id": "486ea5f8",
   "metadata": {
    "slideshow": {
     "slide_type": "fragment"
    }
   },
   "source": [
    "Todo restaurante, embora por lei não possa obrigar o cliente a\n",
    "pagar, cobra 10% do valor da conta como taxa de serviço. Elabore\n",
    "um algoritmo e um fluxograma que leia o valor gasto com as\n",
    "despesas realizadas em um restaurante e exiba o valor total com a\n",
    "taxa de serviço (conforme exemplo).   \n",
    "Por favor digite o valor da conta (em reais): 75   \n",
    "Valor da taxa de serviço: 7.5 reais   \n",
    "Valor total da conta (com taxa de serviço): 82.5 reais   "
   ]
  },
  {
   "cell_type": "code",
   "execution_count": 59,
   "id": "e7f9b678",
   "metadata": {},
   "outputs": [
    {
     "name": "stdout",
     "output_type": "stream",
     "text": [
      "Por favor digite o valor da conta (em reais): 75\n",
      "Valor da taxa de serviço: 7.5 reais\n",
      "Valor total da conta (com taxa de serviço): 82.5 reais\n"
     ]
    }
   ],
   "source": [
    "print(\"Por favor digite o valor da conta (em reais): \", end='')\n",
    "despesas = int(input())\n",
    "print(despesas)\n",
    "\n",
    "taxa = despesas * 0.1\n",
    "print(\"Valor da taxa de serviço:\", taxa, \"reais\")\n",
    "\n",
    "print(\"Valor total da conta (com taxa de serviço):\", despesas + taxa, \"reais\")"
   ]
  },
  {
   "cell_type": "code",
   "execution_count": 43,
   "id": "92d9e5ba",
   "metadata": {},
   "outputs": [
    {
     "name": "stdout",
     "output_type": "stream",
     "text": [
      "Por favor digite o valor da conta (em reais)100\n"
     ]
    }
   ],
   "source": [
    "valor=float(input(\"Por favor digite o valor da conta (em reais)\"))"
   ]
  },
  {
   "cell_type": "code",
   "execution_count": 45,
   "id": "24e11c1b",
   "metadata": {},
   "outputs": [],
   "source": [
    "taxa=valor*0.1\n",
    "valorfinal=valor+taxa"
   ]
  },
  {
   "cell_type": "code",
   "execution_count": 46,
   "id": "516ab8b9",
   "metadata": {},
   "outputs": [
    {
     "name": "stdout",
     "output_type": "stream",
     "text": [
      "Valor da taxa de serviço:  10.0\n"
     ]
    }
   ],
   "source": [
    "print(\"Valor da taxa de serviço: \",taxa)"
   ]
  },
  {
   "cell_type": "code",
   "execution_count": 47,
   "id": "6d841e58",
   "metadata": {},
   "outputs": [
    {
     "name": "stdout",
     "output_type": "stream",
     "text": [
      "Valor total da conta: 110.0\n"
     ]
    }
   ],
   "source": [
    "print(\"Valor total da conta:\", valorfinal)"
   ]
  },
  {
   "cell_type": "markdown",
   "id": "9fdca8a3",
   "metadata": {
    "slideshow": {
     "slide_type": "fragment"
    }
   },
   "source": [
    "Escreva um algoritmo e monte um fluxograma que leia as dimensões de um terreno (largura e profundidade) e calcule sua \n",
    "área."
   ]
  },
  {
   "cell_type": "code",
   "execution_count": 60,
   "id": "74efadca",
   "metadata": {},
   "outputs": [
    {
     "name": "stdout",
     "output_type": "stream",
     "text": [
      "largura: 10\n",
      "altura: 32\n",
      "área: 320\n"
     ]
    }
   ],
   "source": [
    "print(\"largura: \", end=\"\")\n",
    "largura = float(input())\n",
    "print(largura)\n",
    "\n",
    "print(\"altura: \", end=\"\")\n",
    "altura = float(input())\n",
    "print(altura)\n",
    "\n",
    "print(\"área:\", largura * altura)"
   ]
  },
  {
   "cell_type": "markdown",
   "id": "69ddeea4",
   "metadata": {},
   "source": [
    "Faça um algoritmo e um fluxograma que leia a idade de uma pessoa expressa em anos, meses e dias e mostre-a \n",
    "expressa apenas em dias. A idade deve ser digitada considerando três variáveis inteiras.\n"
   ]
  },
  {
   "cell_type": "code",
   "execution_count": 62,
   "id": "058023ea",
   "metadata": {},
   "outputs": [
    {
     "name": "stdout",
     "output_type": "stream",
     "text": [
      "digite idade em anos: 1995\n",
      "digite idade em mes: 9\n",
      "digite idade em dia: 1\n",
      "idade em dias:  718471\n"
     ]
    }
   ],
   "source": [
    "print(\"digite idade em anos: \", end='')\n",
    "idade_anos = int(input())\n",
    "print(idade_anos)\n",
    "\n",
    "print(\"digite idade em mes: \", end='')\n",
    "idade_mes = int(input())\n",
    "print(idade_mes)\n",
    "\n",
    "\n",
    "print(\"digite idade em dia: \", end='')\n",
    "idade_dia = int(input())\n",
    "print(idade_dia)\n",
    "\n",
    "print(\"idade em dias: \", idade_dia + idade_mes * 30 + idade_anos * 360)"
   ]
  },
  {
   "cell_type": "markdown",
   "id": "c7607374",
   "metadata": {
    "slideshow": {
     "slide_type": "fragment"
    }
   },
   "source": [
    " Uma fazenda adquiriu animais para o trabalho diário e também para produção de leite e lã. Foram \n",
    "adquiridos cavalos, vacas e ovelhas.   \n",
    "A quantidade de cada animal deve ser informada no algoritmo. Após, deve ser calculado e \n",
    "apresentado as seguintes informações:   \n",
    " Volume diário, semanal e mensal de leite produzido, considerando que cada vaca produz, na \n",
    "média, 3,2 litros/dia.   \n",
    " Volume, em quilos, de lã produzida, estimando para isso que cada ovelha produza 2,3 quilos \n",
    "de lã a cada tosquia (retirada da lã da ovelha).   \n",
    " Quantidade de ferraduras necessárias para equipar toda a tropa de cavalos"
   ]
  },
  {
   "cell_type": "code",
   "execution_count": 2,
   "id": "5064d303",
   "metadata": {},
   "outputs": [
    {
     "name": "stdout",
     "output_type": "stream",
     "text": [
      "cavalos: 20\n",
      "20\n",
      "quantidade de ferraduras para todos os cavalos: 80\n",
      "vacas: 32\n",
      "32\n",
      "leite produzido por dia: 102.4\n",
      "leite produzido por semana: 614.4000000000001\n",
      "leite produzido por mes: 3072.0\n",
      "ovelhas: 43\n",
      "43\n",
      "lã produzida: 98.89999999999999\n"
     ]
    }
   ],
   "source": [
    "print(\"cavalos: \", end=\"\")\n",
    "cavalos = int(input())\n",
    "print(cavalos)\n",
    "print(\"quantidade de ferraduras para todos os cavalos:\", cavalos * 4)\n",
    "\n",
    "print(\"vacas: \", end=\"\")\n",
    "vacas = int(input())\n",
    "print(vacas)\n",
    "leite_dia = vacas * 3.2\n",
    "print(\"leite produzido por dia:\", leite_dia)\n",
    "print(\"leite produzido por semana:\", leite_dia * 6)\n",
    "print(\"leite produzido por mes:\", leite_dia * 30)\n",
    "\n",
    "print(\"ovelhas: \", end=\"\")\n",
    "ovelhas = int(input())\n",
    "print(ovelhas)\n",
    "la_produzida = ovelhas * 2.3\n",
    "print(\"lã produzida:\", la_produzida)"
   ]
  },
  {
   "cell_type": "code",
   "execution_count": null,
   "id": "b3bcab4e",
   "metadata": {},
   "outputs": [],
   "source": []
  }
 ],
 "metadata": {
  "celltoolbar": "Slideshow",
  "kernelspec": {
   "display_name": "Python 3 (ipykernel)",
   "language": "python",
   "name": "python3"
  },
  "language_info": {
   "codemirror_mode": {
    "name": "ipython",
    "version": 3
   },
   "file_extension": ".py",
   "mimetype": "text/x-python",
   "name": "python",
   "nbconvert_exporter": "python",
   "pygments_lexer": "ipython3",
   "version": "3.9.12"
  },
  "vscode": {
   "interpreter": {
    "hash": "e7370f93d1d0cde622a1f8e1c04877d8463912d04d973331ad4851f04de6915a"
   }
  }
 },
 "nbformat": 4,
 "nbformat_minor": 5
}
