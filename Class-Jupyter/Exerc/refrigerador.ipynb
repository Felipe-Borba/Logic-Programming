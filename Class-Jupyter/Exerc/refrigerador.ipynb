{
 "cells": [
  {
   "cell_type": "markdown",
   "metadata": {},
   "source": [
    "Crie um programa que permita o vendedor da Ambev verificar se deve informar ao dono do bar que será recolhido o seu refrigerador ou não.\n",
    "\n",
    "Requisitos: O dono do bar precisa comprar 10 caixas de cerveja por mês para manter o refrigerador no estabelecimento."
   ]
  },
  {
   "cell_type": "code",
   "execution_count": null,
   "metadata": {},
   "outputs": [],
   "source": [
    "caixas = int(input('Digite o numero de caixas que o dono do bar comprou no mes'))\n",
    "if caixas < 10:\n",
    "  print('O refrigerador sera recolhido')\n",
    "else:\n",
    "  print('Tudo certo, o refrigerador nao sera recolhido')"
   ]
  }
 ],
 "metadata": {
  "kernelspec": {
   "display_name": "Python 3.10.7 64-bit",
   "language": "python",
   "name": "python3"
  },
  "language_info": {
   "codemirror_mode": {
    "name": "ipython",
    "version": 3
   },
   "file_extension": ".py",
   "mimetype": "text/x-python",
   "name": "python",
   "nbconvert_exporter": "python",
   "pygments_lexer": "ipython3",
   "version": "3.10.7"
  },
  "orig_nbformat": 4,
  "vscode": {
   "interpreter": {
    "hash": "e7370f93d1d0cde622a1f8e1c04877d8463912d04d973331ad4851f04de6915a"
   }
  }
 },
 "nbformat": 4,
 "nbformat_minor": 2
}
