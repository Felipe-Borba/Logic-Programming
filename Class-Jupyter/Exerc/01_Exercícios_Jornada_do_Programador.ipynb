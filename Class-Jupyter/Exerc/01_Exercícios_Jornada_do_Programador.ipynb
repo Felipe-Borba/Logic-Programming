{
 "cells": [
  {
   "cell_type": "markdown",
   "id": "b832a2ac",
   "metadata": {
    "slideshow": {
     "slide_type": "slide"
    }
   },
   "source": [
    "<div style=\"text-align: center\"> <p><h1> Exercícios </h1><br> DOWNEY AB, em Python P. pense como um cientista da computação. São Paulo: Novatec. 2016.</p> </div>"
   ]
  },
  {
   "cell_type": "markdown",
   "id": "eede8c88",
   "metadata": {
    "slideshow": {
     "slide_type": "slide"
    }
   },
   "source": [
    "<div style=\"text-align: left\"> <strong> Exercício 1</strong><ol>\n",
    "    <li>O que acontece se você omitir um dos parênteses ou ambos de uma instrução print?</li>\n",
    "    <li>E se omitir uma das aspas ou ambas?</li>\n",
    "    <li>Você pode usar um sinal de menos para fazer um número negativo como -2. O que\n",
    "acontece se puser um sinal de mais antes de um número? E se escrever assim: 2++2?</li>\n",
    "    <li>Na notação matemática, zeros à esquerda são aceitáveis, como em 02. O que\n",
    "acontece se você tentar usar isso no Python?</li>\n",
    "    <li>O que acontece se você tiver dois valores sem nenhum operador entre eles?</li> </ol> </div>"
   ]
  },
  {
   "cell_type": "code",
   "execution_count": null,
   "id": "f27f3cd3",
   "metadata": {
    "slideshow": {
     "slide_type": "slide"
    }
   },
   "outputs": [],
   "source": [
    "print('oi'"
   ]
  },
  {
   "cell_type": "code",
   "execution_count": null,
   "id": "9cd129be",
   "metadata": {
    "slideshow": {
     "slide_type": "slide"
    }
   },
   "outputs": [],
   "source": [
    "print('oi)"
   ]
  },
  {
   "cell_type": "code",
   "execution_count": null,
   "id": "d812b5bf",
   "metadata": {
    "slideshow": {
     "slide_type": "slide"
    }
   },
   "outputs": [],
   "source": [
    "+2\n",
    "2++2"
   ]
  },
  {
   "cell_type": "code",
   "execution_count": null,
   "id": "74bcd1be",
   "metadata": {
    "slideshow": {
     "slide_type": "slide"
    }
   },
   "outputs": [],
   "source": [
    "02"
   ]
  },
  {
   "cell_type": "code",
   "execution_count": null,
   "id": "962a3684",
   "metadata": {
    "slideshow": {
     "slide_type": "slide"
    }
   },
   "outputs": [],
   "source": [
    "a = 1\n",
    "b = 2\n",
    "a b"
   ]
  },
  {
   "cell_type": "markdown",
   "id": "aa6d9404",
   "metadata": {
    "slideshow": {
     "slide_type": "slide"
    }
   },
   "source": [
    "<div style=\"text-align: left\"><strong> Exercício 2</strong> <ol>\n",
    "    <li>Quantos segundos há em 42 minutos e 42 segundos?</li>\n",
    "    <li>Quantas milhas há em 10 quilômetros? Dica: uma milha equivale a 1,61 quilômetro.</li>\n",
    "    <li>Se você correr 10 quilômetros em 42 minutos e 42 segundos, qual é o seu passo\n",
    "médio (tempo por milha em minutos e segundos)? Qual é a sua velocidade média em\n",
    "milhas por hora?</li>\n",
    "    </ol></div>"
   ]
  },
  {
   "cell_type": "code",
   "execution_count": null,
   "id": "f1f2aa2e",
   "metadata": {
    "slideshow": {
     "slide_type": "slide"
    }
   },
   "outputs": [],
   "source": [
    "tempo = (42*60)+42\n",
    "print(tempo)"
   ]
  },
  {
   "cell_type": "code",
   "execution_count": null,
   "id": "8cc01f30",
   "metadata": {
    "slideshow": {
     "slide_type": "slide"
    }
   },
   "outputs": [],
   "source": [
    "distancia = 10 / 1.61\n",
    "print(distancia)"
   ]
  },
  {
   "cell_type": "code",
   "execution_count": null,
   "id": "f5819d32",
   "metadata": {
    "slideshow": {
     "slide_type": "slide"
    }
   },
   "outputs": [],
   "source": [
    "passo_medio = distancia / tempo\n",
    "print(passo_medio) # milhas por segundo"
   ]
  },
  {
   "cell_type": "code",
   "execution_count": null,
   "id": "d9e80dde",
   "metadata": {
    "slideshow": {
     "slide_type": "slide"
    }
   },
   "outputs": [],
   "source": [
    "passo_medio = distancia / (tempo / 60 )\n",
    "print(passo_medio) # milhas por minuto"
   ]
  },
  {
   "cell_type": "code",
   "execution_count": null,
   "id": "4ce850cd",
   "metadata": {
    "slideshow": {
     "slide_type": "slide"
    }
   },
   "outputs": [],
   "source": [
    "passo_medio = distancia / (tempo / 60 / 60 )\n",
    "print(passo_medio) # milhas por hora"
   ]
  },
  {
   "cell_type": "code",
   "execution_count": null,
   "id": "a441b46a",
   "metadata": {},
   "outputs": [],
   "source": []
  }
 ],
 "metadata": {
  "celltoolbar": "Slideshow",
  "kernelspec": {
   "display_name": "Python 3 (ipykernel)",
   "language": "python",
   "name": "python3"
  },
  "language_info": {
   "codemirror_mode": {
    "name": "ipython",
    "version": 3
   },
   "file_extension": ".py",
   "mimetype": "text/x-python",
   "name": "python",
   "nbconvert_exporter": "python",
   "pygments_lexer": "ipython3",
   "version": "3.9.12"
  }
 },
 "nbformat": 4,
 "nbformat_minor": 5
}
