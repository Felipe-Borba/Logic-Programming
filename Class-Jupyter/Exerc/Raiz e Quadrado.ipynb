{
 "cells": [
  {
   "cell_type": "code",
   "execution_count": null,
   "id": "76254789",
   "metadata": {},
   "outputs": [],
   "source": [
    "valor = int(input('Olá usuário, digite um número inteiro:'))"
   ]
  },
  {
   "cell_type": "code",
   "execution_count": null,
   "id": "134f0a12",
   "metadata": {},
   "outputs": [],
   "source": [
    "print('O quadrado de', valor,'é:', valor ** 2)"
   ]
  },
  {
   "cell_type": "code",
   "execution_count": null,
   "id": "25024891",
   "metadata": {},
   "outputs": [],
   "source": [
    "import math\n",
    "print('A raiz quadrada de', valor,'é:', math.sqrt(valor))"
   ]
  },
  {
   "cell_type": "code",
   "execution_count": null,
   "id": "6aacd273",
   "metadata": {},
   "outputs": [],
   "source": []
  }
 ],
 "metadata": {
  "kernelspec": {
   "display_name": "Python 3 (ipykernel)",
   "language": "python",
   "name": "python3"
  },
  "language_info": {
   "codemirror_mode": {
    "name": "ipython",
    "version": 3
   },
   "file_extension": ".py",
   "mimetype": "text/x-python",
   "name": "python",
   "nbconvert_exporter": "python",
   "pygments_lexer": "ipython3",
   "version": "3.9.12"
  }
 },
 "nbformat": 4,
 "nbformat_minor": 5
}
