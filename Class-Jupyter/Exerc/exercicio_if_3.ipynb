{
 "cells": [
  {
   "cell_type": "markdown",
   "metadata": {},
   "source": [
    "Desenvolva o algoritmo e o fluxograma de um programa que permita que o usuário insira dois valores inteiros. O programa então imprime na tela o maior valor dentre os dois valores inseridos. Além disso, deve mostrar se os valores são iguais.\n",
    "\n",
    "\n"
   ]
  },
  {
   "cell_type": "code",
   "execution_count": 7,
   "metadata": {},
   "outputs": [
    {
     "name": "stdout",
     "output_type": "stream",
     "text": [
      "numero 1: 2\n",
      "numero 2: 2\n",
      "Os valores são iguais\n"
     ]
    }
   ],
   "source": [
    "numero_1 = int(input('Digite primeiro valor:'))\n",
    "numero_2 = int(input('Digite segundo valor:'))\n",
    "\n",
    "print('numero 1:', numero_1)\n",
    "print('numero 2:', numero_2)\n",
    "\n",
    "if numero_1 == numero_2:\n",
    "    print('Os valores são iguais')\n",
    "elif numero_1 > numero_2:\n",
    "    print('O numero 1 é maior que o numero 2')\n",
    "else:\n",
    "    print('O numero 2 é maior que o numero 1')\n"
   ]
  },
  {
   "cell_type": "code",
   "execution_count": null,
   "metadata": {},
   "outputs": [],
   "source": []
  }
 ],
 "metadata": {
  "kernelspec": {
   "display_name": "Python 3.10.7 64-bit",
   "language": "python",
   "name": "python3"
  },
  "language_info": {
   "codemirror_mode": {
    "name": "ipython",
    "version": 3
   },
   "file_extension": ".py",
   "mimetype": "text/x-python",
   "name": "python",
   "nbconvert_exporter": "python",
   "pygments_lexer": "ipython3",
   "version": "3.10.7"
  },
  "orig_nbformat": 4,
  "vscode": {
   "interpreter": {
    "hash": "e7370f93d1d0cde622a1f8e1c04877d8463912d04d973331ad4851f04de6915a"
   }
  }
 },
 "nbformat": 4,
 "nbformat_minor": 2
}
