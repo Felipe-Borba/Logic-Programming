{
 "cells": [
  {
   "cell_type": "code",
   "execution_count": 16,
   "id": "76254789",
   "metadata": {},
   "outputs": [
    {
     "name": "stdout",
     "output_type": "stream",
     "text": [
      "Olá usuário, digite um número inteiro:9\n"
     ]
    }
   ],
   "source": [
    "valor = int(input('Olá usuário, digite um número inteiro:'))"
   ]
  },
  {
   "cell_type": "code",
   "execution_count": 20,
   "id": "134f0a12",
   "metadata": {},
   "outputs": [
    {
     "name": "stdout",
     "output_type": "stream",
     "text": [
      "O quadrado de 9 é: 81\n"
     ]
    }
   ],
   "source": [
    "print('O quadrado de', valor,'é:', valor ** 2)"
   ]
  },
  {
   "cell_type": "code",
   "execution_count": 21,
   "id": "25024891",
   "metadata": {},
   "outputs": [
    {
     "name": "stdout",
     "output_type": "stream",
     "text": [
      "A raiz quadrada de 9 é: 3.0\n"
     ]
    }
   ],
   "source": [
    "import math\n",
    "print('A raiz quadrada de', valor,'é:', math.sqrt(valor))"
   ]
  },
  {
   "cell_type": "code",
   "execution_count": null,
   "id": "6aacd273",
   "metadata": {},
   "outputs": [],
   "source": []
  }
 ],
 "metadata": {
  "kernelspec": {
   "display_name": "Python 3 (ipykernel)",
   "language": "python",
   "name": "python3"
  },
  "language_info": {
   "codemirror_mode": {
    "name": "ipython",
    "version": 3
   },
   "file_extension": ".py",
   "mimetype": "text/x-python",
   "name": "python",
   "nbconvert_exporter": "python",
   "pygments_lexer": "ipython3",
   "version": "3.9.12"
  }
 },
 "nbformat": 4,
 "nbformat_minor": 5
}
