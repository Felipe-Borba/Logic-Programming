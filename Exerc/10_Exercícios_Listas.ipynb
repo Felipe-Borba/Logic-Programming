{
 "cells": [
  {
   "cell_type": "markdown",
   "id": "b832a2ac",
   "metadata": {},
   "source": [
    "<div style=\"text-align: center\"> <p><h1> Exercícios </h1><br> DOWNEY AB, em Python P. pense como um cientista da computação. São Paulo: Novatec. 2016.</p> </div>"
   ]
  },
  {
   "cell_type": "markdown",
   "id": "d1f74df5",
   "metadata": {},
   "source": [
    "<div style=\"text-align: left\"> <strong> Exercício 1</strong><ol>\n",
    "<p>\n",
    "Escreva uma função chamada nested_sum que receba uma lista de listas de números\n",
    "inteiros e adicione os elementos de todas as listas aninhadas. Por exemplo:\n",
    "</p> </ol> </div>"
   ]
  },
  {
   "cell_type": "code",
   "execution_count": null,
   "id": "62b8ffe4",
   "metadata": {},
   "outputs": [],
   "source": [
    "t = [[1,2],[3],[4,5,6]]"
   ]
  },
  {
   "cell_type": "code",
   "execution_count": null,
   "id": "2261c8e3",
   "metadata": {},
   "outputs": [],
   "source": [
    "t"
   ]
  },
  {
   "cell_type": "code",
   "execution_count": null,
   "id": "dd11aabd",
   "metadata": {},
   "outputs": [],
   "source": [
    "nested_sum(t) #deve retornar 21"
   ]
  },
  {
   "cell_type": "markdown",
   "id": "5a4bdfd1",
   "metadata": {},
   "source": [
    "<div style=\"text-align: left\"> <strong> Exercício 2</strong><ol>\n",
    "<p>\n",
    "Escreva uma função chamada cumsum que receba uma lista de números e retorne a soma\n",
    "cumulativa; isto é, uma nova lista onde o i-ésimo elemento é a soma dos primeiros i+1\n",
    "elementos da lista original. Por exemplo:\n",
    "</p> </ol> </div>"
   ]
  },
  {
   "cell_type": "code",
   "execution_count": null,
   "id": "4c803d83",
   "metadata": {},
   "outputs": [],
   "source": [
    "t = [1,2,3]"
   ]
  },
  {
   "cell_type": "code",
   "execution_count": null,
   "id": "8d1c88d7",
   "metadata": {},
   "outputs": [],
   "source": [
    "cumsum(t) # deve retornar [1,2,6]"
   ]
  },
  {
   "cell_type": "code",
   "execution_count": null,
   "id": "7c1d1d6e",
   "metadata": {},
   "outputs": [],
   "source": []
  }
 ],
 "metadata": {
  "kernelspec": {
   "display_name": "Python 3 (ipykernel)",
   "language": "python",
   "name": "python3"
  },
  "language_info": {
   "codemirror_mode": {
    "name": "ipython",
    "version": 3
   },
   "file_extension": ".py",
   "mimetype": "text/x-python",
   "name": "python",
   "nbconvert_exporter": "python",
   "pygments_lexer": "ipython3",
   "version": "3.10.8"
  }
 },
 "nbformat": 4,
 "nbformat_minor": 5
}
